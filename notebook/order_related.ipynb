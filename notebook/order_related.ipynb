{
 "cells": [
  {
   "cell_type": "code",
   "execution_count": 10,
   "id": "1de6f277",
   "metadata": {},
   "outputs": [],
   "source": [
    "from sqlalchemy import create_engine, inspect, text\n",
    "import pandas as pd"
   ]
  },
  {
   "cell_type": "code",
   "execution_count": 85,
   "id": "fb128fd0",
   "metadata": {},
   "outputs": [],
   "source": [
    "pd.set_option('display.max_columns', None)\n",
    "pd.set_option('display.max_rows', 50)"
   ]
  },
  {
   "cell_type": "code",
   "execution_count": 58,
   "id": "26695d29",
   "metadata": {},
   "outputs": [],
   "source": [
    "import numpy as np\n",
    "import matplotlib.pyplot as plt\n",
    "import seaborn as sns\n",
    "import scipy.stats as stats\n",
    "import pingouin "
   ]
  },
  {
   "cell_type": "code",
   "execution_count": 11,
   "id": "ea0ae002",
   "metadata": {},
   "outputs": [
    {
     "name": "stdout",
     "output_type": "stream",
     "text": [
      "True\n",
      "c:\\Users\\randy\\Development\\Data Science Projects\\Olist Ecommerce SQLite\\dataset\\olist.sqlite\n"
     ]
    }
   ],
   "source": [
    "import os\n",
    "print(os.path.exists(\"../dataset/olist.sqlite\"))            # make sure file exists\n",
    "print(os.path.abspath(\"../dataset/olist.sqlite\"))          # absolute path shown"
   ]
  },
  {
   "cell_type": "code",
   "execution_count": 12,
   "id": "d238d726",
   "metadata": {},
   "outputs": [],
   "source": [
    "engine = create_engine(\"sqlite:///../dataset/olist.sqlite\", echo=True)"
   ]
  },
  {
   "cell_type": "code",
   "execution_count": 13,
   "id": "7e77144d",
   "metadata": {},
   "outputs": [
    {
     "name": "stdout",
     "output_type": "stream",
     "text": [
      "2025-08-27 22:47:27,058 INFO sqlalchemy.engine.Engine BEGIN (implicit)\n",
      "2025-08-27 22:47:27,059 INFO sqlalchemy.engine.Engine SELECT name FROM sqlite_master WHERE type='table' AND name NOT LIKE 'sqlite~_%' ESCAPE '~' ORDER BY name\n",
      "2025-08-27 22:47:27,060 INFO sqlalchemy.engine.Engine [raw sql] ()\n",
      "2025-08-27 22:47:27,063 INFO sqlalchemy.engine.Engine ROLLBACK\n",
      "['customers', 'geolocation', 'leads_closed', 'leads_qualified', 'order_items', 'order_payments', 'order_reviews', 'orders', 'product_category_name_translation', 'products', 'sellers']\n"
     ]
    }
   ],
   "source": [
    "inspector = inspect(engine)\n",
    "table_names = inspector.get_table_names()\n",
    "print(table_names)  "
   ]
  },
  {
   "cell_type": "code",
   "execution_count": null,
   "id": "084e7cca",
   "metadata": {},
   "outputs": [
    {
     "name": "stdout",
     "output_type": "stream",
     "text": [
      "2025-08-27 22:47:27,089 INFO sqlalchemy.engine.Engine BEGIN (implicit)\n",
      "2025-08-27 22:47:27,090 INFO sqlalchemy.engine.Engine SELECT * FROM customers LIMIT 5;\n",
      "2025-08-27 22:47:27,091 INFO sqlalchemy.engine.Engine [generated in 0.00178s] ()\n",
      "2025-08-27 22:47:27,094 INFO sqlalchemy.engine.Engine ROLLBACK\n"
     ]
    },
    {
     "data": {
      "text/html": [
       "<div>\n",
       "<style scoped>\n",
       "    .dataframe tbody tr th:only-of-type {\n",
       "        vertical-align: middle;\n",
       "    }\n",
       "\n",
       "    .dataframe tbody tr th {\n",
       "        vertical-align: top;\n",
       "    }\n",
       "\n",
       "    .dataframe thead th {\n",
       "        text-align: right;\n",
       "    }\n",
       "</style>\n",
       "<table border=\"1\" class=\"dataframe\">\n",
       "  <thead>\n",
       "    <tr style=\"text-align: right;\">\n",
       "      <th></th>\n",
       "      <th>customer_id</th>\n",
       "      <th>customer_unique_id</th>\n",
       "      <th>customer_zip_code_prefix</th>\n",
       "      <th>customer_city</th>\n",
       "      <th>customer_state</th>\n",
       "    </tr>\n",
       "  </thead>\n",
       "  <tbody>\n",
       "    <tr>\n",
       "      <th>0</th>\n",
       "      <td>06b8999e2fba1a1fbc88172c00ba8bc7</td>\n",
       "      <td>861eff4711a542e4b93843c6dd7febb0</td>\n",
       "      <td>14409</td>\n",
       "      <td>franca</td>\n",
       "      <td>SP</td>\n",
       "    </tr>\n",
       "    <tr>\n",
       "      <th>1</th>\n",
       "      <td>18955e83d337fd6b2def6b18a428ac77</td>\n",
       "      <td>290c77bc529b7ac935b93aa66c333dc3</td>\n",
       "      <td>9790</td>\n",
       "      <td>sao bernardo do campo</td>\n",
       "      <td>SP</td>\n",
       "    </tr>\n",
       "    <tr>\n",
       "      <th>2</th>\n",
       "      <td>4e7b3e00288586ebd08712fdd0374a03</td>\n",
       "      <td>060e732b5b29e8181a18229c7b0b2b5e</td>\n",
       "      <td>1151</td>\n",
       "      <td>sao paulo</td>\n",
       "      <td>SP</td>\n",
       "    </tr>\n",
       "    <tr>\n",
       "      <th>3</th>\n",
       "      <td>b2b6027bc5c5109e529d4dc6358b12c3</td>\n",
       "      <td>259dac757896d24d7702b9acbbff3f3c</td>\n",
       "      <td>8775</td>\n",
       "      <td>mogi das cruzes</td>\n",
       "      <td>SP</td>\n",
       "    </tr>\n",
       "    <tr>\n",
       "      <th>4</th>\n",
       "      <td>4f2d8ab171c80ec8364f7c12e35b23ad</td>\n",
       "      <td>345ecd01c38d18a9036ed96c73b8d066</td>\n",
       "      <td>13056</td>\n",
       "      <td>campinas</td>\n",
       "      <td>SP</td>\n",
       "    </tr>\n",
       "  </tbody>\n",
       "</table>\n",
       "</div>"
      ],
      "text/plain": [
       "                        customer_id                customer_unique_id  \\\n",
       "0  06b8999e2fba1a1fbc88172c00ba8bc7  861eff4711a542e4b93843c6dd7febb0   \n",
       "1  18955e83d337fd6b2def6b18a428ac77  290c77bc529b7ac935b93aa66c333dc3   \n",
       "2  4e7b3e00288586ebd08712fdd0374a03  060e732b5b29e8181a18229c7b0b2b5e   \n",
       "3  b2b6027bc5c5109e529d4dc6358b12c3  259dac757896d24d7702b9acbbff3f3c   \n",
       "4  4f2d8ab171c80ec8364f7c12e35b23ad  345ecd01c38d18a9036ed96c73b8d066   \n",
       "\n",
       "   customer_zip_code_prefix          customer_city customer_state  \n",
       "0                     14409                 franca             SP  \n",
       "1                      9790  sao bernardo do campo             SP  \n",
       "2                      1151              sao paulo             SP  \n",
       "3                      8775        mogi das cruzes             SP  \n",
       "4                     13056               campinas             SP  "
      ]
     },
     "execution_count": 14,
     "metadata": {},
     "output_type": "execute_result"
    }
   ],
   "source": [
    "    with engine.connect() as connection:\n",
    "    result = connection.execute(text(\"SELECT * FROM customers LIMIT 5;\"))\n",
    "    tables = result.fetchall()\n",
    "    df = pd.DataFrame(tables, columns=result.keys())\n",
    "\n",
    "df.head()  # Display the first few rows of the DataFrame"
   ]
  },
  {
   "cell_type": "code",
   "execution_count": 15,
   "id": "573302cb",
   "metadata": {},
   "outputs": [
    {
     "name": "stdout",
     "output_type": "stream",
     "text": [
      "2025-08-27 22:47:27,118 INFO sqlalchemy.engine.Engine BEGIN (implicit)\n",
      "2025-08-27 22:47:27,120 INFO sqlalchemy.engine.Engine SELECT * FROM customers LIMIT 5;\n",
      "2025-08-27 22:47:27,121 INFO sqlalchemy.engine.Engine [raw sql] ()\n",
      "2025-08-27 22:47:27,123 INFO sqlalchemy.engine.Engine ROLLBACK\n"
     ]
    },
    {
     "data": {
      "text/html": [
       "<div>\n",
       "<style scoped>\n",
       "    .dataframe tbody tr th:only-of-type {\n",
       "        vertical-align: middle;\n",
       "    }\n",
       "\n",
       "    .dataframe tbody tr th {\n",
       "        vertical-align: top;\n",
       "    }\n",
       "\n",
       "    .dataframe thead th {\n",
       "        text-align: right;\n",
       "    }\n",
       "</style>\n",
       "<table border=\"1\" class=\"dataframe\">\n",
       "  <thead>\n",
       "    <tr style=\"text-align: right;\">\n",
       "      <th></th>\n",
       "      <th>customer_id</th>\n",
       "      <th>customer_unique_id</th>\n",
       "      <th>customer_zip_code_prefix</th>\n",
       "      <th>customer_city</th>\n",
       "      <th>customer_state</th>\n",
       "    </tr>\n",
       "  </thead>\n",
       "  <tbody>\n",
       "    <tr>\n",
       "      <th>0</th>\n",
       "      <td>06b8999e2fba1a1fbc88172c00ba8bc7</td>\n",
       "      <td>861eff4711a542e4b93843c6dd7febb0</td>\n",
       "      <td>14409</td>\n",
       "      <td>franca</td>\n",
       "      <td>SP</td>\n",
       "    </tr>\n",
       "    <tr>\n",
       "      <th>1</th>\n",
       "      <td>18955e83d337fd6b2def6b18a428ac77</td>\n",
       "      <td>290c77bc529b7ac935b93aa66c333dc3</td>\n",
       "      <td>9790</td>\n",
       "      <td>sao bernardo do campo</td>\n",
       "      <td>SP</td>\n",
       "    </tr>\n",
       "    <tr>\n",
       "      <th>2</th>\n",
       "      <td>4e7b3e00288586ebd08712fdd0374a03</td>\n",
       "      <td>060e732b5b29e8181a18229c7b0b2b5e</td>\n",
       "      <td>1151</td>\n",
       "      <td>sao paulo</td>\n",
       "      <td>SP</td>\n",
       "    </tr>\n",
       "    <tr>\n",
       "      <th>3</th>\n",
       "      <td>b2b6027bc5c5109e529d4dc6358b12c3</td>\n",
       "      <td>259dac757896d24d7702b9acbbff3f3c</td>\n",
       "      <td>8775</td>\n",
       "      <td>mogi das cruzes</td>\n",
       "      <td>SP</td>\n",
       "    </tr>\n",
       "    <tr>\n",
       "      <th>4</th>\n",
       "      <td>4f2d8ab171c80ec8364f7c12e35b23ad</td>\n",
       "      <td>345ecd01c38d18a9036ed96c73b8d066</td>\n",
       "      <td>13056</td>\n",
       "      <td>campinas</td>\n",
       "      <td>SP</td>\n",
       "    </tr>\n",
       "  </tbody>\n",
       "</table>\n",
       "</div>"
      ],
      "text/plain": [
       "                        customer_id                customer_unique_id  \\\n",
       "0  06b8999e2fba1a1fbc88172c00ba8bc7  861eff4711a542e4b93843c6dd7febb0   \n",
       "1  18955e83d337fd6b2def6b18a428ac77  290c77bc529b7ac935b93aa66c333dc3   \n",
       "2  4e7b3e00288586ebd08712fdd0374a03  060e732b5b29e8181a18229c7b0b2b5e   \n",
       "3  b2b6027bc5c5109e529d4dc6358b12c3  259dac757896d24d7702b9acbbff3f3c   \n",
       "4  4f2d8ab171c80ec8364f7c12e35b23ad  345ecd01c38d18a9036ed96c73b8d066   \n",
       "\n",
       "   customer_zip_code_prefix          customer_city customer_state  \n",
       "0                     14409                 franca             SP  \n",
       "1                      9790  sao bernardo do campo             SP  \n",
       "2                      1151              sao paulo             SP  \n",
       "3                      8775        mogi das cruzes             SP  \n",
       "4                     13056               campinas             SP  "
      ]
     },
     "execution_count": 15,
     "metadata": {},
     "output_type": "execute_result"
    }
   ],
   "source": [
    "df = pd.read_sql_query(\"SELECT * FROM customers LIMIT 5;\", con=engine)\n",
    "df.head()"
   ]
  },
  {
   "cell_type": "markdown",
   "id": "56d2a895",
   "metadata": {},
   "source": [
    "# Data Integrity Checks"
   ]
  },
  {
   "cell_type": "markdown",
   "id": "8f284820",
   "metadata": {},
   "source": [
    "## orders "
   ]
  },
  {
   "cell_type": "code",
   "execution_count": 16,
   "id": "76bbd85a",
   "metadata": {},
   "outputs": [
    {
     "name": "stdout",
     "output_type": "stream",
     "text": [
      "2025-08-27 22:47:27,153 INFO sqlalchemy.engine.Engine BEGIN (implicit)\n",
      "2025-08-27 22:47:27,154 INFO sqlalchemy.engine.Engine \n",
      "    SELECT \n",
      "        SUM(CASE WHEN customer_id IS NULL THEN 1 ELSE 0 END) AS null_customer_unique_id,\n",
      "        SUM(CASE WHEN order_id IS NULL THEN 1 ELSE 0 END) AS null_order_id,\n",
      "        SUM(CASE WHEN order_status IS NULL THEN 1 ELSE 0 END) AS null_order_status,\n",
      "        SUM(CASE WHEN order_purchase_timestamp IS NULL THEN 1 ELSE 0 END) AS null_order_purchase_timestamp,\n",
      "        SUM(CASE WHEN order_approved_at IS NULL THEN 1 ELSE 0 END) AS null_order_approved_at,\n",
      "        SUM(CASE WHEN order_delivered_carrier_date IS NULL THEN 1 ELSE 0 END) AS null_order_delivered_carrier_date,\n",
      "        SUM(CASE WHEN order_delivered_customer_date IS NULL THEN 1 ELSE 0 END) AS null_order_delivered_customer_date,\n",
      "        SUM(CASE WHEN order_estimated_delivery_date IS NULL THEN 1 ELSE 0 END) AS null_order_estimated_delivery_date,\n",
      "        COUNT(*) AS total_rows\n",
      "    FROM orders;\n",
      "\n",
      "2025-08-27 22:47:27,155 INFO sqlalchemy.engine.Engine [generated in 0.00254s] ()\n",
      "2025-08-27 22:47:27,250 INFO sqlalchemy.engine.Engine ROLLBACK\n",
      "   null_customer_unique_id  null_order_id  null_order_status  \\\n",
      "0                        0              0                  0   \n",
      "\n",
      "   null_order_purchase_timestamp  null_order_approved_at  \\\n",
      "0                              0                     160   \n",
      "\n",
      "   null_order_delivered_carrier_date  null_order_delivered_customer_date  \\\n",
      "0                               1783                                2965   \n",
      "\n",
      "   null_order_estimated_delivery_date  total_rows  \n",
      "0                                   0       99441  \n"
     ]
    }
   ],
   "source": [
    "query = \"\"\"\n",
    "    SELECT \n",
    "        SUM(CASE WHEN customer_id IS NULL THEN 1 ELSE 0 END) AS null_customer_unique_id,\n",
    "        SUM(CASE WHEN order_id IS NULL THEN 1 ELSE 0 END) AS null_order_id,\n",
    "        SUM(CASE WHEN order_status IS NULL THEN 1 ELSE 0 END) AS null_order_status,\n",
    "        SUM(CASE WHEN order_purchase_timestamp IS NULL THEN 1 ELSE 0 END) AS null_order_purchase_timestamp,\n",
    "        SUM(CASE WHEN order_approved_at IS NULL THEN 1 ELSE 0 END) AS null_order_approved_at,\n",
    "        SUM(CASE WHEN order_delivered_carrier_date IS NULL THEN 1 ELSE 0 END) AS null_order_delivered_carrier_date,\n",
    "        SUM(CASE WHEN order_delivered_customer_date IS NULL THEN 1 ELSE 0 END) AS null_order_delivered_customer_date,\n",
    "        SUM(CASE WHEN order_estimated_delivery_date IS NULL THEN 1 ELSE 0 END) AS null_order_estimated_delivery_date,\n",
    "        COUNT(*) AS total_rows\n",
    "    FROM orders;\n",
    "\"\"\"\n",
    "\n",
    "with engine.connect() as connection:\n",
    "    result = connection.execute(text(query))\n",
    "    tables = result.fetchall()\n",
    "    df = pd.DataFrame(tables, columns=result.keys())\n",
    "\n",
    "print(df)"
   ]
  },
  {
   "cell_type": "code",
   "execution_count": 17,
   "id": "2dc4199b",
   "metadata": {},
   "outputs": [
    {
     "name": "stdout",
     "output_type": "stream",
     "text": [
      "2025-08-27 22:47:27,279 INFO sqlalchemy.engine.Engine BEGIN (implicit)\n",
      "2025-08-27 22:47:27,281 INFO sqlalchemy.engine.Engine PRAGMA table_info('orders');\n",
      "2025-08-27 22:47:27,282 INFO sqlalchemy.engine.Engine [generated in 0.00291s] ()\n",
      "2025-08-27 22:47:27,285 INFO sqlalchemy.engine.Engine ROLLBACK\n",
      "   cid                           name  type  notnull dflt_value  pk\n",
      "0    0                       order_id  TEXT        0       None   0\n",
      "1    1                    customer_id  TEXT        0       None   0\n",
      "2    2                   order_status  TEXT        0       None   0\n",
      "3    3       order_purchase_timestamp  TEXT        0       None   0\n",
      "4    4              order_approved_at  TEXT        0       None   0\n",
      "5    5   order_delivered_carrier_date  TEXT        0       None   0\n",
      "6    6  order_delivered_customer_date  TEXT        0       None   0\n",
      "7    7  order_estimated_delivery_date  TEXT        0       None   0\n"
     ]
    }
   ],
   "source": [
    "# Check table constrainst \n",
    "\n",
    "with engine.connect() as connection:\n",
    "    result = connection.execute(text(\"PRAGMA table_info('orders');\"))\n",
    "    tables = result.fetchall()\n",
    "    df = pd.DataFrame(tables, columns=result.keys())\n",
    "\n",
    "print(df)  # Display the table info for 'orders'"
   ]
  },
  {
   "cell_type": "code",
   "execution_count": 18,
   "id": "3ccd2f94",
   "metadata": {},
   "outputs": [
    {
     "name": "stdout",
     "output_type": "stream",
     "text": [
      "2025-08-27 22:47:27,307 INFO sqlalchemy.engine.Engine BEGIN (implicit)\n",
      "2025-08-27 22:47:27,309 INFO sqlalchemy.engine.Engine \n",
      "    SELECT \n",
      "        COUNT(DISTINCT order_id) AS unique_order_ids,\n",
      "        COUNT(order_id) AS total_order_ids\n",
      "    FROM orders;\n",
      "\n",
      "2025-08-27 22:47:27,309 INFO sqlalchemy.engine.Engine [generated in 0.00229s] ()\n",
      "2025-08-27 22:47:27,739 INFO sqlalchemy.engine.Engine ROLLBACK\n",
      "   unique_order_ids  total_order_ids\n",
      "0             99441            99441\n"
     ]
    }
   ],
   "source": [
    "# Check duplicates in order_id and customer_id\n",
    "\n",
    "query = \"\"\"\n",
    "    SELECT \n",
    "        COUNT(DISTINCT order_id) AS unique_order_ids,\n",
    "        COUNT(order_id) AS total_order_ids\n",
    "    FROM orders;\n",
    "\"\"\"\n",
    "\n",
    "with engine.connect() as connection:\n",
    "    result = connection.execute(text(query))\n",
    "    tables = result.fetchall()\n",
    "    df = pd.DataFrame(tables, columns=result.keys())    \n",
    "\n",
    "print(df)  # Display the counts of order_id and customer_id"
   ]
  },
  {
   "cell_type": "markdown",
   "id": "23796b60",
   "metadata": {},
   "source": [
    "## customers "
   ]
  },
  {
   "cell_type": "code",
   "execution_count": 19,
   "id": "ce986305",
   "metadata": {},
   "outputs": [
    {
     "name": "stdout",
     "output_type": "stream",
     "text": [
      "2025-08-27 22:47:27,754 INFO sqlalchemy.engine.Engine BEGIN (implicit)\n",
      "2025-08-27 22:47:27,755 INFO sqlalchemy.engine.Engine \n",
      "    SELECT \n",
      "        SUM(CASE WHEN customer_id IS NULL THEN 1 ELSE 0 END) AS null_customer_id,\n",
      "        SUM(CASE WHEN customer_unique_id IS NULL THEN 1 ELSE 0 END) AS null_customer_unique_id,\n",
      "        SUM(CASE WHEN customer_zip_code_prefix IS NULL THEN 1 ELSE 0 END) AS null_customer_zip_code_prefix,\n",
      "        SUM(CASE WHEN customer_city IS NULL THEN 1 ELSE 0 END) AS null_customer_city,\n",
      "        SUM(CASE WHEN customer_state IS NULL THEN 1 ELSE 0 END) AS null_customer_state,\n",
      "        COUNT(*) AS total_rows  \n",
      "    FROM customers;\n",
      "\n",
      "2025-08-27 22:47:27,756 INFO sqlalchemy.engine.Engine [generated in 0.00209s] ()\n",
      "2025-08-27 22:47:27,813 INFO sqlalchemy.engine.Engine ROLLBACK\n",
      "   null_customer_id  null_customer_unique_id  null_customer_zip_code_prefix  \\\n",
      "0                 0                        0                              0   \n",
      "\n",
      "   null_customer_city  null_customer_state  total_rows  \n",
      "0                   0                    0       99441  \n"
     ]
    }
   ],
   "source": [
    "query = \"\"\"\n",
    "    SELECT \n",
    "        SUM(CASE WHEN customer_id IS NULL THEN 1 ELSE 0 END) AS null_customer_id,\n",
    "        SUM(CASE WHEN customer_unique_id IS NULL THEN 1 ELSE 0 END) AS null_customer_unique_id,\n",
    "        SUM(CASE WHEN customer_zip_code_prefix IS NULL THEN 1 ELSE 0 END) AS null_customer_zip_code_prefix,\n",
    "        SUM(CASE WHEN customer_city IS NULL THEN 1 ELSE 0 END) AS null_customer_city,\n",
    "        SUM(CASE WHEN customer_state IS NULL THEN 1 ELSE 0 END) AS null_customer_state,\n",
    "        COUNT(*) AS total_rows  \n",
    "    FROM customers;\n",
    "\"\"\"\n",
    "\n",
    "with engine.connect() as connection:\n",
    "    result = connection.execute(text(query))\n",
    "    tables = result.fetchall()\n",
    "    df = pd.DataFrame(tables, columns=result.keys())\n",
    "\n",
    "print(df)  # Display the null counts for customers table"
   ]
  },
  {
   "cell_type": "code",
   "execution_count": 20,
   "id": "89cd5e5c",
   "metadata": {},
   "outputs": [
    {
     "name": "stdout",
     "output_type": "stream",
     "text": [
      "2025-08-27 22:47:27,832 INFO sqlalchemy.engine.Engine BEGIN (implicit)\n",
      "2025-08-27 22:47:27,833 INFO sqlalchemy.engine.Engine PRAGMA table_info('customers');\n",
      "2025-08-27 22:47:27,834 INFO sqlalchemy.engine.Engine [generated in 0.00185s] ()\n",
      "2025-08-27 22:47:27,837 INFO sqlalchemy.engine.Engine ROLLBACK\n",
      "   cid                      name     type  notnull dflt_value  pk\n",
      "0    0               customer_id     TEXT        0       None   0\n",
      "1    1        customer_unique_id     TEXT        0       None   0\n",
      "2    2  customer_zip_code_prefix  INTEGER        0       None   0\n",
      "3    3             customer_city     TEXT        0       None   0\n",
      "4    4            customer_state     TEXT        0       None   0\n"
     ]
    }
   ],
   "source": [
    "with engine.connect() as connection:\n",
    "    result = connection.execute(text(\"PRAGMA table_info('customers');\"))\n",
    "    tables = result.fetchall()\n",
    "    df = pd.DataFrame(tables, columns=result.keys())\n",
    "\n",
    "print(df)  # Display the table info for 'customers'"
   ]
  },
  {
   "cell_type": "code",
   "execution_count": 21,
   "id": "02610135",
   "metadata": {},
   "outputs": [
    {
     "name": "stdout",
     "output_type": "stream",
     "text": [
      "2025-08-27 22:47:27,864 INFO sqlalchemy.engine.Engine BEGIN (implicit)\n",
      "2025-08-27 22:47:27,865 INFO sqlalchemy.engine.Engine \n",
      "    SELECT \n",
      "        COUNT(customer_id) AS total_customer_ids,\n",
      "        COUNT(DISTINCT customer_id) AS unique_customer_ids\n",
      "    FROM customers;\n",
      "\n",
      "2025-08-27 22:47:27,866 INFO sqlalchemy.engine.Engine [generated in 0.00185s] ()\n",
      "2025-08-27 22:47:28,415 INFO sqlalchemy.engine.Engine ROLLBACK\n",
      "   total_customer_ids  unique_customer_ids\n",
      "0               99441                99441\n"
     ]
    }
   ],
   "source": [
    "query = \"\"\"\n",
    "    SELECT \n",
    "        COUNT(customer_id) AS total_customer_ids,\n",
    "        COUNT(DISTINCT customer_id) AS unique_customer_ids\n",
    "    FROM customers;\n",
    "\"\"\"\n",
    "with engine.connect() as connection:\n",
    "    result = connection.execute(text(query))\n",
    "    tables = result.fetchall()\n",
    "    df = pd.DataFrame(tables, columns=result.keys())\n",
    "print(df)  # Display the count of unique customers in orders"
   ]
  },
  {
   "cell_type": "markdown",
   "id": "fba17dd1",
   "metadata": {},
   "source": [
    "## order_payments"
   ]
  },
  {
   "cell_type": "code",
   "execution_count": 23,
   "id": "4888389e",
   "metadata": {},
   "outputs": [
    {
     "name": "stdout",
     "output_type": "stream",
     "text": [
      "2025-08-27 22:47:35,579 INFO sqlalchemy.engine.Engine BEGIN (implicit)\n",
      "2025-08-27 22:47:35,580 INFO sqlalchemy.engine.Engine \n",
      "SELECT \n",
      "    SUM(CASE WHEN order_id IS NULL THEN 1 ELSE 0 END) AS null_order_id,\n",
      "    SUM(CASE WHEN payment_sequential IS NULL THEN 1 ELSE 0 END) AS null_payment_sequential,\n",
      "    SUM(CASE WHEN payment_type IS NULL THEN 1 ELSE 0 END) AS null_payment_type,\n",
      "    SUM(CASE WHEN payment_installments IS NULL THEN 1 ELSE 0 END) AS null_payment_installments,\n",
      "    SUM(CASE WHEN payment_value IS NULL THEN 1 ELSE 0 END) AS null_payment_value,\n",
      "    COUNT(*) AS total_rows\n",
      "FROM order_payments;\n",
      "\n",
      "2025-08-27 22:47:35,581 INFO sqlalchemy.engine.Engine [generated in 0.00214s] ()\n",
      "2025-08-27 22:47:35,626 INFO sqlalchemy.engine.Engine ROLLBACK\n",
      "   null_order_id  null_payment_sequential  null_payment_type  \\\n",
      "0              0                        0                  0   \n",
      "\n",
      "   null_payment_installments  null_payment_value  total_rows  \n",
      "0                          0                   0      103886  \n"
     ]
    }
   ],
   "source": [
    "query = \"\"\"\n",
    "SELECT \n",
    "    SUM(CASE WHEN order_id IS NULL THEN 1 ELSE 0 END) AS null_order_id,\n",
    "    SUM(CASE WHEN payment_sequential IS NULL THEN 1 ELSE 0 END) AS null_payment_sequential,\n",
    "    SUM(CASE WHEN payment_type IS NULL THEN 1 ELSE 0 END) AS null_payment_type,\n",
    "    SUM(CASE WHEN payment_installments IS NULL THEN 1 ELSE 0 END) AS null_payment_installments,\n",
    "    SUM(CASE WHEN payment_value IS NULL THEN 1 ELSE 0 END) AS null_payment_value,\n",
    "    COUNT(*) AS total_rows\n",
    "FROM order_payments;\n",
    "\"\"\"\n",
    "\n",
    "with engine.connect() as connection:\n",
    "    result = connection.execute(text(query))\n",
    "    tables = result.fetchall()\n",
    "    df = pd.DataFrame(tables, columns=result.keys())\n",
    "print(df)  # Display the null counts for order_payments table"
   ]
  },
  {
   "cell_type": "markdown",
   "id": "c1bb5fdc",
   "metadata": {},
   "source": [
    "## products "
   ]
  },
  {
   "cell_type": "code",
   "execution_count": 24,
   "id": "f25ee8af",
   "metadata": {},
   "outputs": [
    {
     "name": "stdout",
     "output_type": "stream",
     "text": [
      "2025-08-27 22:47:35,655 INFO sqlalchemy.engine.Engine BEGIN (implicit)\n",
      "2025-08-27 22:47:35,656 INFO sqlalchemy.engine.Engine \n",
      "SELECT \n",
      "    SUM(CASE WHEN product_id IS NULL THEN 1 ELSE 0 END) AS null_product_id,\n",
      "    SUM(CASE WHEN product_category_name IS NULL THEN 1 ELSE 0 END) AS null_product_category_name,\n",
      "    SUM(CASE WHEN product_name_lenght IS NULL THEN 1 ELSE 0 END) AS null_product_name_lenght,\n",
      "    SUM(CASE WHEN product_description_lenght IS NULL THEN 1 ELSE 0 END) AS null_product_description_lenght,\n",
      "    SUM(CASE WHEN product_photos_qty IS NULL THEN 1 ELSE 0 END) AS null_product_photos_qty,\n",
      "    SUM(CASE WHEN product_weight_g IS NULL THEN 1 ELSE 0 END) AS null_product_weight_g,\n",
      "    SUM(CASE WHEN product_length_cm IS NULL THEN 1 ELSE 0 END) AS null_product_length_cm,\n",
      "    SUM(CASE WHEN product_height_cm IS NULL THEN 1 ELSE 0 END) AS null_product_height_cm,\n",
      "    SUM(CASE WHEN product_width_cm IS NULL THEN 1 ELSE 0 END) AS null_product_width_cm,\n",
      "    COUNT(*) AS total_rows\n",
      "FROM products;\n",
      "\n",
      "2025-08-27 22:47:35,656 INFO sqlalchemy.engine.Engine [generated in 0.00168s] ()\n",
      "2025-08-27 22:47:35,683 INFO sqlalchemy.engine.Engine ROLLBACK\n",
      "   null_product_id  null_product_category_name  null_product_name_lenght  \\\n",
      "0                0                         610                       610   \n",
      "\n",
      "   null_product_description_lenght  null_product_photos_qty  \\\n",
      "0                              610                      610   \n",
      "\n",
      "   null_product_weight_g  null_product_length_cm  null_product_height_cm  \\\n",
      "0                      2                       2                       2   \n",
      "\n",
      "   null_product_width_cm  total_rows  \n",
      "0                      2       32951  \n"
     ]
    }
   ],
   "source": [
    "query = \"\"\"\n",
    "SELECT \n",
    "    SUM(CASE WHEN product_id IS NULL THEN 1 ELSE 0 END) AS null_product_id,\n",
    "    SUM(CASE WHEN product_category_name IS NULL THEN 1 ELSE 0 END) AS null_product_category_name,\n",
    "    SUM(CASE WHEN product_name_lenght IS NULL THEN 1 ELSE 0 END) AS null_product_name_lenght,\n",
    "    SUM(CASE WHEN product_description_lenght IS NULL THEN 1 ELSE 0 END) AS null_product_description_lenght,\n",
    "    SUM(CASE WHEN product_photos_qty IS NULL THEN 1 ELSE 0 END) AS null_product_photos_qty,\n",
    "    SUM(CASE WHEN product_weight_g IS NULL THEN 1 ELSE 0 END) AS null_product_weight_g,\n",
    "    SUM(CASE WHEN product_length_cm IS NULL THEN 1 ELSE 0 END) AS null_product_length_cm,\n",
    "    SUM(CASE WHEN product_height_cm IS NULL THEN 1 ELSE 0 END) AS null_product_height_cm,\n",
    "    SUM(CASE WHEN product_width_cm IS NULL THEN 1 ELSE 0 END) AS null_product_width_cm,\n",
    "    COUNT(*) AS total_rows\n",
    "FROM products;\n",
    "\"\"\"\n",
    "\n",
    "with engine.connect() as connection:\n",
    "    result = connection.execute(text(query))\n",
    "    tables = result.fetchall()\n",
    "    df = pd.DataFrame(tables, columns=result.keys())\n",
    "print(df)  # Display the null counts for products table"
   ]
  },
  {
   "cell_type": "code",
   "execution_count": 25,
   "id": "a3ce3beb",
   "metadata": {},
   "outputs": [
    {
     "name": "stdout",
     "output_type": "stream",
     "text": [
      "2025-08-27 22:47:35,702 INFO sqlalchemy.engine.Engine BEGIN (implicit)\n",
      "2025-08-27 22:47:35,703 INFO sqlalchemy.engine.Engine \n",
      "SELECT \n",
      "    COUNT(DISTINCT product_id) AS unique_product_ids,\n",
      "    COUNT(product_id) AS total_product_ids\n",
      "FROM products;\n",
      "\n",
      "2025-08-27 22:47:35,704 INFO sqlalchemy.engine.Engine [generated in 0.00236s] ()\n",
      "2025-08-27 22:47:35,754 INFO sqlalchemy.engine.Engine ROLLBACK\n",
      "   unique_product_ids  total_product_ids\n",
      "0               32951              32951\n"
     ]
    }
   ],
   "source": [
    "query = \"\"\"\n",
    "SELECT \n",
    "    COUNT(DISTINCT product_id) AS unique_product_ids,\n",
    "    COUNT(product_id) AS total_product_ids\n",
    "FROM products;\n",
    "\"\"\"\n",
    "\n",
    "with engine.connect() as connection:\n",
    "    result = connection.execute(text(query))\n",
    "    tables = result.fetchall()\n",
    "    df = pd.DataFrame(tables, columns=result.keys())\n",
    "\n",
    "print(df)  # Display the count of unique products in products table"
   ]
  },
  {
   "cell_type": "markdown",
   "id": "76e00ec3",
   "metadata": {},
   "source": [
    "## order_items"
   ]
  },
  {
   "cell_type": "code",
   "execution_count": 26,
   "id": "9ec620e0",
   "metadata": {},
   "outputs": [
    {
     "name": "stdout",
     "output_type": "stream",
     "text": [
      "2025-08-27 22:47:35,779 INFO sqlalchemy.engine.Engine BEGIN (implicit)\n",
      "2025-08-27 22:47:35,780 INFO sqlalchemy.engine.Engine \n",
      "SELECT\n",
      "    SUM(CASE WHEN order_id IS NULL THEN 1 ELSE 0 END) AS null_order_id,\n",
      "    SUM(CASE WHEN order_item_id IS NULL THEN 1 ELSE 0 END) AS null_order_item_id,\n",
      "    SUM(CASE WHEN product_id IS NULL THEN 1 ELSE 0 END) AS null_product_id,\n",
      "    SUM(CASE WHEN seller_id IS NULL THEN 1 ELSE 0 END) AS null_seller_id,\n",
      "    SUM(CASE WHEN shipping_limit_date IS NULL THEN 1 ELSE 0 END) AS null_shipping_limit_date,\n",
      "    SUM(CASE WHEN price IS NULL THEN 1 ELSE 0 END) AS null_price,\n",
      "    SUM(CASE WHEN freight_value IS NULL THEN 1 ELSE 0 END) AS null_freight_value,\n",
      "    COUNT(*) AS total_rows\n",
      "FROM order_items;\n",
      "\n",
      "2025-08-27 22:47:35,782 INFO sqlalchemy.engine.Engine [generated in 0.00249s] ()\n",
      "2025-08-27 22:47:35,886 INFO sqlalchemy.engine.Engine ROLLBACK\n",
      "   null_order_id  null_order_item_id  null_product_id  null_seller_id  \\\n",
      "0              0                   0                0               0   \n",
      "\n",
      "   null_shipping_limit_date  null_price  null_freight_value  total_rows  \n",
      "0                         0           0                   0      112650  \n"
     ]
    }
   ],
   "source": [
    "query = \"\"\"\n",
    "SELECT\n",
    "    SUM(CASE WHEN order_id IS NULL THEN 1 ELSE 0 END) AS null_order_id,\n",
    "    SUM(CASE WHEN order_item_id IS NULL THEN 1 ELSE 0 END) AS null_order_item_id,\n",
    "    SUM(CASE WHEN product_id IS NULL THEN 1 ELSE 0 END) AS null_product_id,\n",
    "    SUM(CASE WHEN seller_id IS NULL THEN 1 ELSE 0 END) AS null_seller_id,\n",
    "    SUM(CASE WHEN shipping_limit_date IS NULL THEN 1 ELSE 0 END) AS null_shipping_limit_date,\n",
    "    SUM(CASE WHEN price IS NULL THEN 1 ELSE 0 END) AS null_price,\n",
    "    SUM(CASE WHEN freight_value IS NULL THEN 1 ELSE 0 END) AS null_freight_value,\n",
    "    COUNT(*) AS total_rows\n",
    "FROM order_items;\n",
    "\"\"\"\n",
    "\n",
    "with engine.connect() as connection:\n",
    "    result = connection.execute(text(query))\n",
    "    tables = result.fetchall()\n",
    "    df = pd.DataFrame(tables, columns=result.keys())\n",
    "print(df)  # Display the null counts for order_items table"
   ]
  },
  {
   "cell_type": "code",
   "execution_count": 44,
   "id": "f88fed7e",
   "metadata": {},
   "outputs": [
    {
     "name": "stdout",
     "output_type": "stream",
     "text": [
      "2025-08-27 22:53:19,927 INFO sqlalchemy.engine.Engine BEGIN (implicit)\n",
      "2025-08-27 22:53:19,928 INFO sqlalchemy.engine.Engine \n",
      "SELECT \n",
      "    COUNT(DISTINCT order_id) AS unique_order_ids,\n",
      "    COUNT(order_id) AS total_order_ids,\n",
      "    COUNT(DISTINCT order_item_id) AS unique_order_item_ids,\n",
      "    COUNT(order_item_id) AS total_order_ids\n",
      "FROM order_items;\n",
      "\n",
      "2025-08-27 22:53:19,929 INFO sqlalchemy.engine.Engine [generated in 0.00190s] ()\n",
      "2025-08-27 22:53:20,022 INFO sqlalchemy.engine.Engine ROLLBACK\n",
      "   unique_order_ids  total_order_ids  unique_order_item_ids  total_order_ids\n",
      "0             98666           112650                     21           112650\n"
     ]
    }
   ],
   "source": [
    "query = \"\"\"\n",
    "SELECT \n",
    "    COUNT(DISTINCT order_id) AS unique_order_ids,\n",
    "    COUNT(order_id) AS total_order_ids,\n",
    "    COUNT(DISTINCT order_item_id) AS unique_order_item_ids,\n",
    "    COUNT(order_item_id) AS total_order_ids\n",
    "FROM order_items;\n",
    "\"\"\"\n",
    "\n",
    "with engine.connect() as connection:\n",
    "    result = connection.execute(text(query))\n",
    "    tables = result.fetchall()\n",
    "    df = pd.DataFrame(tables, columns=result.keys())\n",
    "\n",
    "print(df)  # Display the count of unique orders in order_items table"
   ]
  },
  {
   "cell_type": "code",
   "execution_count": 45,
   "id": "559b8ff0",
   "metadata": {},
   "outputs": [
    {
     "name": "stdout",
     "output_type": "stream",
     "text": [
      "2025-08-27 22:53:42,540 INFO sqlalchemy.engine.Engine BEGIN (implicit)\n",
      "2025-08-27 22:53:42,541 INFO sqlalchemy.engine.Engine \n",
      "SELECT \n",
      "    COUNT(DISTINCT CONCAT(order_id, order_item_id)) AS unique_order_item_combinations,\n",
      "    COUNT(*) AS total_rows\n",
      "FROM order_items;\n",
      "\n",
      "2025-08-27 22:53:42,542 INFO sqlalchemy.engine.Engine [generated in 0.00176s] ()\n",
      "2025-08-27 22:53:42,670 INFO sqlalchemy.engine.Engine ROLLBACK\n",
      "   unique_order_item_combinations  total_rows\n",
      "0                          112650      112650\n"
     ]
    }
   ],
   "source": [
    "query = \"\"\"\n",
    "SELECT \n",
    "    COUNT(DISTINCT CONCAT(order_id, order_item_id)) AS unique_order_item_combinations,\n",
    "    COUNT(*) AS total_rows\n",
    "FROM order_items;\n",
    "\"\"\"\n",
    "\n",
    "with engine.connect() as connection:\n",
    "    result = connection.execute(text(query))\n",
    "    tables = result.fetchall()\n",
    "    df = pd.DataFrame(tables, columns=result.keys())\n",
    "print(df)  # Display the count of unique order-item combinations in order_items table"
   ]
  },
  {
   "cell_type": "markdown",
   "id": "98987e9a",
   "metadata": {},
   "source": [
    "## order_reviews"
   ]
  },
  {
   "cell_type": "code",
   "execution_count": 28,
   "id": "c65ea0eb",
   "metadata": {},
   "outputs": [
    {
     "name": "stdout",
     "output_type": "stream",
     "text": [
      "2025-08-27 22:47:36,060 INFO sqlalchemy.engine.Engine BEGIN (implicit)\n",
      "2025-08-27 22:47:36,062 INFO sqlalchemy.engine.Engine \n",
      "SELECT \n",
      "    SUM(CASE WHEN review_id IS NULL THEN 1 ELSE 0 END) AS null_review_id,\n",
      "    SUM(CASE WHEN order_id IS NULL THEN 1 ELSE 0 END) AS null_order_id,\n",
      "    SUM(CASE WHEN review_score IS NULL THEN 1 ELSE 0 END) AS null_review_score,\n",
      "    SUM(CASE WHEN review_comment_title IS NULL THEN 1 ELSE 0 END) AS null_review_comment_title,\n",
      "    SUM(CASE WHEN review_comment_message IS NULL THEN 1 ELSE 0 END) AS null_review_comment_message,\n",
      "    SUM(CASE WHEN review_creation_date IS NULL THEN 1 ELSE 0 END) AS null_review_creation_date,\n",
      "    SUM(CASE WHEN review_answer_timestamp IS NULL THEN 1 ELSE 0 END) AS null_review_answer_timestamp,\n",
      "    COUNT(*) AS total_rows\n",
      "FROM order_reviews;\n",
      "\n",
      "2025-08-27 22:47:36,062 INFO sqlalchemy.engine.Engine [generated in 0.00234s] ()\n",
      "2025-08-27 22:47:36,132 INFO sqlalchemy.engine.Engine ROLLBACK\n",
      "   null_review_id  null_order_id  null_review_score  \\\n",
      "0               0              0                  0   \n",
      "\n",
      "   null_review_comment_title  null_review_comment_message  \\\n",
      "0                      87656                        58247   \n",
      "\n",
      "   null_review_creation_date  null_review_answer_timestamp  total_rows  \n",
      "0                          0                             0       99224  \n"
     ]
    }
   ],
   "source": [
    "query = \"\"\"\n",
    "SELECT \n",
    "    SUM(CASE WHEN review_id IS NULL THEN 1 ELSE 0 END) AS null_review_id,\n",
    "    SUM(CASE WHEN order_id IS NULL THEN 1 ELSE 0 END) AS null_order_id,\n",
    "    SUM(CASE WHEN review_score IS NULL THEN 1 ELSE 0 END) AS null_review_score,\n",
    "    SUM(CASE WHEN review_comment_title IS NULL THEN 1 ELSE 0 END) AS null_review_comment_title,\n",
    "    SUM(CASE WHEN review_comment_message IS NULL THEN 1 ELSE 0 END) AS null_review_comment_message,\n",
    "    SUM(CASE WHEN review_creation_date IS NULL THEN 1 ELSE 0 END) AS null_review_creation_date,\n",
    "    SUM(CASE WHEN review_answer_timestamp IS NULL THEN 1 ELSE 0 END) AS null_review_answer_timestamp,\n",
    "    COUNT(*) AS total_rows\n",
    "FROM order_reviews;\n",
    "\"\"\"\n",
    "\n",
    "with engine.connect() as connection:\n",
    "    result = connection.execute(text(query))\n",
    "    tables = result.fetchall()\n",
    "    df = pd.DataFrame(tables, columns=result.keys())\n",
    "print(df)  # Display the null counts for order_reviews table"
   ]
  },
  {
   "cell_type": "code",
   "execution_count": 29,
   "id": "2fd545b2",
   "metadata": {},
   "outputs": [
    {
     "name": "stdout",
     "output_type": "stream",
     "text": [
      "2025-08-27 22:47:36,149 INFO sqlalchemy.engine.Engine BEGIN (implicit)\n",
      "2025-08-27 22:47:36,150 INFO sqlalchemy.engine.Engine \n",
      "SELECT\n",
      "    COUNT(DISTINCT review_id) AS unique_review_ids,\n",
      "    COUNT(review_id) AS total_review_ids\n",
      "FROM order_reviews;\n",
      "\n",
      "2025-08-27 22:47:36,151 INFO sqlalchemy.engine.Engine [generated in 0.00152s] ()\n",
      "2025-08-27 22:47:36,587 INFO sqlalchemy.engine.Engine ROLLBACK\n",
      "   unique_review_ids  total_review_ids\n",
      "0              98410             99224\n"
     ]
    }
   ],
   "source": [
    "query = \"\"\"\n",
    "SELECT\n",
    "    COUNT(DISTINCT review_id) AS unique_review_ids,\n",
    "    COUNT(review_id) AS total_review_ids\n",
    "FROM order_reviews;\n",
    "\"\"\"\n",
    "\n",
    "with engine.connect() as connection:\n",
    "    result = connection.execute(text(query))\n",
    "    tables = result.fetchall()\n",
    "    df = pd.DataFrame(tables, columns=result.keys())\n",
    "print(df)  # Display the count of unique reviews in order_reviews table\n"
   ]
  },
  {
   "cell_type": "markdown",
   "id": "9cf819f9",
   "metadata": {},
   "source": [
    "## product_category_name_tranlation"
   ]
  },
  {
   "cell_type": "code",
   "execution_count": 30,
   "id": "616fd139",
   "metadata": {},
   "outputs": [
    {
     "name": "stdout",
     "output_type": "stream",
     "text": [
      "2025-08-27 22:47:36,616 INFO sqlalchemy.engine.Engine BEGIN (implicit)\n",
      "2025-08-27 22:47:36,617 INFO sqlalchemy.engine.Engine \n",
      "SELECT \n",
      "    SUM(CASE WHEN product_category_name IS NULL THEN 1 ELSE 0 END) AS null_product_category_name,\n",
      "    SUM(CASE WHEN product_category_name_english IS NULL THEN 1 ELSE 0 END) AS null_product_category_name_english,\n",
      "    COUNT(*) AS total_rows\n",
      "FROM product_category_name_translation;\n",
      "\n",
      "2025-08-27 22:47:36,618 INFO sqlalchemy.engine.Engine [generated in 0.00212s] ()\n",
      "2025-08-27 22:47:36,621 INFO sqlalchemy.engine.Engine ROLLBACK\n",
      "   null_product_category_name  null_product_category_name_english  total_rows\n",
      "0                           0                                   0          71\n"
     ]
    }
   ],
   "source": [
    "query = \"\"\"\n",
    "SELECT \n",
    "    SUM(CASE WHEN product_category_name IS NULL THEN 1 ELSE 0 END) AS null_product_category_name,\n",
    "    SUM(CASE WHEN product_category_name_english IS NULL THEN 1 ELSE 0 END) AS null_product_category_name_english,\n",
    "    COUNT(*) AS total_rows\n",
    "FROM product_category_name_translation;\n",
    "\"\"\"\n",
    "\n",
    "with engine.connect() as connection:\n",
    "    result = connection.execute(text(query))\n",
    "    tables = result.fetchall()\n",
    "    df = pd.DataFrame(tables, columns=result.keys())\n",
    "print(df)  # Display the null counts for product_category_name_translation table"
   ]
  },
  {
   "cell_type": "code",
   "execution_count": 31,
   "id": "b3aaa6d2",
   "metadata": {},
   "outputs": [
    {
     "name": "stdout",
     "output_type": "stream",
     "text": [
      "2025-08-27 22:47:36,646 INFO sqlalchemy.engine.Engine BEGIN (implicit)\n",
      "2025-08-27 22:47:36,647 INFO sqlalchemy.engine.Engine \n",
      "SELECT \n",
      "    COUNT(DISTINCT product_category_name) AS unique_product_category_names,\n",
      "    COUNT(product_category_name) AS total_product_category_names\n",
      "FROM product_category_name_translation;\n",
      "\n",
      "2025-08-27 22:47:36,648 INFO sqlalchemy.engine.Engine [generated in 0.00215s] ()\n",
      "2025-08-27 22:47:36,650 INFO sqlalchemy.engine.Engine ROLLBACK\n",
      "   unique_product_category_names  total_product_category_names\n",
      "0                             71                            71\n"
     ]
    }
   ],
   "source": [
    "query = \"\"\"\n",
    "SELECT \n",
    "    COUNT(DISTINCT product_category_name) AS unique_product_category_names,\n",
    "    COUNT(product_category_name) AS total_product_category_names\n",
    "FROM product_category_name_translation;\n",
    "\"\"\"\n",
    "\n",
    "with engine.connect() as connection:\n",
    "    result = connection.execute(text(query))\n",
    "    tables = result.fetchall()\n",
    "    df = pd.DataFrame(tables, columns=result.keys())\n",
    "print(df)  # Display the count of unique product category names in product_category_name_translation table"
   ]
  },
  {
   "cell_type": "markdown",
   "id": "977e51ad",
   "metadata": {},
   "source": [
    "## sellers "
   ]
  },
  {
   "cell_type": "code",
   "execution_count": 32,
   "id": "eab1c73d",
   "metadata": {},
   "outputs": [
    {
     "name": "stdout",
     "output_type": "stream",
     "text": [
      "2025-08-27 22:47:36,678 INFO sqlalchemy.engine.Engine BEGIN (implicit)\n",
      "2025-08-27 22:47:36,679 INFO sqlalchemy.engine.Engine \n",
      "SELECT\n",
      "    SUM(CASE WHEN seller_id IS NULL THEN 1 ELSE 0 END) AS null_seller_id,\n",
      "    SUM(CASE WHEN seller_zip_code_prefix IS NULL THEN 1 ELSE 0 END) AS null_seller_zip_code_prefix,\n",
      "    SUM(CASE WHEN seller_city IS NULL THEN 1 ELSE 0 END) AS null_seller_city,\n",
      "    SUM(CASE WHEN seller_state IS NULL THEN 1 ELSE 0 END) AS null_seller_state,\n",
      "    COUNT(*) AS total_rows\n",
      "FROM sellers;\n",
      "\n",
      "2025-08-27 22:47:36,680 INFO sqlalchemy.engine.Engine [generated in 0.00207s] ()\n",
      "2025-08-27 22:47:36,686 INFO sqlalchemy.engine.Engine ROLLBACK\n",
      "   null_seller_id  null_seller_zip_code_prefix  null_seller_city  \\\n",
      "0               0                            0                 0   \n",
      "\n",
      "   null_seller_state  total_rows  \n",
      "0                  0        3095  \n"
     ]
    }
   ],
   "source": [
    "query = \"\"\"\n",
    "SELECT\n",
    "    SUM(CASE WHEN seller_id IS NULL THEN 1 ELSE 0 END) AS null_seller_id,\n",
    "    SUM(CASE WHEN seller_zip_code_prefix IS NULL THEN 1 ELSE 0 END) AS null_seller_zip_code_prefix,\n",
    "    SUM(CASE WHEN seller_city IS NULL THEN 1 ELSE 0 END) AS null_seller_city,\n",
    "    SUM(CASE WHEN seller_state IS NULL THEN 1 ELSE 0 END) AS null_seller_state,\n",
    "    COUNT(*) AS total_rows\n",
    "FROM sellers;\n",
    "\"\"\"\n",
    "\n",
    "with engine.connect() as connection:\n",
    "    result = connection.execute(text(query))\n",
    "    tables = result.fetchall()\n",
    "    df = pd.DataFrame(tables, columns=result.keys())\n",
    "print(df)  # Display the null counts for sellers table\n"
   ]
  },
  {
   "cell_type": "code",
   "execution_count": 33,
   "id": "440a0b0e",
   "metadata": {},
   "outputs": [
    {
     "name": "stdout",
     "output_type": "stream",
     "text": [
      "2025-08-27 22:47:36,709 INFO sqlalchemy.engine.Engine BEGIN (implicit)\n",
      "2025-08-27 22:47:36,710 INFO sqlalchemy.engine.Engine \n",
      "SELECT \n",
      "    COUNT(DISTINCT seller_id) AS unique_seller_ids,\n",
      "    COUNT(seller_id) AS total_seller_ids\n",
      "FROM sellers;\n",
      "\n",
      "2025-08-27 22:47:36,711 INFO sqlalchemy.engine.Engine [generated in 0.00222s] ()\n",
      "2025-08-27 22:47:36,716 INFO sqlalchemy.engine.Engine ROLLBACK\n",
      "   unique_seller_ids  total_seller_ids\n",
      "0               3095              3095\n"
     ]
    }
   ],
   "source": [
    "query = \"\"\"\n",
    "SELECT \n",
    "    COUNT(DISTINCT seller_id) AS unique_seller_ids,\n",
    "    COUNT(seller_id) AS total_seller_ids\n",
    "FROM sellers;\n",
    "\"\"\"\n",
    "\n",
    "with engine.connect() as connection:\n",
    "    result = connection.execute(text(query))\n",
    "    tables = result.fetchall()\n",
    "    df = pd.DataFrame(tables, columns=result.keys())\n",
    "print(df)  # Display the count of unique sellers in sellers table"
   ]
  },
  {
   "cell_type": "markdown",
   "id": "53ffb27a",
   "metadata": {},
   "source": [
    "## geolocation"
   ]
  },
  {
   "cell_type": "code",
   "execution_count": 34,
   "id": "6ebaca3c",
   "metadata": {},
   "outputs": [
    {
     "name": "stdout",
     "output_type": "stream",
     "text": [
      "2025-08-27 22:47:36,739 INFO sqlalchemy.engine.Engine BEGIN (implicit)\n",
      "2025-08-27 22:47:36,740 INFO sqlalchemy.engine.Engine \n",
      "SELECT \n",
      "    SUM(CASE WHEN geolocation_zip_code_prefix IS NULL THEN 1 ELSE 0 END) AS null_geolocation_zip_code_prefix,\n",
      "    SUM(CASE WHEN geolocation_lat IS NULL THEN 1 ELSE 0 END) AS null_geolocation_lat,\n",
      "    SUM(CASE WHEN geolocation_lng IS NULL THEN 1 ELSE 0 END) AS null_geolocation_lng,\n",
      "    SUM(CASE WHEN geolocation_city IS NULL THEN 1 ELSE 0 END) AS null_geolocation_city,\n",
      "    SUM(CASE WHEN geolocation_state IS NULL THEN 1 ELSE 0 END) AS\n",
      "    null_geolocation_state,\n",
      "    COUNT(*) AS total_rows\n",
      "FROM geolocation;\n",
      "\n",
      "2025-08-27 22:47:36,741 INFO sqlalchemy.engine.Engine [generated in 0.00195s] ()\n",
      "2025-08-27 22:47:37,152 INFO sqlalchemy.engine.Engine ROLLBACK\n",
      "   null_geolocation_zip_code_prefix  null_geolocation_lat  \\\n",
      "0                                 0                     0   \n",
      "\n",
      "   null_geolocation_lng  null_geolocation_city  null_geolocation_state  \\\n",
      "0                     0                      0                       0   \n",
      "\n",
      "   total_rows  \n",
      "0     1000163  \n"
     ]
    }
   ],
   "source": [
    "query = \"\"\"\n",
    "SELECT \n",
    "    SUM(CASE WHEN geolocation_zip_code_prefix IS NULL THEN 1 ELSE 0 END) AS null_geolocation_zip_code_prefix,\n",
    "    SUM(CASE WHEN geolocation_lat IS NULL THEN 1 ELSE 0 END) AS null_geolocation_lat,\n",
    "    SUM(CASE WHEN geolocation_lng IS NULL THEN 1 ELSE 0 END) AS null_geolocation_lng,\n",
    "    SUM(CASE WHEN geolocation_city IS NULL THEN 1 ELSE 0 END) AS null_geolocation_city,\n",
    "    SUM(CASE WHEN geolocation_state IS NULL THEN 1 ELSE 0 END) AS\n",
    "    null_geolocation_state,\n",
    "    COUNT(*) AS total_rows\n",
    "FROM geolocation;\n",
    "\"\"\"\n",
    "\n",
    "with engine.connect() as connection:\n",
    "    result = connection.execute(text(query))\n",
    "    tables = result.fetchall()\n",
    "    df = pd.DataFrame(tables, columns=result.keys())\n",
    "print(df)  # Display the null counts for geolocation table\n"
   ]
  },
  {
   "cell_type": "code",
   "execution_count": 42,
   "id": "055ba842",
   "metadata": {},
   "outputs": [
    {
     "name": "stdout",
     "output_type": "stream",
     "text": [
      "2025-08-27 22:50:42,594 INFO sqlalchemy.engine.Engine BEGIN (implicit)\n",
      "2025-08-27 22:50:42,595 INFO sqlalchemy.engine.Engine \n",
      "SELECT \n",
      "    COUNT(DISTINCT geolocation_zip_code_prefix) AS unique_geolocation_zip_code_prefixes,\n",
      "    COUNT(geolocation_zip_code_prefix) AS total_geolocation_zip_code_prefixes\n",
      "FROM geolocation;\n",
      "\n",
      "2025-08-27 22:50:42,596 INFO sqlalchemy.engine.Engine [generated in 0.00187s] ()\n",
      "2025-08-27 22:50:42,846 INFO sqlalchemy.engine.Engine ROLLBACK\n",
      "   unique_geolocation_zip_code_prefixes  total_geolocation_zip_code_prefixes\n",
      "0                                 19015                              1000163\n"
     ]
    }
   ],
   "source": [
    "query = \"\"\"\n",
    "SELECT \n",
    "    COUNT(DISTINCT geolocation_zip_code_prefix) AS unique_geolocation_zip_code_prefixes,\n",
    "    COUNT(geolocation_zip_code_prefix) AS total_geolocation_zip_code_prefixes\n",
    "FROM geolocation;\n",
    "\"\"\"\n",
    "with engine.connect() as connection:\n",
    "    result = connection.execute(text(query))\n",
    "    tables = result.fetchall()\n",
    "    df = pd.DataFrame(tables, columns=result.keys())\n",
    "print(df)  # Display the count of unique geolocation zip code prefixes in geolocation table"
   ]
  },
  {
   "cell_type": "code",
   "execution_count": 35,
   "id": "731011e9",
   "metadata": {},
   "outputs": [
    {
     "name": "stdout",
     "output_type": "stream",
     "text": [
      "2025-08-27 22:47:37,174 INFO sqlalchemy.engine.Engine BEGIN (implicit)\n",
      "2025-08-27 22:47:37,175 INFO sqlalchemy.engine.Engine \n",
      "SELECT\n",
      "    COUNT(DISTINCT CONCAT(geolocation_zip_code_prefix, '_', geolocation_city, '_', geolocation_state)) AS unique_geolocation_entries,\n",
      "    COUNT(geolocation_zip_code_prefix) AS total_geolocation_zip_code_prefixes\n",
      "FROM geolocation;\n",
      "\n",
      "2025-08-27 22:47:37,175 INFO sqlalchemy.engine.Engine [generated in 0.00187s] ()\n",
      "2025-08-27 22:47:38,099 INFO sqlalchemy.engine.Engine ROLLBACK\n",
      "   unique_geolocation_entries  total_geolocation_zip_code_prefixes\n",
      "0                       27912                              1000163\n"
     ]
    }
   ],
   "source": [
    "query = \"\"\"\n",
    "SELECT\n",
    "    COUNT(DISTINCT CONCAT(geolocation_zip_code_prefix, '_', geolocation_city, '_', geolocation_state)) AS unique_geolocation_entries,\n",
    "    COUNT(geolocation_zip_code_prefix) AS total_geolocation_zip_code_prefixes\n",
    "FROM geolocation;\n",
    "\"\"\"\n",
    "\n",
    "with engine.connect() as connection:\n",
    "    result = connection.execute(text(query))\n",
    "    tables = result.fetchall()\n",
    "    df = pd.DataFrame(tables, columns=result.keys())\n",
    "print(df)  # Display the count of unique geolocation zip code prefixes in geolocation table"
   ]
  },
  {
   "cell_type": "markdown",
   "id": "f38e5773",
   "metadata": {},
   "source": [
    "## leads_qualified"
   ]
  },
  {
   "cell_type": "code",
   "execution_count": 36,
   "id": "7fb81c3f",
   "metadata": {},
   "outputs": [
    {
     "name": "stdout",
     "output_type": "stream",
     "text": [
      "2025-08-27 22:47:38,119 INFO sqlalchemy.engine.Engine BEGIN (implicit)\n",
      "2025-08-27 22:47:38,120 INFO sqlalchemy.engine.Engine \n",
      "SELECT \n",
      "    SUM(CASE WHEN mql_id IS NULL THEN 1 ELSE 0 END) AS null_mql_id,\n",
      "    SUM(CASE WHEN first_contact_date IS NULL THEN 1 ELSE 0 END) AS null_first_contact_date,\n",
      "    SUM(CASE WHEN landing_page_id IS NULL THEN 1 ELSE 0 END) AS null_landing_page_id,\n",
      "    SUM(CASE WHEN origin IS NULL THEN 1 ELSE 0 END) AS null_origin,\n",
      "    COUNT(*) AS total_rows\n",
      "FROM leads_qualified;\n",
      "\n",
      "2025-08-27 22:47:38,121 INFO sqlalchemy.engine.Engine [generated in 0.00189s] ()\n",
      "2025-08-27 22:47:38,127 INFO sqlalchemy.engine.Engine ROLLBACK\n",
      "   null_mql_id  null_first_contact_date  null_landing_page_id  null_origin  \\\n",
      "0            0                        0                     0           60   \n",
      "\n",
      "   total_rows  \n",
      "0        8000  \n"
     ]
    }
   ],
   "source": [
    "query = \"\"\"\n",
    "SELECT \n",
    "    SUM(CASE WHEN mql_id IS NULL THEN 1 ELSE 0 END) AS null_mql_id,\n",
    "    SUM(CASE WHEN first_contact_date IS NULL THEN 1 ELSE 0 END) AS null_first_contact_date,\n",
    "    SUM(CASE WHEN landing_page_id IS NULL THEN 1 ELSE 0 END) AS null_landing_page_id,\n",
    "    SUM(CASE WHEN origin IS NULL THEN 1 ELSE 0 END) AS null_origin,\n",
    "    COUNT(*) AS total_rows\n",
    "FROM leads_qualified;\n",
    "\"\"\"\n",
    "\n",
    "with engine.connect() as connection:\n",
    "    result = connection.execute(text(query))\n",
    "    tables = result.fetchall()\n",
    "    df = pd.DataFrame(tables, columns=result.keys())\n",
    "print(df)  # Display the null counts for leads_qualified table"
   ]
  },
  {
   "cell_type": "code",
   "execution_count": 37,
   "id": "c5a38fb6",
   "metadata": {},
   "outputs": [
    {
     "name": "stdout",
     "output_type": "stream",
     "text": [
      "2025-08-27 22:47:38,150 INFO sqlalchemy.engine.Engine BEGIN (implicit)\n",
      "2025-08-27 22:47:38,151 INFO sqlalchemy.engine.Engine \n",
      "SELECT \n",
      "    COUNT(DISTINCT mql_id) AS unique_mql_ids,\n",
      "    COUNT(mql_id) AS total_mql_ids,\n",
      "    COUNT(DISTINCT landing_page_id) AS unique_landing_page_ids,\n",
      "    COUNT(landing_page_id) AS total_landing_page_ids\n",
      "FROM leads_qualified;\n",
      "\n",
      "2025-08-27 22:47:38,151 INFO sqlalchemy.engine.Engine [generated in 0.00188s] ()\n",
      "2025-08-27 22:47:38,166 INFO sqlalchemy.engine.Engine ROLLBACK\n",
      "   unique_mql_ids  total_mql_ids  unique_landing_page_ids  \\\n",
      "0            8000           8000                      495   \n",
      "\n",
      "   total_landing_page_ids  \n",
      "0                    8000  \n"
     ]
    }
   ],
   "source": [
    "query = \"\"\"\n",
    "SELECT \n",
    "    COUNT(DISTINCT mql_id) AS unique_mql_ids,\n",
    "    COUNT(mql_id) AS total_mql_ids,\n",
    "    COUNT(DISTINCT landing_page_id) AS unique_landing_page_ids,\n",
    "    COUNT(landing_page_id) AS total_landing_page_ids\n",
    "FROM leads_qualified;\n",
    "\"\"\"\n",
    "\n",
    "with engine.connect() as connection:\n",
    "    result = connection.execute(text(query))\n",
    "    tables = result.fetchall()\n",
    "    df = pd.DataFrame(tables, columns=result.keys())\n",
    "print(df)  # Display the count of unique mql_ids and landing_page_ids in leads_qualified table\n"
   ]
  },
  {
   "cell_type": "markdown",
   "id": "cbdb2ed6",
   "metadata": {},
   "source": [
    "## leads_closed"
   ]
  },
  {
   "cell_type": "code",
   "execution_count": 39,
   "id": "b8121d97",
   "metadata": {},
   "outputs": [
    {
     "name": "stdout",
     "output_type": "stream",
     "text": [
      "2025-08-27 22:48:37,090 INFO sqlalchemy.engine.Engine BEGIN (implicit)\n",
      "2025-08-27 22:48:37,091 INFO sqlalchemy.engine.Engine \n",
      "SELECT \n",
      "    SUM(CASE WHEN mql_id IS NULL THEN 1 ELSE 0 END) AS null_mql_id,\n",
      "    SUM(CASE WHEN seller_id IS NULL THEN 1 ELSE 0 END) AS null_seller_id,\n",
      "    SUM(CASE WHEN sdr_id IS NULL THEN 1 ELSE 0 END) AS null_sdr_id,\n",
      "    SUM(CASE WHEN sr_id IS NULL THEN 1 ELSE 0 END) AS null_sr_id,\n",
      "    SUM(CASE WHEN won_date IS NULL THEN 1 ELSE 0 END) AS null_won_date,\n",
      "    SUM(CASE WHEN business_segment IS NULL THEN 1 ELSE 0 END) AS null_business_segment,\n",
      "    SUM(CASE WHEN lead_type IS NULL THEN 1 ELSE 0 END) AS null_lead_type,\n",
      "    SUM(CASE WHEN lead_behaviour_profile IS NULL THEN 1 ELSE 0 END) AS null_lead_behaviour_profile, \n",
      "    SUM(CASE WHEN has_company IS NULL THEN 1 ELSE 0 END) AS null_has_company,\n",
      "    SUM(CASE WHEN has_gtin IS NULL THEN 1 ELSE 0 END) AS null_has_gtin,\n",
      "    SUM(CASE WHEN average_stock IS NULL THEN 1 ELSE 0 END) AS null_average_stock,\n",
      "    SUM(CASE WHEN business_type IS NULL THEN 1 ELSE 0 END) AS null_business_type,   \n",
      "    SUM(CASE WHEN declared_monthly_revenue IS NULL THEN 1 ELSE 0 END) AS null_declared_monthly_revenue, \n",
      "    SUM(CASE WHEN declared_product_catalog_size IS NULL THEN 1 ELSE 0 END) AS null_declared_product_catalog_size,\n",
      "    COUNT(*) AS total_rows\n",
      "FROM leads_closed;\n",
      "\n",
      "2025-08-27 22:48:37,091 INFO sqlalchemy.engine.Engine [generated in 0.00137s] ()\n",
      "2025-08-27 22:48:37,095 INFO sqlalchemy.engine.Engine ROLLBACK\n",
      "   null_mql_id  null_seller_id  null_sdr_id  null_sr_id  null_won_date  \\\n",
      "0            0               0            0           0              0   \n",
      "\n",
      "   null_business_segment  null_lead_type  null_lead_behaviour_profile  \\\n",
      "0                      1               6                          177   \n",
      "\n",
      "   null_has_company  null_has_gtin  null_average_stock  null_business_type  \\\n",
      "0               779            778                 776                  10   \n",
      "\n",
      "   null_declared_monthly_revenue  null_declared_product_catalog_size  \\\n",
      "0                              0                                 773   \n",
      "\n",
      "   total_rows  \n",
      "0         842  \n"
     ]
    }
   ],
   "source": [
    "query = \"\"\"\n",
    "SELECT \n",
    "    SUM(CASE WHEN mql_id IS NULL THEN 1 ELSE 0 END) AS null_mql_id,\n",
    "    SUM(CASE WHEN seller_id IS NULL THEN 1 ELSE 0 END) AS null_seller_id,\n",
    "    SUM(CASE WHEN sdr_id IS NULL THEN 1 ELSE 0 END) AS null_sdr_id,\n",
    "    SUM(CASE WHEN sr_id IS NULL THEN 1 ELSE 0 END) AS null_sr_id,\n",
    "    SUM(CASE WHEN won_date IS NULL THEN 1 ELSE 0 END) AS null_won_date,\n",
    "    SUM(CASE WHEN business_segment IS NULL THEN 1 ELSE 0 END) AS null_business_segment,\n",
    "    SUM(CASE WHEN lead_type IS NULL THEN 1 ELSE 0 END) AS null_lead_type,\n",
    "    SUM(CASE WHEN lead_behaviour_profile IS NULL THEN 1 ELSE 0 END) AS null_lead_behaviour_profile, \n",
    "    SUM(CASE WHEN has_company IS NULL THEN 1 ELSE 0 END) AS null_has_company,\n",
    "    SUM(CASE WHEN has_gtin IS NULL THEN 1 ELSE 0 END) AS null_has_gtin,\n",
    "    SUM(CASE WHEN average_stock IS NULL THEN 1 ELSE 0 END) AS null_average_stock,\n",
    "    SUM(CASE WHEN business_type IS NULL THEN 1 ELSE 0 END) AS null_business_type,   \n",
    "    SUM(CASE WHEN declared_monthly_revenue IS NULL THEN 1 ELSE 0 END) AS null_declared_monthly_revenue, \n",
    "    SUM(CASE WHEN declared_product_catalog_size IS NULL THEN 1 ELSE 0 END) AS null_declared_product_catalog_size,\n",
    "    COUNT(*) AS total_rows\n",
    "FROM leads_closed;\n",
    "\"\"\"\n",
    "\n",
    "with engine.connect() as connection:\n",
    "    result = connection.execute(text(query))\n",
    "    tables = result.fetchall()\n",
    "    df = pd.DataFrame(tables, columns=result.keys())\n",
    "print(df)  # Display the null counts for leads_closed table\n"
   ]
  },
  {
   "cell_type": "code",
   "execution_count": 41,
   "id": "173311dc",
   "metadata": {},
   "outputs": [
    {
     "name": "stdout",
     "output_type": "stream",
     "text": [
      "2025-08-27 22:48:51,580 INFO sqlalchemy.engine.Engine BEGIN (implicit)\n",
      "2025-08-27 22:48:51,581 INFO sqlalchemy.engine.Engine \n",
      "SELECT \n",
      "    COUNT(DISTINCT mql_id) AS unique_mql_ids,\n",
      "    COUNT(mql_id) AS total_mql_ids\n",
      "FROM leads_closed;\n",
      "\n",
      "2025-08-27 22:48:51,581 INFO sqlalchemy.engine.Engine [generated in 0.00162s] ()\n",
      "2025-08-27 22:48:51,584 INFO sqlalchemy.engine.Engine ROLLBACK\n",
      "   unique_mql_ids  total_mql_ids\n",
      "0             842            842\n"
     ]
    }
   ],
   "source": [
    "query = \"\"\"\n",
    "SELECT \n",
    "    COUNT(DISTINCT mql_id) AS unique_mql_ids,\n",
    "    COUNT(mql_id) AS total_mql_ids\n",
    "FROM leads_closed;\n",
    "\"\"\"\n",
    "\n",
    "with engine.connect() as connection:\n",
    "    result = connection.execute(text(query))\n",
    "    tables = result.fetchall()\n",
    "    df = pd.DataFrame(tables, columns=result.keys())\n",
    "print(df)  # Display the count of unique mql_ids in leads_closed table"
   ]
  },
  {
   "cell_type": "markdown",
   "id": "0397c012",
   "metadata": {},
   "source": [
    "All tables "
   ]
  },
  {
   "cell_type": "markdown",
   "id": "e61be88b",
   "metadata": {},
   "source": [
    "# Exploratory Data Analysis"
   ]
  },
  {
   "cell_type": "markdown",
   "id": "ab2dd457",
   "metadata": {},
   "source": [
    "## Sales Over Time and time of the year correlation"
   ]
  },
  {
   "cell_type": "code",
   "execution_count": 61,
   "id": "f64df72b",
   "metadata": {},
   "outputs": [
    {
     "name": "stdout",
     "output_type": "stream",
     "text": [
      "2025-08-28 00:11:14,904 INFO sqlalchemy.engine.Engine BEGIN (implicit)\n",
      "2025-08-28 00:11:14,906 INFO sqlalchemy.engine.Engine \n",
      "SELECT \n",
      "    DATE(orders.order_purchase_timestamp) AS order_date,\n",
      "    SUM(price) AS total_revenue,\n",
      "    COUNT(DISTINCT order_id) AS total_orders,\n",
      "    AVG(price) AS avg_order_value\n",
      "FROM order_items \n",
      "LEFT JOIN orders USING(order_id)\n",
      "GROUP BY order_date\n",
      "ORDER BY order_date;\n",
      "\n",
      "2025-08-28 00:11:14,907 INFO sqlalchemy.engine.Engine [generated in 0.00339s] ()\n",
      "2025-08-28 00:11:16,218 INFO sqlalchemy.engine.Engine ROLLBACK\n",
      "     order_date  total_revenue  total_orders  avg_order_value\n",
      "0    2016-09-04          72.89             1        36.445000\n",
      "1    2016-09-05          59.50             1        59.500000\n",
      "2    2016-09-15         134.97             1        44.990000\n",
      "3    2016-10-02         100.00             1       100.000000\n",
      "4    2016-10-03         463.48             8        57.935000\n",
      "..          ...            ...           ...              ...\n",
      "611  2018-08-26        8070.71            73        98.423293\n",
      "612  2018-08-27        5345.91            66        75.294507\n",
      "613  2018-08-28        3673.91            39        81.642444\n",
      "614  2018-08-29        1546.04            11        96.627500\n",
      "615  2018-09-03         145.00             1       145.000000\n",
      "\n",
      "[616 rows x 4 columns]\n"
     ]
    }
   ],
   "source": [
    "# Revenue and number of orders\n",
    "query = \"\"\"\n",
    "SELECT \n",
    "    DATE(orders.order_purchase_timestamp) AS order_date,\n",
    "    SUM(price) AS total_revenue,\n",
    "    COUNT(DISTINCT order_id) AS total_orders,\n",
    "    AVG(price) AS avg_order_value\n",
    "FROM order_items \n",
    "LEFT JOIN orders USING(order_id)\n",
    "GROUP BY order_date\n",
    "ORDER BY order_date;\n",
    "\"\"\" \n",
    "\n",
    "with engine.connect() as connection:\n",
    "    result = connection.execute(text(query))\n",
    "    tables = result.fetchall()\n",
    "    df = pd.DataFrame(tables, columns=result.keys())\n",
    "print(df)  # Display the revenue and number of orders per day\n",
    "\n",
    "df[\"order_date\"] = pd.to_datetime(df[\"order_date\"])"
   ]
  },
  {
   "cell_type": "code",
   "execution_count": 62,
   "id": "45c66a1c",
   "metadata": {},
   "outputs": [
    {
     "name": "stdout",
     "output_type": "stream",
     "text": [
      "<class 'pandas.core.frame.DataFrame'>\n",
      "RangeIndex: 616 entries, 0 to 615\n",
      "Data columns (total 4 columns):\n",
      " #   Column           Non-Null Count  Dtype         \n",
      "---  ------           --------------  -----         \n",
      " 0   order_date       616 non-null    datetime64[ns]\n",
      " 1   total_revenue    616 non-null    float64       \n",
      " 2   total_orders     616 non-null    int64         \n",
      " 3   avg_order_value  616 non-null    float64       \n",
      "dtypes: datetime64[ns](1), float64(2), int64(1)\n",
      "memory usage: 19.4 KB\n"
     ]
    }
   ],
   "source": [
    "df.info()"
   ]
  },
  {
   "cell_type": "code",
   "execution_count": 66,
   "id": "ae749f46",
   "metadata": {},
   "outputs": [
    {
     "name": "stdout",
     "output_type": "stream",
     "text": [
      "Significant event date: 2017-11-24\n"
     ]
    }
   ],
   "source": [
    "significant_event_date = df[df[\"total_revenue\"] == df[\"total_revenue\"].max()][\"order_date\"].dt.strftime('%Y-%m-%d').values[0]\n",
    "print(f\"Significant event date: {significant_event_date}\")"
   ]
  },
  {
   "cell_type": "code",
   "execution_count": 71,
   "id": "bbe752c8",
   "metadata": {},
   "outputs": [
    {
     "data": {
      "image/png": "[encoded data removed]",
      "text/plain": [
       "<Figure size 1800x600 with 1 Axes>"
      ]
     },
     "metadata": {},
     "output_type": "display_data"
    }
   ],
   "source": [
    "fig, ax = plt.subplots(figsize=(18, 6))\n",
    "sns.lineplot(data=df, x=\"order_date\", y=\"total_revenue\", ax=ax)\n",
    "plt.title(\"Total Revenue Over Time\")\n",
    "ax.annotate(f\"Significant Event {significant_event_date}\", xy=(df[df[\"total_revenue\"] == df[\"total_revenue\"].max()][\"order_date\"], df[\"total_revenue\"].max())) \n",
    "plt.show()"
   ]
  },
  {
   "cell_type": "markdown",
   "id": "dc269901",
   "metadata": {},
   "source": [
    "This shows that the average revenue gained is volatile from day to day and month to month, We'll conduct some statistical tests to check wether the differences are statistically significant"
   ]
  },
  {
   "cell_type": "code",
   "execution_count": 88,
   "id": "1d7b2999",
   "metadata": {},
   "outputs": [],
   "source": [
    "alpha = 0.05"
   ]
  },
  {
   "cell_type": "code",
   "execution_count": 80,
   "id": "db524d17",
   "metadata": {},
   "outputs": [
    {
     "data": {
      "text/html": [
       "<div>\n",
       "<style scoped>\n",
       "    .dataframe tbody tr th:only-of-type {\n",
       "        vertical-align: middle;\n",
       "    }\n",
       "\n",
       "    .dataframe tbody tr th {\n",
       "        vertical-align: top;\n",
       "    }\n",
       "\n",
       "    .dataframe thead th {\n",
       "        text-align: right;\n",
       "    }\n",
       "</style>\n",
       "<table border=\"1\" class=\"dataframe\">\n",
       "  <thead>\n",
       "    <tr style=\"text-align: right;\">\n",
       "      <th></th>\n",
       "      <th>order_date</th>\n",
       "      <th>total_revenue</th>\n",
       "      <th>total_orders</th>\n",
       "      <th>avg_order_value</th>\n",
       "      <th>order_week</th>\n",
       "      <th>order_month</th>\n",
       "      <th>order_day</th>\n",
       "    </tr>\n",
       "  </thead>\n",
       "  <tbody>\n",
       "    <tr>\n",
       "      <th>0</th>\n",
       "      <td>2016-09-04</td>\n",
       "      <td>72.89</td>\n",
       "      <td>1</td>\n",
       "      <td>36.445</td>\n",
       "      <td>35</td>\n",
       "      <td>9</td>\n",
       "      <td>6</td>\n",
       "    </tr>\n",
       "    <tr>\n",
       "      <th>1</th>\n",
       "      <td>2016-09-05</td>\n",
       "      <td>59.50</td>\n",
       "      <td>1</td>\n",
       "      <td>59.500</td>\n",
       "      <td>36</td>\n",
       "      <td>9</td>\n",
       "      <td>0</td>\n",
       "    </tr>\n",
       "    <tr>\n",
       "      <th>2</th>\n",
       "      <td>2016-09-15</td>\n",
       "      <td>134.97</td>\n",
       "      <td>1</td>\n",
       "      <td>44.990</td>\n",
       "      <td>37</td>\n",
       "      <td>9</td>\n",
       "      <td>3</td>\n",
       "    </tr>\n",
       "    <tr>\n",
       "      <th>3</th>\n",
       "      <td>2016-10-02</td>\n",
       "      <td>100.00</td>\n",
       "      <td>1</td>\n",
       "      <td>100.000</td>\n",
       "      <td>39</td>\n",
       "      <td>10</td>\n",
       "      <td>6</td>\n",
       "    </tr>\n",
       "    <tr>\n",
       "      <th>4</th>\n",
       "      <td>2016-10-03</td>\n",
       "      <td>463.48</td>\n",
       "      <td>8</td>\n",
       "      <td>57.935</td>\n",
       "      <td>40</td>\n",
       "      <td>10</td>\n",
       "      <td>0</td>\n",
       "    </tr>\n",
       "  </tbody>\n",
       "</table>\n",
       "</div>"
      ],
      "text/plain": [
       "  order_date  total_revenue  total_orders  avg_order_value  order_week  \\\n",
       "0 2016-09-04          72.89             1           36.445          35   \n",
       "1 2016-09-05          59.50             1           59.500          36   \n",
       "2 2016-09-15         134.97             1           44.990          37   \n",
       "3 2016-10-02         100.00             1          100.000          39   \n",
       "4 2016-10-03         463.48             8           57.935          40   \n",
       "\n",
       "   order_month  order_day  \n",
       "0            9          6  \n",
       "1            9          0  \n",
       "2            9          3  \n",
       "3           10          6  \n",
       "4           10          0  "
      ]
     },
     "execution_count": 80,
     "metadata": {},
     "output_type": "execute_result"
    }
   ],
   "source": [
    "df[\"order_week\"] = df[\"order_date\"].dt.isocalendar().week\n",
    "df[\"order_month\"] = df[\"order_date\"].dt.month\n",
    "df[\"order_day\"] = df[\"order_date\"].dt.weekday\n",
    "\n",
    "df.head()"
   ]
  },
  {
   "cell_type": "code",
   "execution_count": 74,
   "id": "20d5be42",
   "metadata": {},
   "outputs": [
    {
     "data": {
      "image/png": "[encoded data removed]",
      "text/plain": [
       "<Figure size 640x480 with 1 Axes>"
      ]
     },
     "metadata": {},
     "output_type": "display_data"
    }
   ],
   "source": [
    "sns.boxplot(data=df, x=\"order_month\", y=\"total_revenue\")\n",
    "plt.title(\"Total Revenue by Month\")\n",
    "plt.show()"
   ]
  },
  {
   "cell_type": "code",
   "execution_count": 77,
   "id": "7c902b07",
   "metadata": {},
   "outputs": [
    {
     "data": {
      "text/html": [
       "<div>\n",
       "<style scoped>\n",
       "    .dataframe tbody tr th:only-of-type {\n",
       "        vertical-align: middle;\n",
       "    }\n",
       "\n",
       "    .dataframe tbody tr th {\n",
       "        vertical-align: top;\n",
       "    }\n",
       "\n",
       "    .dataframe thead th {\n",
       "        text-align: right;\n",
       "    }\n",
       "</style>\n",
       "<table border=\"1\" class=\"dataframe\">\n",
       "  <thead>\n",
       "    <tr style=\"text-align: right;\">\n",
       "      <th></th>\n",
       "      <th>Source</th>\n",
       "      <th>ddof1</th>\n",
       "      <th>ddof2</th>\n",
       "      <th>F</th>\n",
       "      <th>p-unc</th>\n",
       "      <th>np2</th>\n",
       "    </tr>\n",
       "  </thead>\n",
       "  <tbody>\n",
       "    <tr>\n",
       "      <th>0</th>\n",
       "      <td>order_month</td>\n",
       "      <td>11</td>\n",
       "      <td>216.617915</td>\n",
       "      <td>2.788039</td>\n",
       "      <td>0.002062</td>\n",
       "      <td>0.070816</td>\n",
       "    </tr>\n",
       "  </tbody>\n",
       "</table>\n",
       "</div>"
      ],
      "text/plain": [
       "        Source  ddof1       ddof2         F     p-unc       np2\n",
       "0  order_month     11  216.617915  2.788039  0.002062  0.070816"
      ]
     },
     "execution_count": 77,
     "metadata": {},
     "output_type": "execute_result"
    }
   ],
   "source": [
    "pingouin.welch_anova(dv='total_revenue', between='order_month', data=df)"
   ]
  },
  {
   "cell_type": "code",
   "execution_count": 102,
   "id": "0d2f123f",
   "metadata": {},
   "outputs": [
    {
     "data": {
      "text/html": [
       "<div>\n",
       "<style scoped>\n",
       "    .dataframe tbody tr th:only-of-type {\n",
       "        vertical-align: middle;\n",
       "    }\n",
       "\n",
       "    .dataframe tbody tr th {\n",
       "        vertical-align: top;\n",
       "    }\n",
       "\n",
       "    .dataframe thead th {\n",
       "        text-align: right;\n",
       "    }\n",
       "</style>\n",
       "<table border=\"1\" class=\"dataframe\">\n",
       "  <thead>\n",
       "    <tr style=\"text-align: right;\">\n",
       "      <th></th>\n",
       "      <th>Contrast</th>\n",
       "      <th>A</th>\n",
       "      <th>B</th>\n",
       "      <th>Paired</th>\n",
       "      <th>Parametric</th>\n",
       "      <th>T</th>\n",
       "      <th>dof</th>\n",
       "      <th>alternative</th>\n",
       "      <th>p-unc</th>\n",
       "      <th>p-corr</th>\n",
       "      <th>p-adjust</th>\n",
       "      <th>BF10</th>\n",
       "      <th>hedges</th>\n",
       "    </tr>\n",
       "  </thead>\n",
       "  <tbody>\n",
       "  </tbody>\n",
       "</table>\n",
       "</div>"
      ],
      "text/plain": [
       "Empty DataFrame\n",
       "Columns: [Contrast, A, B, Paired, Parametric, T, dof, alternative, p-unc, p-corr, p-adjust, BF10, hedges]\n",
       "Index: []"
      ]
     },
     "execution_count": 102,
     "metadata": {},
     "output_type": "execute_result"
    }
   ],
   "source": [
    "pairwise_test = pingouin.pairwise_tests(dv='total_revenue', between='order_month', data=df, padjust='bonf', alternative=\"two-sided\")\n",
    "\n",
    "pairwise_test[pairwise_test['p-corr'] < alpha]"
   ]
  },
  {
   "cell_type": "code",
   "execution_count": 82,
   "id": "2541b06b",
   "metadata": {},
   "outputs": [
    {
     "data": {
      "image/png": "[encoded data removed]",
      "text/plain": [
       "<Figure size 640x480 with 1 Axes>"
      ]
     },
     "metadata": {},
     "output_type": "display_data"
    }
   ],
   "source": [
    "sns.boxplot(data=df, x=\"order_day\", y=\"total_revenue\")\n",
    "plt.title(\"Total Revenue by Day of Week\")\n",
    "plt.show()"
   ]
  },
  {
   "cell_type": "code",
   "execution_count": 83,
   "id": "30bce0f4",
   "metadata": {},
   "outputs": [
    {
     "data": {
      "text/html": [
       "<div>\n",
       "<style scoped>\n",
       "    .dataframe tbody tr th:only-of-type {\n",
       "        vertical-align: middle;\n",
       "    }\n",
       "\n",
       "    .dataframe tbody tr th {\n",
       "        vertical-align: top;\n",
       "    }\n",
       "\n",
       "    .dataframe thead th {\n",
       "        text-align: right;\n",
       "    }\n",
       "</style>\n",
       "<table border=\"1\" class=\"dataframe\">\n",
       "  <thead>\n",
       "    <tr style=\"text-align: right;\">\n",
       "      <th></th>\n",
       "      <th>Source</th>\n",
       "      <th>ddof1</th>\n",
       "      <th>ddof2</th>\n",
       "      <th>F</th>\n",
       "      <th>p-unc</th>\n",
       "      <th>np2</th>\n",
       "    </tr>\n",
       "  </thead>\n",
       "  <tbody>\n",
       "    <tr>\n",
       "      <th>0</th>\n",
       "      <td>order_day</td>\n",
       "      <td>6</td>\n",
       "      <td>269.716343</td>\n",
       "      <td>8.443537</td>\n",
       "      <td>2.084728e-08</td>\n",
       "      <td>0.056072</td>\n",
       "    </tr>\n",
       "  </tbody>\n",
       "</table>\n",
       "</div>"
      ],
      "text/plain": [
       "      Source  ddof1       ddof2         F         p-unc       np2\n",
       "0  order_day      6  269.716343  8.443537  2.084728e-08  0.056072"
      ]
     },
     "execution_count": 83,
     "metadata": {},
     "output_type": "execute_result"
    }
   ],
   "source": [
    "pingouin.welch_anova(dv='total_revenue', between='order_day', data=df)"
   ]
  },
  {
   "cell_type": "code",
   "execution_count": 106,
   "id": "5a2800b9",
   "metadata": {},
   "outputs": [
    {
     "data": {
      "text/html": [
       "<div>\n",
       "<style scoped>\n",
       "    .dataframe tbody tr th:only-of-type {\n",
       "        vertical-align: middle;\n",
       "    }\n",
       "\n",
       "    .dataframe tbody tr th {\n",
       "        vertical-align: top;\n",
       "    }\n",
       "\n",
       "    .dataframe thead th {\n",
       "        text-align: right;\n",
       "    }\n",
       "</style>\n",
       "<table border=\"1\" class=\"dataframe\">\n",
       "  <thead>\n",
       "    <tr style=\"text-align: right;\">\n",
       "      <th></th>\n",
       "      <th>Contrast</th>\n",
       "      <th>A</th>\n",
       "      <th>B</th>\n",
       "      <th>Paired</th>\n",
       "      <th>Parametric</th>\n",
       "      <th>T</th>\n",
       "      <th>dof</th>\n",
       "      <th>alternative</th>\n",
       "      <th>p-unc</th>\n",
       "      <th>p-corr</th>\n",
       "      <th>p-adjust</th>\n",
       "      <th>BF10</th>\n",
       "      <th>hedges</th>\n",
       "    </tr>\n",
       "  </thead>\n",
       "  <tbody>\n",
       "    <tr>\n",
       "      <th>4</th>\n",
       "      <td>order_day</td>\n",
       "      <td>0</td>\n",
       "      <td>5</td>\n",
       "      <td>False</td>\n",
       "      <td>True</td>\n",
       "      <td>4.304521</td>\n",
       "      <td>152.547179</td>\n",
       "      <td>greater</td>\n",
       "      <td>1.490041e-05</td>\n",
       "      <td>0.000313</td>\n",
       "      <td>bonf</td>\n",
       "      <td>1318.884</td>\n",
       "      <td>0.639870</td>\n",
       "    </tr>\n",
       "    <tr>\n",
       "      <th>5</th>\n",
       "      <td>order_day</td>\n",
       "      <td>0</td>\n",
       "      <td>6</td>\n",
       "      <td>False</td>\n",
       "      <td>True</td>\n",
       "      <td>3.888474</td>\n",
       "      <td>159.331850</td>\n",
       "      <td>greater</td>\n",
       "      <td>7.389094e-05</td>\n",
       "      <td>0.001552</td>\n",
       "      <td>bonf</td>\n",
       "      <td>300.564</td>\n",
       "      <td>0.577703</td>\n",
       "    </tr>\n",
       "    <tr>\n",
       "      <th>9</th>\n",
       "      <td>order_day</td>\n",
       "      <td>1</td>\n",
       "      <td>5</td>\n",
       "      <td>False</td>\n",
       "      <td>True</td>\n",
       "      <td>4.940758</td>\n",
       "      <td>172.000000</td>\n",
       "      <td>greater</td>\n",
       "      <td>9.170097e-07</td>\n",
       "      <td>0.000019</td>\n",
       "      <td>bonf</td>\n",
       "      <td>1.595e+04</td>\n",
       "      <td>0.745844</td>\n",
       "    </tr>\n",
       "    <tr>\n",
       "      <th>10</th>\n",
       "      <td>order_day</td>\n",
       "      <td>1</td>\n",
       "      <td>6</td>\n",
       "      <td>False</td>\n",
       "      <td>True</td>\n",
       "      <td>4.447096</td>\n",
       "      <td>167.866593</td>\n",
       "      <td>greater</td>\n",
       "      <td>7.890678e-06</td>\n",
       "      <td>0.000166</td>\n",
       "      <td>bonf</td>\n",
       "      <td>2250.427</td>\n",
       "      <td>0.668862</td>\n",
       "    </tr>\n",
       "    <tr>\n",
       "      <th>13</th>\n",
       "      <td>order_day</td>\n",
       "      <td>2</td>\n",
       "      <td>5</td>\n",
       "      <td>False</td>\n",
       "      <td>True</td>\n",
       "      <td>4.393941</td>\n",
       "      <td>172.000000</td>\n",
       "      <td>greater</td>\n",
       "      <td>9.710105e-06</td>\n",
       "      <td>0.000204</td>\n",
       "      <td>bonf</td>\n",
       "      <td>1832.098</td>\n",
       "      <td>0.663298</td>\n",
       "    </tr>\n",
       "    <tr>\n",
       "      <th>14</th>\n",
       "      <td>order_day</td>\n",
       "      <td>2</td>\n",
       "      <td>6</td>\n",
       "      <td>False</td>\n",
       "      <td>True</td>\n",
       "      <td>3.929715</td>\n",
       "      <td>165.300499</td>\n",
       "      <td>greater</td>\n",
       "      <td>6.238928e-05</td>\n",
       "      <td>0.001310</td>\n",
       "      <td>bonf</td>\n",
       "      <td>345.282</td>\n",
       "      <td>0.591305</td>\n",
       "    </tr>\n",
       "    <tr>\n",
       "      <th>16</th>\n",
       "      <td>order_day</td>\n",
       "      <td>3</td>\n",
       "      <td>5</td>\n",
       "      <td>False</td>\n",
       "      <td>True</td>\n",
       "      <td>3.693926</td>\n",
       "      <td>165.213284</td>\n",
       "      <td>greater</td>\n",
       "      <td>1.499133e-04</td>\n",
       "      <td>0.003148</td>\n",
       "      <td>bonf</td>\n",
       "      <td>157.001</td>\n",
       "      <td>0.555324</td>\n",
       "    </tr>\n",
       "    <tr>\n",
       "      <th>17</th>\n",
       "      <td>order_day</td>\n",
       "      <td>3</td>\n",
       "      <td>6</td>\n",
       "      <td>False</td>\n",
       "      <td>True</td>\n",
       "      <td>3.226068</td>\n",
       "      <td>170.673840</td>\n",
       "      <td>greater</td>\n",
       "      <td>7.522382e-04</td>\n",
       "      <td>0.015797</td>\n",
       "      <td>bonf</td>\n",
       "      <td>37.413</td>\n",
       "      <td>0.483305</td>\n",
       "    </tr>\n",
       "  </tbody>\n",
       "</table>\n",
       "</div>"
      ],
      "text/plain": [
       "     Contrast  A  B  Paired  Parametric         T         dof alternative  \\\n",
       "4   order_day  0  5   False        True  4.304521  152.547179     greater   \n",
       "5   order_day  0  6   False        True  3.888474  159.331850     greater   \n",
       "9   order_day  1  5   False        True  4.940758  172.000000     greater   \n",
       "10  order_day  1  6   False        True  4.447096  167.866593     greater   \n",
       "13  order_day  2  5   False        True  4.393941  172.000000     greater   \n",
       "14  order_day  2  6   False        True  3.929715  165.300499     greater   \n",
       "16  order_day  3  5   False        True  3.693926  165.213284     greater   \n",
       "17  order_day  3  6   False        True  3.226068  170.673840     greater   \n",
       "\n",
       "           p-unc    p-corr p-adjust       BF10    hedges  \n",
       "4   1.490041e-05  0.000313     bonf   1318.884  0.639870  \n",
       "5   7.389094e-05  0.001552     bonf    300.564  0.577703  \n",
       "9   9.170097e-07  0.000019     bonf  1.595e+04  0.745844  \n",
       "10  7.890678e-06  0.000166     bonf   2250.427  0.668862  \n",
       "13  9.710105e-06  0.000204     bonf   1832.098  0.663298  \n",
       "14  6.238928e-05  0.001310     bonf    345.282  0.591305  \n",
       "16  1.499133e-04  0.003148     bonf    157.001  0.555324  \n",
       "17  7.522382e-04  0.015797     bonf     37.413  0.483305  "
      ]
     },
     "execution_count": 106,
     "metadata": {},
     "output_type": "execute_result"
    }
   ],
   "source": [
    "pairwise_test = pingouin.pairwise_tests(dv='total_revenue', between='order_day', data=df, padjust='bonf', alternative=\"greater\")\n",
    "\n",
    "pairwise_test[pairwise_test['p-corr'] < alpha]"
   ]
  },
  {
   "cell_type": "markdown",
   "id": "63def5de",
   "metadata": {},
   "source": [
    "Although there aren't any statistically significant difference between months, the tests shows that on average the revenue on weekdays (Monday - Thursday) are higher than weekends (Friday - Sunday)"
   ]
  }
 ],
 "metadata": {
  "kernelspec": {
   "display_name": "project1",
   "language": "python",
   "name": "python3"
  },
  "language_info": {
   "codemirror_mode": {
    "name": "ipython",
    "version": 3
   },
   "file_extension": ".py",
   "mimetype": "text/x-python",
   "name": "python",
   "nbconvert_exporter": "python",
   "pygments_lexer": "ipython3",
   "version": "3.10.18"
  }
 },
 "nbformat": 4,
 "nbformat_minor": 5
}
