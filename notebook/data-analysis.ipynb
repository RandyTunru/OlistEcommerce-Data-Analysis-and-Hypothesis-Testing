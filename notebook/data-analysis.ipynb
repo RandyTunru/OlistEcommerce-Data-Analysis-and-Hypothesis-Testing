{
 "cells": [
  {
   "cell_type": "code",
   "execution_count": 15,
   "id": "1de6f277",
   "metadata": {},
   "outputs": [],
   "source": [
    "from sqlalchemy import create_engine, inspect, text\n",
    "import pandas as pd"
   ]
  },
  {
   "cell_type": "code",
   "execution_count": 16,
   "id": "fb128fd0",
   "metadata": {},
   "outputs": [],
   "source": [
    "pd.set_option('display.max_columns', None)\n",
    "pd.set_option('display.max_rows', 50)"
   ]
  },
  {
   "cell_type": "code",
   "execution_count": 17,
   "id": "26695d29",
   "metadata": {},
   "outputs": [],
   "source": [
    "import numpy as np\n",
    "import matplotlib.pyplot as plt\n",
    "import seaborn as sns\n",
    "import scipy.stats as stats\n",
    "import pingouin "
   ]
  },
  {
   "cell_type": "code",
   "execution_count": 18,
   "id": "ea0ae002",
   "metadata": {},
   "outputs": [
    {
     "name": "stdout",
     "output_type": "stream",
     "text": [
      "True\n",
      "c:\\Users\\randy\\Development\\Data Science Projects\\Olist Ecommerce SQLite\\dataset\\olist.sqlite\n"
     ]
    }
   ],
   "source": [
    "import os\n",
    "print(os.path.exists(\"../dataset/olist.sqlite\"))            # make sure file exists\n",
    "print(os.path.abspath(\"../dataset/olist.sqlite\"))          # absolute path shown"
   ]
  },
  {
   "cell_type": "code",
   "execution_count": 19,
   "id": "d238d726",
   "metadata": {},
   "outputs": [],
   "source": [
    "engine = create_engine(\"sqlite:///../dataset/olist.sqlite\", echo=True)"
   ]
  },
  {
   "cell_type": "code",
   "execution_count": 20,
   "id": "7e77144d",
   "metadata": {},
   "outputs": [
    {
     "name": "stdout",
     "output_type": "stream",
     "text": [
      "2025-08-28 13:02:44,116 INFO sqlalchemy.engine.Engine BEGIN (implicit)\n",
      "2025-08-28 13:02:44,117 INFO sqlalchemy.engine.Engine SELECT name FROM sqlite_master WHERE type='table' AND name NOT LIKE 'sqlite~_%' ESCAPE '~' ORDER BY name\n",
      "2025-08-28 13:02:44,118 INFO sqlalchemy.engine.Engine [raw sql] ()\n",
      "2025-08-28 13:02:44,119 INFO sqlalchemy.engine.Engine ROLLBACK\n",
      "['customers', 'geolocation', 'leads_closed', 'leads_qualified', 'order_items', 'order_payments', 'order_reviews', 'orders', 'product_category_name_translation', 'products', 'sellers']\n"
     ]
    }
   ],
   "source": [
    "inspector = inspect(engine)\n",
    "table_names = inspector.get_table_names()\n",
    "print(table_names)  "
   ]
  },
  {
   "cell_type": "code",
   "execution_count": 21,
   "id": "084e7cca",
   "metadata": {},
   "outputs": [
    {
     "name": "stdout",
     "output_type": "stream",
     "text": [
      "2025-08-28 13:02:44,280 INFO sqlalchemy.engine.Engine BEGIN (implicit)\n",
      "2025-08-28 13:02:44,281 INFO sqlalchemy.engine.Engine SELECT * FROM customers LIMIT 5;\n",
      "2025-08-28 13:02:44,281 INFO sqlalchemy.engine.Engine [generated in 0.00173s] ()\n",
      "2025-08-28 13:02:44,719 INFO sqlalchemy.engine.Engine ROLLBACK\n"
     ]
    },
    {
     "data": {
      "text/html": [
       "<div>\n",
       "<style scoped>\n",
       "    .dataframe tbody tr th:only-of-type {\n",
       "        vertical-align: middle;\n",
       "    }\n",
       "\n",
       "    .dataframe tbody tr th {\n",
       "        vertical-align: top;\n",
       "    }\n",
       "\n",
       "    .dataframe thead th {\n",
       "        text-align: right;\n",
       "    }\n",
       "</style>\n",
       "<table border=\"1\" class=\"dataframe\">\n",
       "  <thead>\n",
       "    <tr style=\"text-align: right;\">\n",
       "      <th></th>\n",
       "      <th>customer_id</th>\n",
       "      <th>customer_unique_id</th>\n",
       "      <th>customer_zip_code_prefix</th>\n",
       "      <th>customer_city</th>\n",
       "      <th>customer_state</th>\n",
       "    </tr>\n",
       "  </thead>\n",
       "  <tbody>\n",
       "    <tr>\n",
       "      <th>0</th>\n",
       "      <td>06b8999e2fba1a1fbc88172c00ba8bc7</td>\n",
       "      <td>861eff4711a542e4b93843c6dd7febb0</td>\n",
       "      <td>14409</td>\n",
       "      <td>franca</td>\n",
       "      <td>SP</td>\n",
       "    </tr>\n",
       "    <tr>\n",
       "      <th>1</th>\n",
       "      <td>18955e83d337fd6b2def6b18a428ac77</td>\n",
       "      <td>290c77bc529b7ac935b93aa66c333dc3</td>\n",
       "      <td>9790</td>\n",
       "      <td>sao bernardo do campo</td>\n",
       "      <td>SP</td>\n",
       "    </tr>\n",
       "    <tr>\n",
       "      <th>2</th>\n",
       "      <td>4e7b3e00288586ebd08712fdd0374a03</td>\n",
       "      <td>060e732b5b29e8181a18229c7b0b2b5e</td>\n",
       "      <td>1151</td>\n",
       "      <td>sao paulo</td>\n",
       "      <td>SP</td>\n",
       "    </tr>\n",
       "    <tr>\n",
       "      <th>3</th>\n",
       "      <td>b2b6027bc5c5109e529d4dc6358b12c3</td>\n",
       "      <td>259dac757896d24d7702b9acbbff3f3c</td>\n",
       "      <td>8775</td>\n",
       "      <td>mogi das cruzes</td>\n",
       "      <td>SP</td>\n",
       "    </tr>\n",
       "    <tr>\n",
       "      <th>4</th>\n",
       "      <td>4f2d8ab171c80ec8364f7c12e35b23ad</td>\n",
       "      <td>345ecd01c38d18a9036ed96c73b8d066</td>\n",
       "      <td>13056</td>\n",
       "      <td>campinas</td>\n",
       "      <td>SP</td>\n",
       "    </tr>\n",
       "  </tbody>\n",
       "</table>\n",
       "</div>"
      ],
      "text/plain": [
       "                        customer_id                customer_unique_id  \\\n",
       "0  06b8999e2fba1a1fbc88172c00ba8bc7  861eff4711a542e4b93843c6dd7febb0   \n",
       "1  18955e83d337fd6b2def6b18a428ac77  290c77bc529b7ac935b93aa66c333dc3   \n",
       "2  4e7b3e00288586ebd08712fdd0374a03  060e732b5b29e8181a18229c7b0b2b5e   \n",
       "3  b2b6027bc5c5109e529d4dc6358b12c3  259dac757896d24d7702b9acbbff3f3c   \n",
       "4  4f2d8ab171c80ec8364f7c12e35b23ad  345ecd01c38d18a9036ed96c73b8d066   \n",
       "\n",
       "   customer_zip_code_prefix          customer_city customer_state  \n",
       "0                     14409                 franca             SP  \n",
       "1                      9790  sao bernardo do campo             SP  \n",
       "2                      1151              sao paulo             SP  \n",
       "3                      8775        mogi das cruzes             SP  \n",
       "4                     13056               campinas             SP  "
      ]
     },
     "execution_count": 21,
     "metadata": {},
     "output_type": "execute_result"
    }
   ],
   "source": [
    "with engine.connect() as connection:\n",
    "    result = connection.execute(text(\"SELECT * FROM customers LIMIT 5;\"))\n",
    "    tables = result.fetchall()\n",
    "    df = pd.DataFrame(tables, columns=result.keys())\n",
    "\n",
    "df.head()  # Display the first few rows of the DataFrame"
   ]
  },
  {
   "cell_type": "code",
   "execution_count": 22,
   "id": "573302cb",
   "metadata": {},
   "outputs": [
    {
     "name": "stdout",
     "output_type": "stream",
     "text": [
      "2025-08-28 13:02:44,939 INFO sqlalchemy.engine.Engine BEGIN (implicit)\n",
      "2025-08-28 13:02:44,941 INFO sqlalchemy.engine.Engine SELECT * FROM customers LIMIT 5;\n",
      "2025-08-28 13:02:44,942 INFO sqlalchemy.engine.Engine [raw sql] ()\n",
      "2025-08-28 13:02:44,945 INFO sqlalchemy.engine.Engine ROLLBACK\n"
     ]
    },
    {
     "data": {
      "text/html": [
       "<div>\n",
       "<style scoped>\n",
       "    .dataframe tbody tr th:only-of-type {\n",
       "        vertical-align: middle;\n",
       "    }\n",
       "\n",
       "    .dataframe tbody tr th {\n",
       "        vertical-align: top;\n",
       "    }\n",
       "\n",
       "    .dataframe thead th {\n",
       "        text-align: right;\n",
       "    }\n",
       "</style>\n",
       "<table border=\"1\" class=\"dataframe\">\n",
       "  <thead>\n",
       "    <tr style=\"text-align: right;\">\n",
       "      <th></th>\n",
       "      <th>customer_id</th>\n",
       "      <th>customer_unique_id</th>\n",
       "      <th>customer_zip_code_prefix</th>\n",
       "      <th>customer_city</th>\n",
       "      <th>customer_state</th>\n",
       "    </tr>\n",
       "  </thead>\n",
       "  <tbody>\n",
       "    <tr>\n",
       "      <th>0</th>\n",
       "      <td>06b8999e2fba1a1fbc88172c00ba8bc7</td>\n",
       "      <td>861eff4711a542e4b93843c6dd7febb0</td>\n",
       "      <td>14409</td>\n",
       "      <td>franca</td>\n",
       "      <td>SP</td>\n",
       "    </tr>\n",
       "    <tr>\n",
       "      <th>1</th>\n",
       "      <td>18955e83d337fd6b2def6b18a428ac77</td>\n",
       "      <td>290c77bc529b7ac935b93aa66c333dc3</td>\n",
       "      <td>9790</td>\n",
       "      <td>sao bernardo do campo</td>\n",
       "      <td>SP</td>\n",
       "    </tr>\n",
       "    <tr>\n",
       "      <th>2</th>\n",
       "      <td>4e7b3e00288586ebd08712fdd0374a03</td>\n",
       "      <td>060e732b5b29e8181a18229c7b0b2b5e</td>\n",
       "      <td>1151</td>\n",
       "      <td>sao paulo</td>\n",
       "      <td>SP</td>\n",
       "    </tr>\n",
       "    <tr>\n",
       "      <th>3</th>\n",
       "      <td>b2b6027bc5c5109e529d4dc6358b12c3</td>\n",
       "      <td>259dac757896d24d7702b9acbbff3f3c</td>\n",
       "      <td>8775</td>\n",
       "      <td>mogi das cruzes</td>\n",
       "      <td>SP</td>\n",
       "    </tr>\n",
       "    <tr>\n",
       "      <th>4</th>\n",
       "      <td>4f2d8ab171c80ec8364f7c12e35b23ad</td>\n",
       "      <td>345ecd01c38d18a9036ed96c73b8d066</td>\n",
       "      <td>13056</td>\n",
       "      <td>campinas</td>\n",
       "      <td>SP</td>\n",
       "    </tr>\n",
       "  </tbody>\n",
       "</table>\n",
       "</div>"
      ],
      "text/plain": [
       "                        customer_id                customer_unique_id  \\\n",
       "0  06b8999e2fba1a1fbc88172c00ba8bc7  861eff4711a542e4b93843c6dd7febb0   \n",
       "1  18955e83d337fd6b2def6b18a428ac77  290c77bc529b7ac935b93aa66c333dc3   \n",
       "2  4e7b3e00288586ebd08712fdd0374a03  060e732b5b29e8181a18229c7b0b2b5e   \n",
       "3  b2b6027bc5c5109e529d4dc6358b12c3  259dac757896d24d7702b9acbbff3f3c   \n",
       "4  4f2d8ab171c80ec8364f7c12e35b23ad  345ecd01c38d18a9036ed96c73b8d066   \n",
       "\n",
       "   customer_zip_code_prefix          customer_city customer_state  \n",
       "0                     14409                 franca             SP  \n",
       "1                      9790  sao bernardo do campo             SP  \n",
       "2                      1151              sao paulo             SP  \n",
       "3                      8775        mogi das cruzes             SP  \n",
       "4                     13056               campinas             SP  "
      ]
     },
     "execution_count": 22,
     "metadata": {},
     "output_type": "execute_result"
    }
   ],
   "source": [
    "df = pd.read_sql_query(\"SELECT * FROM customers LIMIT 5;\", con=engine)\n",
    "df.head()"
   ]
  },
  {
   "cell_type": "markdown",
   "id": "56d2a895",
   "metadata": {},
   "source": [
    "# Data Integrity Checks"
   ]
  },
  {
   "cell_type": "markdown",
   "id": "8f284820",
   "metadata": {},
   "source": [
    "## orders "
   ]
  },
  {
   "cell_type": "code",
   "execution_count": 23,
   "id": "76bbd85a",
   "metadata": {},
   "outputs": [
    {
     "name": "stdout",
     "output_type": "stream",
     "text": [
      "2025-08-28 13:02:44,977 INFO sqlalchemy.engine.Engine BEGIN (implicit)\n",
      "2025-08-28 13:02:44,979 INFO sqlalchemy.engine.Engine \n",
      "    SELECT \n",
      "        SUM(CASE WHEN customer_id IS NULL THEN 1 ELSE 0 END) AS null_customer_unique_id,\n",
      "        SUM(CASE WHEN order_id IS NULL THEN 1 ELSE 0 END) AS null_order_id,\n",
      "        SUM(CASE WHEN order_status IS NULL THEN 1 ELSE 0 END) AS null_order_status,\n",
      "        SUM(CASE WHEN order_purchase_timestamp IS NULL THEN 1 ELSE 0 END) AS null_order_purchase_timestamp,\n",
      "        SUM(CASE WHEN order_approved_at IS NULL THEN 1 ELSE 0 END) AS null_order_approved_at,\n",
      "        SUM(CASE WHEN order_delivered_carrier_date IS NULL THEN 1 ELSE 0 END) AS null_order_delivered_carrier_date,\n",
      "        SUM(CASE WHEN order_delivered_customer_date IS NULL THEN 1 ELSE 0 END) AS null_order_delivered_customer_date,\n",
      "        SUM(CASE WHEN order_estimated_delivery_date IS NULL THEN 1 ELSE 0 END) AS null_order_estimated_delivery_date,\n",
      "        COUNT(*) AS total_rows\n",
      "    FROM orders;\n",
      "\n",
      "2025-08-28 13:02:44,980 INFO sqlalchemy.engine.Engine [generated in 0.00254s] ()\n"
     ]
    },
    {
     "name": "stdout",
     "output_type": "stream",
     "text": [
      "2025-08-28 13:02:45,386 INFO sqlalchemy.engine.Engine ROLLBACK\n",
      "   null_customer_unique_id  null_order_id  null_order_status  \\\n",
      "0                        0              0                  0   \n",
      "\n",
      "   null_order_purchase_timestamp  null_order_approved_at  \\\n",
      "0                              0                     160   \n",
      "\n",
      "   null_order_delivered_carrier_date  null_order_delivered_customer_date  \\\n",
      "0                               1783                                2965   \n",
      "\n",
      "   null_order_estimated_delivery_date  total_rows  \n",
      "0                                   0       99441  \n"
     ]
    }
   ],
   "source": [
    "query = \"\"\"\n",
    "    SELECT \n",
    "        SUM(CASE WHEN customer_id IS NULL THEN 1 ELSE 0 END) AS null_customer_unique_id,\n",
    "        SUM(CASE WHEN order_id IS NULL THEN 1 ELSE 0 END) AS null_order_id,\n",
    "        SUM(CASE WHEN order_status IS NULL THEN 1 ELSE 0 END) AS null_order_status,\n",
    "        SUM(CASE WHEN order_purchase_timestamp IS NULL THEN 1 ELSE 0 END) AS null_order_purchase_timestamp,\n",
    "        SUM(CASE WHEN order_approved_at IS NULL THEN 1 ELSE 0 END) AS null_order_approved_at,\n",
    "        SUM(CASE WHEN order_delivered_carrier_date IS NULL THEN 1 ELSE 0 END) AS null_order_delivered_carrier_date,\n",
    "        SUM(CASE WHEN order_delivered_customer_date IS NULL THEN 1 ELSE 0 END) AS null_order_delivered_customer_date,\n",
    "        SUM(CASE WHEN order_estimated_delivery_date IS NULL THEN 1 ELSE 0 END) AS null_order_estimated_delivery_date,\n",
    "        COUNT(*) AS total_rows\n",
    "    FROM orders;\n",
    "\"\"\"\n",
    "\n",
    "with engine.connect() as connection:\n",
    "    result = connection.execute(text(query))\n",
    "    tables = result.fetchall()\n",
    "    df = pd.DataFrame(tables, columns=result.keys())\n",
    "\n",
    "print(df)"
   ]
  },
  {
   "cell_type": "code",
   "execution_count": 24,
   "id": "2dc4199b",
   "metadata": {},
   "outputs": [
    {
     "name": "stdout",
     "output_type": "stream",
     "text": [
      "2025-08-28 13:02:45,418 INFO sqlalchemy.engine.Engine BEGIN (implicit)\n",
      "2025-08-28 13:02:45,419 INFO sqlalchemy.engine.Engine PRAGMA table_info('orders');\n",
      "2025-08-28 13:02:45,420 INFO sqlalchemy.engine.Engine [generated in 0.00187s] ()\n",
      "2025-08-28 13:02:45,424 INFO sqlalchemy.engine.Engine ROLLBACK\n",
      "   cid                           name  type  notnull dflt_value  pk\n",
      "0    0                       order_id  TEXT        0       None   0\n",
      "1    1                    customer_id  TEXT        0       None   0\n",
      "2    2                   order_status  TEXT        0       None   0\n",
      "3    3       order_purchase_timestamp  TEXT        0       None   0\n",
      "4    4              order_approved_at  TEXT        0       None   0\n",
      "5    5   order_delivered_carrier_date  TEXT        0       None   0\n",
      "6    6  order_delivered_customer_date  TEXT        0       None   0\n",
      "7    7  order_estimated_delivery_date  TEXT        0       None   0\n"
     ]
    }
   ],
   "source": [
    "# Check table constrainst \n",
    "\n",
    "with engine.connect() as connection:\n",
    "    result = connection.execute(text(\"PRAGMA table_info('orders');\"))\n",
    "    tables = result.fetchall()\n",
    "    df = pd.DataFrame(tables, columns=result.keys())\n",
    "\n",
    "print(df)  # Display the table info for 'orders'"
   ]
  },
  {
   "cell_type": "code",
   "execution_count": 25,
   "id": "3ccd2f94",
   "metadata": {},
   "outputs": [
    {
     "name": "stdout",
     "output_type": "stream",
     "text": [
      "2025-08-28 13:02:45,447 INFO sqlalchemy.engine.Engine BEGIN (implicit)\n",
      "2025-08-28 13:02:45,449 INFO sqlalchemy.engine.Engine \n",
      "    SELECT \n",
      "        COUNT(DISTINCT order_id) AS unique_order_ids,\n",
      "        COUNT(order_id) AS total_order_ids\n",
      "    FROM orders;\n",
      "\n",
      "2025-08-28 13:02:45,450 INFO sqlalchemy.engine.Engine [generated in 0.00227s] ()\n",
      "2025-08-28 13:02:45,976 INFO sqlalchemy.engine.Engine ROLLBACK\n",
      "   unique_order_ids  total_order_ids\n",
      "0             99441            99441\n"
     ]
    }
   ],
   "source": [
    "# Check duplicates in order_id and customer_id\n",
    "\n",
    "query = \"\"\"\n",
    "    SELECT \n",
    "        COUNT(DISTINCT order_id) AS unique_order_ids,\n",
    "        COUNT(order_id) AS total_order_ids\n",
    "    FROM orders;\n",
    "\"\"\"\n",
    "\n",
    "with engine.connect() as connection:\n",
    "    result = connection.execute(text(query))\n",
    "    tables = result.fetchall()\n",
    "    df = pd.DataFrame(tables, columns=result.keys())    \n",
    "\n",
    "print(df)  # Display the counts of order_id and customer_id"
   ]
  },
  {
   "cell_type": "markdown",
   "id": "23796b60",
   "metadata": {},
   "source": [
    "## customers "
   ]
  },
  {
   "cell_type": "code",
   "execution_count": 26,
   "id": "ce986305",
   "metadata": {},
   "outputs": [
    {
     "name": "stdout",
     "output_type": "stream",
     "text": [
      "2025-08-28 13:02:46,002 INFO sqlalchemy.engine.Engine BEGIN (implicit)\n",
      "2025-08-28 13:02:46,003 INFO sqlalchemy.engine.Engine \n",
      "    SELECT \n",
      "        SUM(CASE WHEN customer_id IS NULL THEN 1 ELSE 0 END) AS null_customer_id,\n",
      "        SUM(CASE WHEN customer_unique_id IS NULL THEN 1 ELSE 0 END) AS null_customer_unique_id,\n",
      "        SUM(CASE WHEN customer_zip_code_prefix IS NULL THEN 1 ELSE 0 END) AS null_customer_zip_code_prefix,\n",
      "        SUM(CASE WHEN customer_city IS NULL THEN 1 ELSE 0 END) AS null_customer_city,\n",
      "        SUM(CASE WHEN customer_state IS NULL THEN 1 ELSE 0 END) AS null_customer_state,\n",
      "        COUNT(*) AS total_rows  \n",
      "    FROM customers;\n",
      "\n",
      "2025-08-28 13:02:46,004 INFO sqlalchemy.engine.Engine [generated in 0.00169s] ()\n",
      "2025-08-28 13:02:46,109 INFO sqlalchemy.engine.Engine ROLLBACK\n",
      "   null_customer_id  null_customer_unique_id  null_customer_zip_code_prefix  \\\n",
      "0                 0                        0                              0   \n",
      "\n",
      "   null_customer_city  null_customer_state  total_rows  \n",
      "0                   0                    0       99441  \n"
     ]
    }
   ],
   "source": [
    "query = \"\"\"\n",
    "    SELECT \n",
    "        SUM(CASE WHEN customer_id IS NULL THEN 1 ELSE 0 END) AS null_customer_id,\n",
    "        SUM(CASE WHEN customer_unique_id IS NULL THEN 1 ELSE 0 END) AS null_customer_unique_id,\n",
    "        SUM(CASE WHEN customer_zip_code_prefix IS NULL THEN 1 ELSE 0 END) AS null_customer_zip_code_prefix,\n",
    "        SUM(CASE WHEN customer_city IS NULL THEN 1 ELSE 0 END) AS null_customer_city,\n",
    "        SUM(CASE WHEN customer_state IS NULL THEN 1 ELSE 0 END) AS null_customer_state,\n",
    "        COUNT(*) AS total_rows  \n",
    "    FROM customers;\n",
    "\"\"\"\n",
    "\n",
    "with engine.connect() as connection:\n",
    "    result = connection.execute(text(query))\n",
    "    tables = result.fetchall()\n",
    "    df = pd.DataFrame(tables, columns=result.keys())\n",
    "\n",
    "print(df)  # Display the null counts for customers table"
   ]
  },
  {
   "cell_type": "code",
   "execution_count": 27,
   "id": "89cd5e5c",
   "metadata": {},
   "outputs": [
    {
     "name": "stdout",
     "output_type": "stream",
     "text": [
      "2025-08-28 13:02:46,124 INFO sqlalchemy.engine.Engine BEGIN (implicit)\n",
      "2025-08-28 13:02:46,125 INFO sqlalchemy.engine.Engine PRAGMA table_info('customers');\n",
      "2025-08-28 13:02:46,126 INFO sqlalchemy.engine.Engine [generated in 0.00229s] ()\n",
      "2025-08-28 13:02:46,128 INFO sqlalchemy.engine.Engine ROLLBACK\n",
      "   cid                      name     type  notnull dflt_value  pk\n",
      "0    0               customer_id     TEXT        0       None   0\n",
      "1    1        customer_unique_id     TEXT        0       None   0\n",
      "2    2  customer_zip_code_prefix  INTEGER        0       None   0\n",
      "3    3             customer_city     TEXT        0       None   0\n",
      "4    4            customer_state     TEXT        0       None   0\n"
     ]
    }
   ],
   "source": [
    "with engine.connect() as connection:\n",
    "    result = connection.execute(text(\"PRAGMA table_info('customers');\"))\n",
    "    tables = result.fetchall()\n",
    "    df = pd.DataFrame(tables, columns=result.keys())\n",
    "\n",
    "print(df)  # Display the table info for 'customers'"
   ]
  },
  {
   "cell_type": "code",
   "execution_count": 28,
   "id": "02610135",
   "metadata": {},
   "outputs": [
    {
     "name": "stdout",
     "output_type": "stream",
     "text": [
      "2025-08-28 13:02:46,153 INFO sqlalchemy.engine.Engine BEGIN (implicit)\n",
      "2025-08-28 13:02:46,154 INFO sqlalchemy.engine.Engine \n",
      "    SELECT \n",
      "        COUNT(customer_id) AS total_customer_ids,\n",
      "        COUNT(DISTINCT customer_id) AS unique_customer_ids\n",
      "    FROM customers;\n",
      "\n",
      "2025-08-28 13:02:46,155 INFO sqlalchemy.engine.Engine [generated in 0.00241s] ()\n",
      "2025-08-28 13:02:46,779 INFO sqlalchemy.engine.Engine ROLLBACK\n",
      "   total_customer_ids  unique_customer_ids\n",
      "0               99441                99441\n"
     ]
    }
   ],
   "source": [
    "query = \"\"\"\n",
    "    SELECT \n",
    "        COUNT(customer_id) AS total_customer_ids,\n",
    "        COUNT(DISTINCT customer_id) AS unique_customer_ids\n",
    "    FROM customers;\n",
    "\"\"\"\n",
    "with engine.connect() as connection:\n",
    "    result = connection.execute(text(query))\n",
    "    tables = result.fetchall()\n",
    "    df = pd.DataFrame(tables, columns=result.keys())\n",
    "print(df)  # Display the count of unique customers in orders"
   ]
  },
  {
   "cell_type": "markdown",
   "id": "fba17dd1",
   "metadata": {},
   "source": [
    "## order_payments"
   ]
  },
  {
   "cell_type": "code",
   "execution_count": 29,
   "id": "4888389e",
   "metadata": {},
   "outputs": [
    {
     "name": "stdout",
     "output_type": "stream",
     "text": [
      "2025-08-28 13:02:46,840 INFO sqlalchemy.engine.Engine BEGIN (implicit)\n",
      "2025-08-28 13:02:46,842 INFO sqlalchemy.engine.Engine \n",
      "SELECT \n",
      "    SUM(CASE WHEN order_id IS NULL THEN 1 ELSE 0 END) AS null_order_id,\n",
      "    SUM(CASE WHEN payment_sequential IS NULL THEN 1 ELSE 0 END) AS null_payment_sequential,\n",
      "    SUM(CASE WHEN payment_type IS NULL THEN 1 ELSE 0 END) AS null_payment_type,\n",
      "    SUM(CASE WHEN payment_installments IS NULL THEN 1 ELSE 0 END) AS null_payment_installments,\n",
      "    SUM(CASE WHEN payment_value IS NULL THEN 1 ELSE 0 END) AS null_payment_value,\n",
      "    COUNT(*) AS total_rows\n",
      "FROM order_payments;\n",
      "\n",
      "2025-08-28 13:02:46,844 INFO sqlalchemy.engine.Engine [generated in 0.00375s] ()\n",
      "2025-08-28 13:02:46,939 INFO sqlalchemy.engine.Engine ROLLBACK\n",
      "   null_order_id  null_payment_sequential  null_payment_type  \\\n",
      "0              0                        0                  0   \n",
      "\n",
      "   null_payment_installments  null_payment_value  total_rows  \n",
      "0                          0                   0      103886  \n"
     ]
    }
   ],
   "source": [
    "query = \"\"\"\n",
    "SELECT \n",
    "    SUM(CASE WHEN order_id IS NULL THEN 1 ELSE 0 END) AS null_order_id,\n",
    "    SUM(CASE WHEN payment_sequential IS NULL THEN 1 ELSE 0 END) AS null_payment_sequential,\n",
    "    SUM(CASE WHEN payment_type IS NULL THEN 1 ELSE 0 END) AS null_payment_type,\n",
    "    SUM(CASE WHEN payment_installments IS NULL THEN 1 ELSE 0 END) AS null_payment_installments,\n",
    "    SUM(CASE WHEN payment_value IS NULL THEN 1 ELSE 0 END) AS null_payment_value,\n",
    "    COUNT(*) AS total_rows\n",
    "FROM order_payments;\n",
    "\"\"\"\n",
    "\n",
    "with engine.connect() as connection:\n",
    "    result = connection.execute(text(query))\n",
    "    tables = result.fetchall()\n",
    "    df = pd.DataFrame(tables, columns=result.keys())\n",
    "print(df)  # Display the null counts for order_payments table"
   ]
  },
  {
   "cell_type": "markdown",
   "id": "c1bb5fdc",
   "metadata": {},
   "source": [
    "## products "
   ]
  },
  {
   "cell_type": "code",
   "execution_count": 30,
   "id": "f25ee8af",
   "metadata": {},
   "outputs": [
    {
     "name": "stdout",
     "output_type": "stream",
     "text": [
      "2025-08-28 13:02:46,962 INFO sqlalchemy.engine.Engine BEGIN (implicit)\n",
      "2025-08-28 13:02:46,963 INFO sqlalchemy.engine.Engine \n",
      "SELECT \n",
      "    SUM(CASE WHEN product_id IS NULL THEN 1 ELSE 0 END) AS null_product_id,\n",
      "    SUM(CASE WHEN product_category_name IS NULL THEN 1 ELSE 0 END) AS null_product_category_name,\n",
      "    SUM(CASE WHEN product_name_lenght IS NULL THEN 1 ELSE 0 END) AS null_product_name_lenght,\n",
      "    SUM(CASE WHEN product_description_lenght IS NULL THEN 1 ELSE 0 END) AS null_product_description_lenght,\n",
      "    SUM(CASE WHEN product_photos_qty IS NULL THEN 1 ELSE 0 END) AS null_product_photos_qty,\n",
      "    SUM(CASE WHEN product_weight_g IS NULL THEN 1 ELSE 0 END) AS null_product_weight_g,\n",
      "    SUM(CASE WHEN product_length_cm IS NULL THEN 1 ELSE 0 END) AS null_product_length_cm,\n",
      "    SUM(CASE WHEN product_height_cm IS NULL THEN 1 ELSE 0 END) AS null_product_height_cm,\n",
      "    SUM(CASE WHEN product_width_cm IS NULL THEN 1 ELSE 0 END) AS null_product_width_cm,\n",
      "    COUNT(*) AS total_rows\n",
      "FROM products;\n",
      "\n",
      "2025-08-28 13:02:46,964 INFO sqlalchemy.engine.Engine [generated in 0.00280s] ()\n",
      "2025-08-28 13:02:47,021 INFO sqlalchemy.engine.Engine ROLLBACK\n",
      "   null_product_id  null_product_category_name  null_product_name_lenght  \\\n",
      "0                0                         610                       610   \n",
      "\n",
      "   null_product_description_lenght  null_product_photos_qty  \\\n",
      "0                              610                      610   \n",
      "\n",
      "   null_product_weight_g  null_product_length_cm  null_product_height_cm  \\\n",
      "0                      2                       2                       2   \n",
      "\n",
      "   null_product_width_cm  total_rows  \n",
      "0                      2       32951  \n"
     ]
    }
   ],
   "source": [
    "query = \"\"\"\n",
    "SELECT \n",
    "    SUM(CASE WHEN product_id IS NULL THEN 1 ELSE 0 END) AS null_product_id,\n",
    "    SUM(CASE WHEN product_category_name IS NULL THEN 1 ELSE 0 END) AS null_product_category_name,\n",
    "    SUM(CASE WHEN product_name_lenght IS NULL THEN 1 ELSE 0 END) AS null_product_name_lenght,\n",
    "    SUM(CASE WHEN product_description_lenght IS NULL THEN 1 ELSE 0 END) AS null_product_description_lenght,\n",
    "    SUM(CASE WHEN product_photos_qty IS NULL THEN 1 ELSE 0 END) AS null_product_photos_qty,\n",
    "    SUM(CASE WHEN product_weight_g IS NULL THEN 1 ELSE 0 END) AS null_product_weight_g,\n",
    "    SUM(CASE WHEN product_length_cm IS NULL THEN 1 ELSE 0 END) AS null_product_length_cm,\n",
    "    SUM(CASE WHEN product_height_cm IS NULL THEN 1 ELSE 0 END) AS null_product_height_cm,\n",
    "    SUM(CASE WHEN product_width_cm IS NULL THEN 1 ELSE 0 END) AS null_product_width_cm,\n",
    "    COUNT(*) AS total_rows\n",
    "FROM products;\n",
    "\"\"\"\n",
    "\n",
    "with engine.connect() as connection:\n",
    "    result = connection.execute(text(query))\n",
    "    tables = result.fetchall()\n",
    "    df = pd.DataFrame(tables, columns=result.keys())\n",
    "print(df)  # Display the null counts for products table"
   ]
  },
  {
   "cell_type": "code",
   "execution_count": 31,
   "id": "a3ce3beb",
   "metadata": {},
   "outputs": [
    {
     "name": "stdout",
     "output_type": "stream",
     "text": [
      "2025-08-28 13:02:47,052 INFO sqlalchemy.engine.Engine BEGIN (implicit)\n",
      "2025-08-28 13:02:47,054 INFO sqlalchemy.engine.Engine \n",
      "SELECT \n",
      "    COUNT(DISTINCT product_id) AS unique_product_ids,\n",
      "    COUNT(product_id) AS total_product_ids\n",
      "FROM products;\n",
      "\n",
      "2025-08-28 13:02:47,054 INFO sqlalchemy.engine.Engine [generated in 0.00260s] ()\n",
      "2025-08-28 13:02:47,122 INFO sqlalchemy.engine.Engine ROLLBACK\n",
      "   unique_product_ids  total_product_ids\n",
      "0               32951              32951\n"
     ]
    }
   ],
   "source": [
    "query = \"\"\"\n",
    "SELECT \n",
    "    COUNT(DISTINCT product_id) AS unique_product_ids,\n",
    "    COUNT(product_id) AS total_product_ids\n",
    "FROM products;\n",
    "\"\"\"\n",
    "\n",
    "with engine.connect() as connection:\n",
    "    result = connection.execute(text(query))\n",
    "    tables = result.fetchall()\n",
    "    df = pd.DataFrame(tables, columns=result.keys())\n",
    "\n",
    "print(df)  # Display the count of unique products in products table"
   ]
  },
  {
   "cell_type": "markdown",
   "id": "76e00ec3",
   "metadata": {},
   "source": [
    "## order_items"
   ]
  },
  {
   "cell_type": "code",
   "execution_count": 32,
   "id": "9ec620e0",
   "metadata": {},
   "outputs": [
    {
     "name": "stdout",
     "output_type": "stream",
     "text": [
      "2025-08-28 13:02:47,146 INFO sqlalchemy.engine.Engine BEGIN (implicit)\n",
      "2025-08-28 13:02:47,148 INFO sqlalchemy.engine.Engine \n",
      "SELECT\n",
      "    SUM(CASE WHEN order_id IS NULL THEN 1 ELSE 0 END) AS null_order_id,\n",
      "    SUM(CASE WHEN order_item_id IS NULL THEN 1 ELSE 0 END) AS null_order_item_id,\n",
      "    SUM(CASE WHEN product_id IS NULL THEN 1 ELSE 0 END) AS null_product_id,\n",
      "    SUM(CASE WHEN seller_id IS NULL THEN 1 ELSE 0 END) AS null_seller_id,\n",
      "    SUM(CASE WHEN shipping_limit_date IS NULL THEN 1 ELSE 0 END) AS null_shipping_limit_date,\n",
      "    SUM(CASE WHEN price IS NULL THEN 1 ELSE 0 END) AS null_price,\n",
      "    SUM(CASE WHEN freight_value IS NULL THEN 1 ELSE 0 END) AS null_freight_value,\n",
      "    COUNT(*) AS total_rows\n",
      "FROM order_items;\n",
      "\n",
      "2025-08-28 13:02:47,149 INFO sqlalchemy.engine.Engine [generated in 0.00290s] ()\n",
      "2025-08-28 13:02:47,336 INFO sqlalchemy.engine.Engine ROLLBACK\n",
      "   null_order_id  null_order_item_id  null_product_id  null_seller_id  \\\n",
      "0              0                   0                0               0   \n",
      "\n",
      "   null_shipping_limit_date  null_price  null_freight_value  total_rows  \n",
      "0                         0           0                   0      112650  \n"
     ]
    }
   ],
   "source": [
    "query = \"\"\"\n",
    "SELECT\n",
    "    SUM(CASE WHEN order_id IS NULL THEN 1 ELSE 0 END) AS null_order_id,\n",
    "    SUM(CASE WHEN order_item_id IS NULL THEN 1 ELSE 0 END) AS null_order_item_id,\n",
    "    SUM(CASE WHEN product_id IS NULL THEN 1 ELSE 0 END) AS null_product_id,\n",
    "    SUM(CASE WHEN seller_id IS NULL THEN 1 ELSE 0 END) AS null_seller_id,\n",
    "    SUM(CASE WHEN shipping_limit_date IS NULL THEN 1 ELSE 0 END) AS null_shipping_limit_date,\n",
    "    SUM(CASE WHEN price IS NULL THEN 1 ELSE 0 END) AS null_price,\n",
    "    SUM(CASE WHEN freight_value IS NULL THEN 1 ELSE 0 END) AS null_freight_value,\n",
    "    COUNT(*) AS total_rows\n",
    "FROM order_items;\n",
    "\"\"\"\n",
    "\n",
    "with engine.connect() as connection:\n",
    "    result = connection.execute(text(query))\n",
    "    tables = result.fetchall()\n",
    "    df = pd.DataFrame(tables, columns=result.keys())\n",
    "print(df)  # Display the null counts for order_items table"
   ]
  },
  {
   "cell_type": "code",
   "execution_count": 33,
   "id": "f88fed7e",
   "metadata": {},
   "outputs": [
    {
     "name": "stdout",
     "output_type": "stream",
     "text": [
      "2025-08-28 13:02:47,362 INFO sqlalchemy.engine.Engine BEGIN (implicit)\n",
      "2025-08-28 13:02:47,363 INFO sqlalchemy.engine.Engine \n",
      "SELECT \n",
      "    COUNT(DISTINCT order_id) AS unique_order_ids,\n",
      "    COUNT(order_id) AS total_order_ids,\n",
      "    COUNT(DISTINCT order_item_id) AS unique_order_item_ids,\n",
      "    COUNT(order_item_id) AS total_order_ids\n",
      "FROM order_items;\n",
      "\n",
      "2025-08-28 13:02:47,364 INFO sqlalchemy.engine.Engine [generated in 0.00261s] ()\n",
      "2025-08-28 13:02:47,474 INFO sqlalchemy.engine.Engine ROLLBACK\n",
      "   unique_order_ids  total_order_ids  unique_order_item_ids  total_order_ids\n",
      "0             98666           112650                     21           112650\n"
     ]
    }
   ],
   "source": [
    "query = \"\"\"\n",
    "SELECT \n",
    "    COUNT(DISTINCT order_id) AS unique_order_ids,\n",
    "    COUNT(order_id) AS total_order_ids,\n",
    "    COUNT(DISTINCT order_item_id) AS unique_order_item_ids,\n",
    "    COUNT(order_item_id) AS total_order_ids\n",
    "FROM order_items;\n",
    "\"\"\"\n",
    "\n",
    "with engine.connect() as connection:\n",
    "    result = connection.execute(text(query))\n",
    "    tables = result.fetchall()\n",
    "    df = pd.DataFrame(tables, columns=result.keys())\n",
    "\n",
    "print(df)  # Display the count of unique orders in order_items table"
   ]
  },
  {
   "cell_type": "code",
   "execution_count": 34,
   "id": "559b8ff0",
   "metadata": {},
   "outputs": [
    {
     "name": "stdout",
     "output_type": "stream",
     "text": [
      "2025-08-28 13:02:47,503 INFO sqlalchemy.engine.Engine BEGIN (implicit)\n",
      "2025-08-28 13:02:47,504 INFO sqlalchemy.engine.Engine \n",
      "SELECT \n",
      "    COUNT(DISTINCT CONCAT(order_id, order_item_id)) AS unique_order_item_combinations,\n",
      "    COUNT(*) AS total_rows\n",
      "FROM order_items;\n",
      "\n",
      "2025-08-28 13:02:47,505 INFO sqlalchemy.engine.Engine [generated in 0.00265s] ()\n",
      "2025-08-28 13:02:47,747 INFO sqlalchemy.engine.Engine ROLLBACK\n",
      "   unique_order_item_combinations  total_rows\n",
      "0                          112650      112650\n"
     ]
    }
   ],
   "source": [
    "query = \"\"\"\n",
    "SELECT \n",
    "    COUNT(DISTINCT CONCAT(order_id, order_item_id)) AS unique_order_item_combinations,\n",
    "    COUNT(*) AS total_rows\n",
    "FROM order_items;\n",
    "\"\"\"\n",
    "\n",
    "with engine.connect() as connection:\n",
    "    result = connection.execute(text(query))\n",
    "    tables = result.fetchall()\n",
    "    df = pd.DataFrame(tables, columns=result.keys())\n",
    "print(df)  # Display the count of unique order-item combinations in order_items table"
   ]
  },
  {
   "cell_type": "markdown",
   "id": "98987e9a",
   "metadata": {},
   "source": [
    "## order_reviews"
   ]
  },
  {
   "cell_type": "code",
   "execution_count": 35,
   "id": "c65ea0eb",
   "metadata": {},
   "outputs": [
    {
     "name": "stdout",
     "output_type": "stream",
     "text": [
      "2025-08-28 13:02:47,772 INFO sqlalchemy.engine.Engine BEGIN (implicit)\n",
      "2025-08-28 13:02:47,773 INFO sqlalchemy.engine.Engine \n",
      "SELECT \n",
      "    SUM(CASE WHEN review_id IS NULL THEN 1 ELSE 0 END) AS null_review_id,\n",
      "    SUM(CASE WHEN order_id IS NULL THEN 1 ELSE 0 END) AS null_order_id,\n",
      "    SUM(CASE WHEN review_score IS NULL THEN 1 ELSE 0 END) AS null_review_score,\n",
      "    SUM(CASE WHEN review_comment_title IS NULL THEN 1 ELSE 0 END) AS null_review_comment_title,\n",
      "    SUM(CASE WHEN review_comment_message IS NULL THEN 1 ELSE 0 END) AS null_review_comment_message,\n",
      "    SUM(CASE WHEN review_creation_date IS NULL THEN 1 ELSE 0 END) AS null_review_creation_date,\n",
      "    SUM(CASE WHEN review_answer_timestamp IS NULL THEN 1 ELSE 0 END) AS null_review_answer_timestamp,\n",
      "    COUNT(*) AS total_rows\n",
      "FROM order_reviews;\n",
      "\n",
      "2025-08-28 13:02:47,775 INFO sqlalchemy.engine.Engine [generated in 0.00308s] ()\n",
      "2025-08-28 13:02:47,964 INFO sqlalchemy.engine.Engine ROLLBACK\n",
      "   null_review_id  null_order_id  null_review_score  \\\n",
      "0               0              0                  0   \n",
      "\n",
      "   null_review_comment_title  null_review_comment_message  \\\n",
      "0                      87656                        58247   \n",
      "\n",
      "   null_review_creation_date  null_review_answer_timestamp  total_rows  \n",
      "0                          0                             0       99224  \n"
     ]
    }
   ],
   "source": [
    "query = \"\"\"\n",
    "SELECT \n",
    "    SUM(CASE WHEN review_id IS NULL THEN 1 ELSE 0 END) AS null_review_id,\n",
    "    SUM(CASE WHEN order_id IS NULL THEN 1 ELSE 0 END) AS null_order_id,\n",
    "    SUM(CASE WHEN review_score IS NULL THEN 1 ELSE 0 END) AS null_review_score,\n",
    "    SUM(CASE WHEN review_comment_title IS NULL THEN 1 ELSE 0 END) AS null_review_comment_title,\n",
    "    SUM(CASE WHEN review_comment_message IS NULL THEN 1 ELSE 0 END) AS null_review_comment_message,\n",
    "    SUM(CASE WHEN review_creation_date IS NULL THEN 1 ELSE 0 END) AS null_review_creation_date,\n",
    "    SUM(CASE WHEN review_answer_timestamp IS NULL THEN 1 ELSE 0 END) AS null_review_answer_timestamp,\n",
    "    COUNT(*) AS total_rows\n",
    "FROM order_reviews;\n",
    "\"\"\"\n",
    "\n",
    "with engine.connect() as connection:\n",
    "    result = connection.execute(text(query))\n",
    "    tables = result.fetchall()\n",
    "    df = pd.DataFrame(tables, columns=result.keys())\n",
    "print(df)  # Display the null counts for order_reviews table"
   ]
  },
  {
   "cell_type": "code",
   "execution_count": 36,
   "id": "2fd545b2",
   "metadata": {},
   "outputs": [
    {
     "name": "stdout",
     "output_type": "stream",
     "text": [
      "2025-08-28 13:02:48,112 INFO sqlalchemy.engine.Engine BEGIN (implicit)\n",
      "2025-08-28 13:02:48,114 INFO sqlalchemy.engine.Engine \n",
      "SELECT\n",
      "    COUNT(DISTINCT review_id) AS unique_review_ids,\n",
      "    COUNT(review_id) AS total_review_ids\n",
      "FROM order_reviews;\n",
      "\n",
      "2025-08-28 13:02:48,115 INFO sqlalchemy.engine.Engine [generated in 0.00363s] ()\n",
      "2025-08-28 13:02:48,832 INFO sqlalchemy.engine.Engine ROLLBACK\n",
      "   unique_review_ids  total_review_ids\n",
      "0              98410             99224\n"
     ]
    }
   ],
   "source": [
    "query = \"\"\"\n",
    "SELECT\n",
    "    COUNT(DISTINCT review_id) AS unique_review_ids,\n",
    "    COUNT(review_id) AS total_review_ids\n",
    "FROM order_reviews;\n",
    "\"\"\"\n",
    "\n",
    "with engine.connect() as connection:\n",
    "    result = connection.execute(text(query))\n",
    "    tables = result.fetchall()\n",
    "    df = pd.DataFrame(tables, columns=result.keys())\n",
    "print(df)  # Display the count of unique reviews in order_reviews table\n"
   ]
  },
  {
   "cell_type": "markdown",
   "id": "9cf819f9",
   "metadata": {},
   "source": [
    "## product_category_name_tranlation"
   ]
  },
  {
   "cell_type": "code",
   "execution_count": 37,
   "id": "616fd139",
   "metadata": {},
   "outputs": [
    {
     "name": "stdout",
     "output_type": "stream",
     "text": [
      "2025-08-28 13:02:48,851 INFO sqlalchemy.engine.Engine BEGIN (implicit)\n",
      "2025-08-28 13:02:48,852 INFO sqlalchemy.engine.Engine \n",
      "SELECT \n",
      "    SUM(CASE WHEN product_category_name IS NULL THEN 1 ELSE 0 END) AS null_product_category_name,\n",
      "    SUM(CASE WHEN product_category_name_english IS NULL THEN 1 ELSE 0 END) AS null_product_category_name_english,\n",
      "    COUNT(*) AS total_rows\n",
      "FROM product_category_name_translation;\n",
      "\n",
      "2025-08-28 13:02:48,854 INFO sqlalchemy.engine.Engine [generated in 0.00272s] ()\n",
      "2025-08-28 13:02:48,857 INFO sqlalchemy.engine.Engine ROLLBACK\n",
      "   null_product_category_name  null_product_category_name_english  total_rows\n",
      "0                           0                                   0          71\n"
     ]
    }
   ],
   "source": [
    "query = \"\"\"\n",
    "SELECT \n",
    "    SUM(CASE WHEN product_category_name IS NULL THEN 1 ELSE 0 END) AS null_product_category_name,\n",
    "    SUM(CASE WHEN product_category_name_english IS NULL THEN 1 ELSE 0 END) AS null_product_category_name_english,\n",
    "    COUNT(*) AS total_rows\n",
    "FROM product_category_name_translation;\n",
    "\"\"\"\n",
    "\n",
    "with engine.connect() as connection:\n",
    "    result = connection.execute(text(query))\n",
    "    tables = result.fetchall()\n",
    "    df = pd.DataFrame(tables, columns=result.keys())\n",
    "print(df)  # Display the null counts for product_category_name_translation table"
   ]
  },
  {
   "cell_type": "code",
   "execution_count": 38,
   "id": "b3aaa6d2",
   "metadata": {},
   "outputs": [
    {
     "name": "stdout",
     "output_type": "stream",
     "text": [
      "2025-08-28 13:02:48,881 INFO sqlalchemy.engine.Engine BEGIN (implicit)\n",
      "2025-08-28 13:02:48,883 INFO sqlalchemy.engine.Engine \n",
      "SELECT \n",
      "    COUNT(DISTINCT product_category_name) AS unique_product_category_names,\n",
      "    COUNT(product_category_name) AS total_product_category_names\n",
      "FROM product_category_name_translation;\n",
      "\n",
      "2025-08-28 13:02:48,884 INFO sqlalchemy.engine.Engine [generated in 0.00286s] ()\n",
      "2025-08-28 13:02:48,887 INFO sqlalchemy.engine.Engine ROLLBACK\n",
      "   unique_product_category_names  total_product_category_names\n",
      "0                             71                            71\n"
     ]
    }
   ],
   "source": [
    "query = \"\"\"\n",
    "SELECT \n",
    "    COUNT(DISTINCT product_category_name) AS unique_product_category_names,\n",
    "    COUNT(product_category_name) AS total_product_category_names\n",
    "FROM product_category_name_translation;\n",
    "\"\"\"\n",
    "\n",
    "with engine.connect() as connection:\n",
    "    result = connection.execute(text(query))\n",
    "    tables = result.fetchall()\n",
    "    df = pd.DataFrame(tables, columns=result.keys())\n",
    "print(df)  # Display the count of unique product category names in product_category_name_translation table"
   ]
  },
  {
   "cell_type": "markdown",
   "id": "977e51ad",
   "metadata": {},
   "source": [
    "## sellers "
   ]
  },
  {
   "cell_type": "code",
   "execution_count": 39,
   "id": "eab1c73d",
   "metadata": {},
   "outputs": [
    {
     "name": "stdout",
     "output_type": "stream",
     "text": [
      "2025-08-28 13:02:48,912 INFO sqlalchemy.engine.Engine BEGIN (implicit)\n",
      "2025-08-28 13:02:48,913 INFO sqlalchemy.engine.Engine \n",
      "SELECT\n",
      "    SUM(CASE WHEN seller_id IS NULL THEN 1 ELSE 0 END) AS null_seller_id,\n",
      "    SUM(CASE WHEN seller_zip_code_prefix IS NULL THEN 1 ELSE 0 END) AS null_seller_zip_code_prefix,\n",
      "    SUM(CASE WHEN seller_city IS NULL THEN 1 ELSE 0 END) AS null_seller_city,\n",
      "    SUM(CASE WHEN seller_state IS NULL THEN 1 ELSE 0 END) AS null_seller_state,\n",
      "    COUNT(*) AS total_rows\n",
      "FROM sellers;\n",
      "\n",
      "2025-08-28 13:02:48,915 INFO sqlalchemy.engine.Engine [generated in 0.00370s] ()\n",
      "2025-08-28 13:02:48,928 INFO sqlalchemy.engine.Engine ROLLBACK\n",
      "   null_seller_id  null_seller_zip_code_prefix  null_seller_city  \\\n",
      "0               0                            0                 0   \n",
      "\n",
      "   null_seller_state  total_rows  \n",
      "0                  0        3095  \n"
     ]
    }
   ],
   "source": [
    "query = \"\"\"\n",
    "SELECT\n",
    "    SUM(CASE WHEN seller_id IS NULL THEN 1 ELSE 0 END) AS null_seller_id,\n",
    "    SUM(CASE WHEN seller_zip_code_prefix IS NULL THEN 1 ELSE 0 END) AS null_seller_zip_code_prefix,\n",
    "    SUM(CASE WHEN seller_city IS NULL THEN 1 ELSE 0 END) AS null_seller_city,\n",
    "    SUM(CASE WHEN seller_state IS NULL THEN 1 ELSE 0 END) AS null_seller_state,\n",
    "    COUNT(*) AS total_rows\n",
    "FROM sellers;\n",
    "\"\"\"\n",
    "\n",
    "with engine.connect() as connection:\n",
    "    result = connection.execute(text(query))\n",
    "    tables = result.fetchall()\n",
    "    df = pd.DataFrame(tables, columns=result.keys())\n",
    "print(df)  # Display the null counts for sellers table\n"
   ]
  },
  {
   "cell_type": "code",
   "execution_count": 40,
   "id": "440a0b0e",
   "metadata": {},
   "outputs": [
    {
     "name": "stdout",
     "output_type": "stream",
     "text": [
      "2025-08-28 13:02:48,958 INFO sqlalchemy.engine.Engine BEGIN (implicit)\n",
      "2025-08-28 13:02:48,959 INFO sqlalchemy.engine.Engine \n",
      "SELECT \n",
      "    COUNT(DISTINCT seller_id) AS unique_seller_ids,\n",
      "    COUNT(seller_id) AS total_seller_ids\n",
      "FROM sellers;\n",
      "\n",
      "2025-08-28 13:02:48,960 INFO sqlalchemy.engine.Engine [generated in 0.00282s] ()\n",
      "2025-08-28 13:02:48,968 INFO sqlalchemy.engine.Engine ROLLBACK\n",
      "   unique_seller_ids  total_seller_ids\n",
      "0               3095              3095\n"
     ]
    }
   ],
   "source": [
    "query = \"\"\"\n",
    "SELECT \n",
    "    COUNT(DISTINCT seller_id) AS unique_seller_ids,\n",
    "    COUNT(seller_id) AS total_seller_ids\n",
    "FROM sellers;\n",
    "\"\"\"\n",
    "\n",
    "with engine.connect() as connection:\n",
    "    result = connection.execute(text(query))\n",
    "    tables = result.fetchall()\n",
    "    df = pd.DataFrame(tables, columns=result.keys())\n",
    "print(df)  # Display the count of unique sellers in sellers table"
   ]
  },
  {
   "cell_type": "markdown",
   "id": "53ffb27a",
   "metadata": {},
   "source": [
    "## geolocation"
   ]
  },
  {
   "cell_type": "code",
   "execution_count": 41,
   "id": "6ebaca3c",
   "metadata": {},
   "outputs": [
    {
     "name": "stdout",
     "output_type": "stream",
     "text": [
      "2025-08-28 13:02:48,988 INFO sqlalchemy.engine.Engine BEGIN (implicit)\n",
      "2025-08-28 13:02:48,989 INFO sqlalchemy.engine.Engine \n",
      "SELECT \n",
      "    SUM(CASE WHEN geolocation_zip_code_prefix IS NULL THEN 1 ELSE 0 END) AS null_geolocation_zip_code_prefix,\n",
      "    SUM(CASE WHEN geolocation_lat IS NULL THEN 1 ELSE 0 END) AS null_geolocation_lat,\n",
      "    SUM(CASE WHEN geolocation_lng IS NULL THEN 1 ELSE 0 END) AS null_geolocation_lng,\n",
      "    SUM(CASE WHEN geolocation_city IS NULL THEN 1 ELSE 0 END) AS null_geolocation_city,\n",
      "    SUM(CASE WHEN geolocation_state IS NULL THEN 1 ELSE 0 END) AS\n",
      "    null_geolocation_state,\n",
      "    COUNT(*) AS total_rows\n",
      "FROM geolocation;\n",
      "\n",
      "2025-08-28 13:02:48,990 INFO sqlalchemy.engine.Engine [generated in 0.00227s] ()\n",
      "2025-08-28 13:02:49,689 INFO sqlalchemy.engine.Engine ROLLBACK\n",
      "   null_geolocation_zip_code_prefix  null_geolocation_lat  \\\n",
      "0                                 0                     0   \n",
      "\n",
      "   null_geolocation_lng  null_geolocation_city  null_geolocation_state  \\\n",
      "0                     0                      0                       0   \n",
      "\n",
      "   total_rows  \n",
      "0     1000163  \n"
     ]
    }
   ],
   "source": [
    "query = \"\"\"\n",
    "SELECT \n",
    "    SUM(CASE WHEN geolocation_zip_code_prefix IS NULL THEN 1 ELSE 0 END) AS null_geolocation_zip_code_prefix,\n",
    "    SUM(CASE WHEN geolocation_lat IS NULL THEN 1 ELSE 0 END) AS null_geolocation_lat,\n",
    "    SUM(CASE WHEN geolocation_lng IS NULL THEN 1 ELSE 0 END) AS null_geolocation_lng,\n",
    "    SUM(CASE WHEN geolocation_city IS NULL THEN 1 ELSE 0 END) AS null_geolocation_city,\n",
    "    SUM(CASE WHEN geolocation_state IS NULL THEN 1 ELSE 0 END) AS\n",
    "    null_geolocation_state,\n",
    "    COUNT(*) AS total_rows\n",
    "FROM geolocation;\n",
    "\"\"\"\n",
    "\n",
    "with engine.connect() as connection:\n",
    "    result = connection.execute(text(query))\n",
    "    tables = result.fetchall()\n",
    "    df = pd.DataFrame(tables, columns=result.keys())\n",
    "print(df)  # Display the null counts for geolocation table\n"
   ]
  },
  {
   "cell_type": "code",
   "execution_count": 42,
   "id": "055ba842",
   "metadata": {},
   "outputs": [
    {
     "name": "stdout",
     "output_type": "stream",
     "text": [
      "2025-08-28 13:02:49,704 INFO sqlalchemy.engine.Engine BEGIN (implicit)\n",
      "2025-08-28 13:02:49,705 INFO sqlalchemy.engine.Engine \n",
      "SELECT \n",
      "    COUNT(DISTINCT geolocation_zip_code_prefix) AS unique_geolocation_zip_code_prefixes,\n",
      "    COUNT(geolocation_zip_code_prefix) AS total_geolocation_zip_code_prefixes\n",
      "FROM geolocation;\n",
      "\n",
      "2025-08-28 13:02:49,706 INFO sqlalchemy.engine.Engine [generated in 0.00202s] ()\n",
      "2025-08-28 13:02:49,992 INFO sqlalchemy.engine.Engine ROLLBACK\n",
      "   unique_geolocation_zip_code_prefixes  total_geolocation_zip_code_prefixes\n",
      "0                                 19015                              1000163\n"
     ]
    }
   ],
   "source": [
    "query = \"\"\"\n",
    "SELECT \n",
    "    COUNT(DISTINCT geolocation_zip_code_prefix) AS unique_geolocation_zip_code_prefixes,\n",
    "    COUNT(geolocation_zip_code_prefix) AS total_geolocation_zip_code_prefixes\n",
    "FROM geolocation;\n",
    "\"\"\"\n",
    "with engine.connect() as connection:\n",
    "    result = connection.execute(text(query))\n",
    "    tables = result.fetchall()\n",
    "    df = pd.DataFrame(tables, columns=result.keys())\n",
    "print(df)  # Display the count of unique geolocation zip code prefixes in geolocation table"
   ]
  },
  {
   "cell_type": "code",
   "execution_count": 43,
   "id": "731011e9",
   "metadata": {},
   "outputs": [
    {
     "name": "stdout",
     "output_type": "stream",
     "text": [
      "2025-08-28 13:02:50,011 INFO sqlalchemy.engine.Engine BEGIN (implicit)\n",
      "2025-08-28 13:02:50,013 INFO sqlalchemy.engine.Engine \n",
      "SELECT\n",
      "    COUNT(DISTINCT CONCAT(geolocation_zip_code_prefix, '_', geolocation_city, '_', geolocation_state)) AS unique_geolocation_entries,\n",
      "    COUNT(geolocation_zip_code_prefix) AS total_geolocation_zip_code_prefixes\n",
      "FROM geolocation;\n",
      "\n",
      "2025-08-28 13:02:50,014 INFO sqlalchemy.engine.Engine [generated in 0.00252s] ()\n",
      "2025-08-28 13:02:51,333 INFO sqlalchemy.engine.Engine ROLLBACK\n",
      "   unique_geolocation_entries  total_geolocation_zip_code_prefixes\n",
      "0                       27912                              1000163\n"
     ]
    }
   ],
   "source": [
    "query = \"\"\"\n",
    "SELECT\n",
    "    COUNT(DISTINCT CONCAT(geolocation_zip_code_prefix, '_', geolocation_city, '_', geolocation_state)) AS unique_geolocation_entries,\n",
    "    COUNT(geolocation_zip_code_prefix) AS total_geolocation_zip_code_prefixes\n",
    "FROM geolocation;\n",
    "\"\"\"\n",
    "\n",
    "with engine.connect() as connection:\n",
    "    result = connection.execute(text(query))\n",
    "    tables = result.fetchall()\n",
    "    df = pd.DataFrame(tables, columns=result.keys())\n",
    "print(df)  # Display the count of unique geolocation zip code prefixes in geolocation table"
   ]
  },
  {
   "cell_type": "markdown",
   "id": "f38e5773",
   "metadata": {},
   "source": [
    "## leads_qualified"
   ]
  },
  {
   "cell_type": "code",
   "execution_count": 44,
   "id": "7fb81c3f",
   "metadata": {},
   "outputs": [
    {
     "name": "stdout",
     "output_type": "stream",
     "text": [
      "2025-08-28 13:02:51,415 INFO sqlalchemy.engine.Engine BEGIN (implicit)\n",
      "2025-08-28 13:02:51,417 INFO sqlalchemy.engine.Engine \n",
      "SELECT \n",
      "    SUM(CASE WHEN mql_id IS NULL THEN 1 ELSE 0 END) AS null_mql_id,\n",
      "    SUM(CASE WHEN first_contact_date IS NULL THEN 1 ELSE 0 END) AS null_first_contact_date,\n",
      "    SUM(CASE WHEN landing_page_id IS NULL THEN 1 ELSE 0 END) AS null_landing_page_id,\n",
      "    SUM(CASE WHEN origin IS NULL THEN 1 ELSE 0 END) AS null_origin,\n",
      "    COUNT(*) AS total_rows\n",
      "FROM leads_qualified;\n",
      "\n",
      "2025-08-28 13:02:51,418 INFO sqlalchemy.engine.Engine [generated in 0.00296s] ()\n",
      "2025-08-28 13:02:51,437 INFO sqlalchemy.engine.Engine ROLLBACK\n",
      "   null_mql_id  null_first_contact_date  null_landing_page_id  null_origin  \\\n",
      "0            0                        0                     0           60   \n",
      "\n",
      "   total_rows  \n",
      "0        8000  \n"
     ]
    }
   ],
   "source": [
    "query = \"\"\"\n",
    "SELECT \n",
    "    SUM(CASE WHEN mql_id IS NULL THEN 1 ELSE 0 END) AS null_mql_id,\n",
    "    SUM(CASE WHEN first_contact_date IS NULL THEN 1 ELSE 0 END) AS null_first_contact_date,\n",
    "    SUM(CASE WHEN landing_page_id IS NULL THEN 1 ELSE 0 END) AS null_landing_page_id,\n",
    "    SUM(CASE WHEN origin IS NULL THEN 1 ELSE 0 END) AS null_origin,\n",
    "    COUNT(*) AS total_rows\n",
    "FROM leads_qualified;\n",
    "\"\"\"\n",
    "\n",
    "with engine.connect() as connection:\n",
    "    result = connection.execute(text(query))\n",
    "    tables = result.fetchall()\n",
    "    df = pd.DataFrame(tables, columns=result.keys())\n",
    "print(df)  # Display the null counts for leads_qualified table"
   ]
  },
  {
   "cell_type": "code",
   "execution_count": 45,
   "id": "c5a38fb6",
   "metadata": {},
   "outputs": [
    {
     "name": "stdout",
     "output_type": "stream",
     "text": [
      "2025-08-28 13:02:51,464 INFO sqlalchemy.engine.Engine BEGIN (implicit)\n",
      "2025-08-28 13:02:51,466 INFO sqlalchemy.engine.Engine \n",
      "SELECT \n",
      "    COUNT(DISTINCT mql_id) AS unique_mql_ids,\n",
      "    COUNT(mql_id) AS total_mql_ids,\n",
      "    COUNT(DISTINCT landing_page_id) AS unique_landing_page_ids,\n",
      "    COUNT(landing_page_id) AS total_landing_page_ids\n",
      "FROM leads_qualified;\n",
      "\n",
      "2025-08-28 13:02:51,466 INFO sqlalchemy.engine.Engine [generated in 0.00224s] ()\n",
      "2025-08-28 13:02:51,483 INFO sqlalchemy.engine.Engine ROLLBACK\n",
      "   unique_mql_ids  total_mql_ids  unique_landing_page_ids  \\\n",
      "0            8000           8000                      495   \n",
      "\n",
      "   total_landing_page_ids  \n",
      "0                    8000  \n"
     ]
    }
   ],
   "source": [
    "query = \"\"\"\n",
    "SELECT \n",
    "    COUNT(DISTINCT mql_id) AS unique_mql_ids,\n",
    "    COUNT(mql_id) AS total_mql_ids,\n",
    "    COUNT(DISTINCT landing_page_id) AS unique_landing_page_ids,\n",
    "    COUNT(landing_page_id) AS total_landing_page_ids\n",
    "FROM leads_qualified;\n",
    "\"\"\"\n",
    "\n",
    "with engine.connect() as connection:\n",
    "    result = connection.execute(text(query))\n",
    "    tables = result.fetchall()\n",
    "    df = pd.DataFrame(tables, columns=result.keys())\n",
    "print(df)  # Display the count of unique mql_ids and landing_page_ids in leads_qualified table\n"
   ]
  },
  {
   "cell_type": "markdown",
   "id": "cbdb2ed6",
   "metadata": {},
   "source": [
    "## leads_closed"
   ]
  },
  {
   "cell_type": "code",
   "execution_count": 46,
   "id": "b8121d97",
   "metadata": {},
   "outputs": [
    {
     "name": "stdout",
     "output_type": "stream",
     "text": [
      "2025-08-28 13:02:51,512 INFO sqlalchemy.engine.Engine BEGIN (implicit)\n",
      "2025-08-28 13:02:51,514 INFO sqlalchemy.engine.Engine \n",
      "SELECT \n",
      "    SUM(CASE WHEN mql_id IS NULL THEN 1 ELSE 0 END) AS null_mql_id,\n",
      "    SUM(CASE WHEN seller_id IS NULL THEN 1 ELSE 0 END) AS null_seller_id,\n",
      "    SUM(CASE WHEN sdr_id IS NULL THEN 1 ELSE 0 END) AS null_sdr_id,\n",
      "    SUM(CASE WHEN sr_id IS NULL THEN 1 ELSE 0 END) AS null_sr_id,\n",
      "    SUM(CASE WHEN won_date IS NULL THEN 1 ELSE 0 END) AS null_won_date,\n",
      "    SUM(CASE WHEN business_segment IS NULL THEN 1 ELSE 0 END) AS null_business_segment,\n",
      "    SUM(CASE WHEN lead_type IS NULL THEN 1 ELSE 0 END) AS null_lead_type,\n",
      "    SUM(CASE WHEN lead_behaviour_profile IS NULL THEN 1 ELSE 0 END) AS null_lead_behaviour_profile, \n",
      "    SUM(CASE WHEN has_company IS NULL THEN 1 ELSE 0 END) AS null_has_company,\n",
      "    SUM(CASE WHEN has_gtin IS NULL THEN 1 ELSE 0 END) AS null_has_gtin,\n",
      "    SUM(CASE WHEN average_stock IS NULL THEN 1 ELSE 0 END) AS null_average_stock,\n",
      "    SUM(CASE WHEN business_type IS NULL THEN 1 ELSE 0 END) AS null_business_type,   \n",
      "    SUM(CASE WHEN declared_monthly_revenue IS NULL THEN 1 ELSE 0 END) AS null_declared_monthly_revenue, \n",
      "    SUM(CASE WHEN declared_product_catalog_size IS NULL THEN 1 ELSE 0 END) AS null_declared_product_catalog_size,\n",
      "    COUNT(*) AS total_rows\n",
      "FROM leads_closed;\n",
      "\n",
      "2025-08-28 13:02:51,515 INFO sqlalchemy.engine.Engine [generated in 0.00227s] ()\n",
      "2025-08-28 13:02:51,523 INFO sqlalchemy.engine.Engine ROLLBACK\n",
      "   null_mql_id  null_seller_id  null_sdr_id  null_sr_id  null_won_date  \\\n",
      "0            0               0            0           0              0   \n",
      "\n",
      "   null_business_segment  null_lead_type  null_lead_behaviour_profile  \\\n",
      "0                      1               6                          177   \n",
      "\n",
      "   null_has_company  null_has_gtin  null_average_stock  null_business_type  \\\n",
      "0               779            778                 776                  10   \n",
      "\n",
      "   null_declared_monthly_revenue  null_declared_product_catalog_size  \\\n",
      "0                              0                                 773   \n",
      "\n",
      "   total_rows  \n",
      "0         842  \n"
     ]
    }
   ],
   "source": [
    "query = \"\"\"\n",
    "SELECT \n",
    "    SUM(CASE WHEN mql_id IS NULL THEN 1 ELSE 0 END) AS null_mql_id,\n",
    "    SUM(CASE WHEN seller_id IS NULL THEN 1 ELSE 0 END) AS null_seller_id,\n",
    "    SUM(CASE WHEN sdr_id IS NULL THEN 1 ELSE 0 END) AS null_sdr_id,\n",
    "    SUM(CASE WHEN sr_id IS NULL THEN 1 ELSE 0 END) AS null_sr_id,\n",
    "    SUM(CASE WHEN won_date IS NULL THEN 1 ELSE 0 END) AS null_won_date,\n",
    "    SUM(CASE WHEN business_segment IS NULL THEN 1 ELSE 0 END) AS null_business_segment,\n",
    "    SUM(CASE WHEN lead_type IS NULL THEN 1 ELSE 0 END) AS null_lead_type,\n",
    "    SUM(CASE WHEN lead_behaviour_profile IS NULL THEN 1 ELSE 0 END) AS null_lead_behaviour_profile, \n",
    "    SUM(CASE WHEN has_company IS NULL THEN 1 ELSE 0 END) AS null_has_company,\n",
    "    SUM(CASE WHEN has_gtin IS NULL THEN 1 ELSE 0 END) AS null_has_gtin,\n",
    "    SUM(CASE WHEN average_stock IS NULL THEN 1 ELSE 0 END) AS null_average_stock,\n",
    "    SUM(CASE WHEN business_type IS NULL THEN 1 ELSE 0 END) AS null_business_type,   \n",
    "    SUM(CASE WHEN declared_monthly_revenue IS NULL THEN 1 ELSE 0 END) AS null_declared_monthly_revenue, \n",
    "    SUM(CASE WHEN declared_product_catalog_size IS NULL THEN 1 ELSE 0 END) AS null_declared_product_catalog_size,\n",
    "    COUNT(*) AS total_rows\n",
    "FROM leads_closed;\n",
    "\"\"\"\n",
    "\n",
    "with engine.connect() as connection:\n",
    "    result = connection.execute(text(query))\n",
    "    tables = result.fetchall()\n",
    "    df = pd.DataFrame(tables, columns=result.keys())\n",
    "print(df)  # Display the null counts for leads_closed table\n"
   ]
  },
  {
   "cell_type": "code",
   "execution_count": 47,
   "id": "173311dc",
   "metadata": {},
   "outputs": [
    {
     "name": "stdout",
     "output_type": "stream",
     "text": [
      "2025-08-28 13:02:51,563 INFO sqlalchemy.engine.Engine BEGIN (implicit)\n",
      "2025-08-28 13:02:51,564 INFO sqlalchemy.engine.Engine \n",
      "SELECT \n",
      "    COUNT(DISTINCT mql_id) AS unique_mql_ids,\n",
      "    COUNT(mql_id) AS total_mql_ids\n",
      "FROM leads_closed;\n",
      "\n",
      "2025-08-28 13:02:51,567 INFO sqlalchemy.engine.Engine [generated in 0.00357s] ()\n",
      "2025-08-28 13:02:51,572 INFO sqlalchemy.engine.Engine ROLLBACK\n",
      "   unique_mql_ids  total_mql_ids\n",
      "0             842            842\n"
     ]
    }
   ],
   "source": [
    "query = \"\"\"\n",
    "SELECT \n",
    "    COUNT(DISTINCT mql_id) AS unique_mql_ids,\n",
    "    COUNT(mql_id) AS total_mql_ids\n",
    "FROM leads_closed;\n",
    "\"\"\"\n",
    "\n",
    "with engine.connect() as connection:\n",
    "    result = connection.execute(text(query))\n",
    "    tables = result.fetchall()\n",
    "    df = pd.DataFrame(tables, columns=result.keys())\n",
    "print(df)  # Display the count of unique mql_ids in leads_closed table"
   ]
  },
  {
   "cell_type": "markdown",
   "id": "0397c012",
   "metadata": {},
   "source": [
    "The only table that seemed to have problems is geolocation. there isn't a combination of columns to be used as foreign keys for the tables with relation to it and the duplicated information on the original table. Therefore for this analysis we will avoid using the geolocation table"
   ]
  },
  {
   "cell_type": "markdown",
   "id": "e61be88b",
   "metadata": {},
   "source": [
    "# Exploratory Data Analysis"
   ]
  },
  {
   "cell_type": "markdown",
   "id": "ab2dd457",
   "metadata": {},
   "source": [
    "## Seasonal & Weekly Effects on Sales"
   ]
  },
  {
   "cell_type": "code",
   "execution_count": 48,
   "id": "f64df72b",
   "metadata": {},
   "outputs": [
    {
     "name": "stdout",
     "output_type": "stream",
     "text": [
      "2025-08-28 13:02:51,612 INFO sqlalchemy.engine.Engine BEGIN (implicit)\n",
      "2025-08-28 13:02:51,614 INFO sqlalchemy.engine.Engine \n",
      "SELECT \n",
      "    DATE(orders.order_purchase_timestamp) AS order_date,\n",
      "    SUM(price) AS total_revenue,\n",
      "    COUNT(DISTINCT order_id) AS total_orders,\n",
      "    AVG(price) AS avg_order_value\n",
      "FROM order_items \n",
      "LEFT JOIN orders USING(order_id)\n",
      "GROUP BY order_date\n",
      "ORDER BY order_date;\n",
      "\n",
      "2025-08-28 13:02:51,615 INFO sqlalchemy.engine.Engine [generated in 0.00263s] ()\n",
      "2025-08-28 13:02:53,305 INFO sqlalchemy.engine.Engine ROLLBACK\n",
      "     order_date  total_revenue  total_orders  avg_order_value\n",
      "0    2016-09-04          72.89             1        36.445000\n",
      "1    2016-09-05          59.50             1        59.500000\n",
      "2    2016-09-15         134.97             1        44.990000\n",
      "3    2016-10-02         100.00             1       100.000000\n",
      "4    2016-10-03         463.48             8        57.935000\n",
      "..          ...            ...           ...              ...\n",
      "611  2018-08-26        8070.71            73        98.423293\n",
      "612  2018-08-27        5345.91            66        75.294507\n",
      "613  2018-08-28        3673.91            39        81.642444\n",
      "614  2018-08-29        1546.04            11        96.627500\n",
      "615  2018-09-03         145.00             1       145.000000\n",
      "\n",
      "[616 rows x 4 columns]\n"
     ]
    }
   ],
   "source": [
    "# Revenue and number of orders\n",
    "query = \"\"\"\n",
    "SELECT \n",
    "    DATE(orders.order_purchase_timestamp) AS order_date,\n",
    "    SUM(price) AS total_revenue,\n",
    "    COUNT(DISTINCT order_id) AS total_orders,\n",
    "    AVG(price) AS avg_order_value\n",
    "FROM order_items \n",
    "LEFT JOIN orders USING(order_id)\n",
    "GROUP BY order_date\n",
    "ORDER BY order_date;\n",
    "\"\"\" \n",
    "\n",
    "with engine.connect() as connection:\n",
    "    result = connection.execute(text(query))\n",
    "    tables = result.fetchall()\n",
    "    df = pd.DataFrame(tables, columns=result.keys())\n",
    "print(df)  # Display the revenue and number of orders per day\n",
    "\n",
    "df[\"order_date\"] = pd.to_datetime(df[\"order_date\"])"
   ]
  },
  {
   "cell_type": "code",
   "execution_count": 49,
   "id": "45c66a1c",
   "metadata": {},
   "outputs": [
    {
     "name": "stdout",
     "output_type": "stream",
     "text": [
      "<class 'pandas.core.frame.DataFrame'>\n",
      "RangeIndex: 616 entries, 0 to 615\n",
      "Data columns (total 4 columns):\n",
      " #   Column           Non-Null Count  Dtype         \n",
      "---  ------           --------------  -----         \n",
      " 0   order_date       616 non-null    datetime64[ns]\n",
      " 1   total_revenue    616 non-null    float64       \n",
      " 2   total_orders     616 non-null    int64         \n",
      " 3   avg_order_value  616 non-null    float64       \n",
      "dtypes: datetime64[ns](1), float64(2), int64(1)\n",
      "memory usage: 19.4 KB\n"
     ]
    }
   ],
   "source": [
    "df.info()"
   ]
  },
  {
   "cell_type": "code",
   "execution_count": 50,
   "id": "ae749f46",
   "metadata": {},
   "outputs": [
    {
     "name": "stdout",
     "output_type": "stream",
     "text": [
      "Significant event date: 2017-11-24\n"
     ]
    }
   ],
   "source": [
    "significant_event_date = df[df[\"total_revenue\"] == df[\"total_revenue\"].max()][\"order_date\"].dt.strftime('%Y-%m-%d').values[0]\n",
    "print(f\"Significant event date: {significant_event_date}\")"
   ]
  },
  {
   "cell_type": "code",
   "execution_count": 51,
   "id": "bbe752c8",
   "metadata": {},
   "outputs": [
    {
     "data": {
      "image/png": "[encoded data removed]",
      "text/plain": [
       "<Figure size 1800x600 with 1 Axes>"
      ]
     },
     "metadata": {},
     "output_type": "display_data"
    }
   ],
   "source": [
    "fig, ax = plt.subplots(figsize=(18, 6))\n",
    "sns.lineplot(data=df, x=\"order_date\", y=\"total_revenue\", ax=ax)\n",
    "plt.title(\"Total Revenue Over Time\")\n",
    "ax.annotate(f\"Significant Event {significant_event_date}\", xy=(df[df[\"total_revenue\"] == df[\"total_revenue\"].max()][\"order_date\"], df[\"total_revenue\"].max())) \n",
    "plt.show()"
   ]
  },
  {
   "cell_type": "markdown",
   "id": "dc269901",
   "metadata": {},
   "source": [
    "This shows that the average revenue gained is volatile from day to day and month to month, We'll conduct some statistical tests to check wether the differences are statistically significant"
   ]
  },
  {
   "cell_type": "code",
   "execution_count": 52,
   "id": "1d7b2999",
   "metadata": {},
   "outputs": [],
   "source": [
    "alpha = 0.05"
   ]
  },
  {
   "cell_type": "code",
   "execution_count": 53,
   "id": "db524d17",
   "metadata": {},
   "outputs": [
    {
     "data": {
      "text/html": [
       "<div>\n",
       "<style scoped>\n",
       "    .dataframe tbody tr th:only-of-type {\n",
       "        vertical-align: middle;\n",
       "    }\n",
       "\n",
       "    .dataframe tbody tr th {\n",
       "        vertical-align: top;\n",
       "    }\n",
       "\n",
       "    .dataframe thead th {\n",
       "        text-align: right;\n",
       "    }\n",
       "</style>\n",
       "<table border=\"1\" class=\"dataframe\">\n",
       "  <thead>\n",
       "    <tr style=\"text-align: right;\">\n",
       "      <th></th>\n",
       "      <th>order_date</th>\n",
       "      <th>total_revenue</th>\n",
       "      <th>total_orders</th>\n",
       "      <th>avg_order_value</th>\n",
       "      <th>order_week</th>\n",
       "      <th>order_month</th>\n",
       "      <th>order_day</th>\n",
       "    </tr>\n",
       "  </thead>\n",
       "  <tbody>\n",
       "    <tr>\n",
       "      <th>0</th>\n",
       "      <td>2016-09-04</td>\n",
       "      <td>72.89</td>\n",
       "      <td>1</td>\n",
       "      <td>36.445</td>\n",
       "      <td>35</td>\n",
       "      <td>9</td>\n",
       "      <td>6</td>\n",
       "    </tr>\n",
       "    <tr>\n",
       "      <th>1</th>\n",
       "      <td>2016-09-05</td>\n",
       "      <td>59.50</td>\n",
       "      <td>1</td>\n",
       "      <td>59.500</td>\n",
       "      <td>36</td>\n",
       "      <td>9</td>\n",
       "      <td>0</td>\n",
       "    </tr>\n",
       "    <tr>\n",
       "      <th>2</th>\n",
       "      <td>2016-09-15</td>\n",
       "      <td>134.97</td>\n",
       "      <td>1</td>\n",
       "      <td>44.990</td>\n",
       "      <td>37</td>\n",
       "      <td>9</td>\n",
       "      <td>3</td>\n",
       "    </tr>\n",
       "    <tr>\n",
       "      <th>3</th>\n",
       "      <td>2016-10-02</td>\n",
       "      <td>100.00</td>\n",
       "      <td>1</td>\n",
       "      <td>100.000</td>\n",
       "      <td>39</td>\n",
       "      <td>10</td>\n",
       "      <td>6</td>\n",
       "    </tr>\n",
       "    <tr>\n",
       "      <th>4</th>\n",
       "      <td>2016-10-03</td>\n",
       "      <td>463.48</td>\n",
       "      <td>8</td>\n",
       "      <td>57.935</td>\n",
       "      <td>40</td>\n",
       "      <td>10</td>\n",
       "      <td>0</td>\n",
       "    </tr>\n",
       "  </tbody>\n",
       "</table>\n",
       "</div>"
      ],
      "text/plain": [
       "  order_date  total_revenue  total_orders  avg_order_value  order_week  \\\n",
       "0 2016-09-04          72.89             1           36.445          35   \n",
       "1 2016-09-05          59.50             1           59.500          36   \n",
       "2 2016-09-15         134.97             1           44.990          37   \n",
       "3 2016-10-02         100.00             1          100.000          39   \n",
       "4 2016-10-03         463.48             8           57.935          40   \n",
       "\n",
       "   order_month  order_day  \n",
       "0            9          6  \n",
       "1            9          0  \n",
       "2            9          3  \n",
       "3           10          6  \n",
       "4           10          0  "
      ]
     },
     "execution_count": 53,
     "metadata": {},
     "output_type": "execute_result"
    }
   ],
   "source": [
    "df[\"order_week\"] = df[\"order_date\"].dt.isocalendar().week\n",
    "df[\"order_month\"] = df[\"order_date\"].dt.month\n",
    "df[\"order_day\"] = df[\"order_date\"].dt.weekday\n",
    "\n",
    "df.head()"
   ]
  },
  {
   "cell_type": "code",
   "execution_count": 54,
   "id": "20d5be42",
   "metadata": {},
   "outputs": [
    {
     "data": {
      "image/png": "[encoded data removed]",
      "text/plain": [
       "<Figure size 640x480 with 1 Axes>"
      ]
     },
     "metadata": {},
     "output_type": "display_data"
    }
   ],
   "source": [
    "sns.boxplot(data=df, x=\"order_month\", y=\"total_revenue\")\n",
    "plt.title(\"Total Revenue by Month\")\n",
    "plt.show()"
   ]
  },
  {
   "cell_type": "code",
   "execution_count": 55,
   "id": "7c902b07",
   "metadata": {},
   "outputs": [
    {
     "data": {
      "text/html": [
       "<div>\n",
       "<style scoped>\n",
       "    .dataframe tbody tr th:only-of-type {\n",
       "        vertical-align: middle;\n",
       "    }\n",
       "\n",
       "    .dataframe tbody tr th {\n",
       "        vertical-align: top;\n",
       "    }\n",
       "\n",
       "    .dataframe thead th {\n",
       "        text-align: right;\n",
       "    }\n",
       "</style>\n",
       "<table border=\"1\" class=\"dataframe\">\n",
       "  <thead>\n",
       "    <tr style=\"text-align: right;\">\n",
       "      <th></th>\n",
       "      <th>Source</th>\n",
       "      <th>ddof1</th>\n",
       "      <th>ddof2</th>\n",
       "      <th>F</th>\n",
       "      <th>p-unc</th>\n",
       "      <th>np2</th>\n",
       "    </tr>\n",
       "  </thead>\n",
       "  <tbody>\n",
       "    <tr>\n",
       "      <th>0</th>\n",
       "      <td>order_month</td>\n",
       "      <td>11</td>\n",
       "      <td>216.617915</td>\n",
       "      <td>2.788039</td>\n",
       "      <td>0.002062</td>\n",
       "      <td>0.070816</td>\n",
       "    </tr>\n",
       "  </tbody>\n",
       "</table>\n",
       "</div>"
      ],
      "text/plain": [
       "        Source  ddof1       ddof2         F     p-unc       np2\n",
       "0  order_month     11  216.617915  2.788039  0.002062  0.070816"
      ]
     },
     "execution_count": 55,
     "metadata": {},
     "output_type": "execute_result"
    }
   ],
   "source": [
    "pingouin.welch_anova(dv='total_revenue', between='order_month', data=df)"
   ]
  },
  {
   "cell_type": "code",
   "execution_count": 56,
   "id": "0d2f123f",
   "metadata": {},
   "outputs": [
    {
     "data": {
      "text/html": [
       "<div>\n",
       "<style scoped>\n",
       "    .dataframe tbody tr th:only-of-type {\n",
       "        vertical-align: middle;\n",
       "    }\n",
       "\n",
       "    .dataframe tbody tr th {\n",
       "        vertical-align: top;\n",
       "    }\n",
       "\n",
       "    .dataframe thead th {\n",
       "        text-align: right;\n",
       "    }\n",
       "</style>\n",
       "<table border=\"1\" class=\"dataframe\">\n",
       "  <thead>\n",
       "    <tr style=\"text-align: right;\">\n",
       "      <th></th>\n",
       "      <th>Contrast</th>\n",
       "      <th>A</th>\n",
       "      <th>B</th>\n",
       "      <th>Paired</th>\n",
       "      <th>Parametric</th>\n",
       "      <th>T</th>\n",
       "      <th>dof</th>\n",
       "      <th>alternative</th>\n",
       "      <th>p-unc</th>\n",
       "      <th>p-corr</th>\n",
       "      <th>p-adjust</th>\n",
       "      <th>BF10</th>\n",
       "      <th>hedges</th>\n",
       "    </tr>\n",
       "  </thead>\n",
       "  <tbody>\n",
       "  </tbody>\n",
       "</table>\n",
       "</div>"
      ],
      "text/plain": [
       "Empty DataFrame\n",
       "Columns: [Contrast, A, B, Paired, Parametric, T, dof, alternative, p-unc, p-corr, p-adjust, BF10, hedges]\n",
       "Index: []"
      ]
     },
     "execution_count": 56,
     "metadata": {},
     "output_type": "execute_result"
    }
   ],
   "source": [
    "pairwise_test = pingouin.pairwise_tests(dv='total_revenue', between='order_month', data=df, padjust='bonf', alternative=\"two-sided\")\n",
    "\n",
    "pairwise_test[pairwise_test['p-corr'] < alpha]"
   ]
  },
  {
   "cell_type": "code",
   "execution_count": 57,
   "id": "2541b06b",
   "metadata": {},
   "outputs": [
    {
     "data": {
      "image/png": "[encoded data removed]",
      "text/plain": [
       "<Figure size 640x480 with 1 Axes>"
      ]
     },
     "metadata": {},
     "output_type": "display_data"
    }
   ],
   "source": [
    "sns.boxplot(data=df, x=\"order_day\", y=\"total_revenue\")\n",
    "plt.title(\"Total Revenue by Day of Week\")\n",
    "plt.show()"
   ]
  },
  {
   "cell_type": "code",
   "execution_count": 58,
   "id": "30bce0f4",
   "metadata": {},
   "outputs": [
    {
     "data": {
      "text/html": [
       "<div>\n",
       "<style scoped>\n",
       "    .dataframe tbody tr th:only-of-type {\n",
       "        vertical-align: middle;\n",
       "    }\n",
       "\n",
       "    .dataframe tbody tr th {\n",
       "        vertical-align: top;\n",
       "    }\n",
       "\n",
       "    .dataframe thead th {\n",
       "        text-align: right;\n",
       "    }\n",
       "</style>\n",
       "<table border=\"1\" class=\"dataframe\">\n",
       "  <thead>\n",
       "    <tr style=\"text-align: right;\">\n",
       "      <th></th>\n",
       "      <th>Source</th>\n",
       "      <th>ddof1</th>\n",
       "      <th>ddof2</th>\n",
       "      <th>F</th>\n",
       "      <th>p-unc</th>\n",
       "      <th>np2</th>\n",
       "    </tr>\n",
       "  </thead>\n",
       "  <tbody>\n",
       "    <tr>\n",
       "      <th>0</th>\n",
       "      <td>order_day</td>\n",
       "      <td>6</td>\n",
       "      <td>269.716343</td>\n",
       "      <td>8.443537</td>\n",
       "      <td>2.084728e-08</td>\n",
       "      <td>0.056072</td>\n",
       "    </tr>\n",
       "  </tbody>\n",
       "</table>\n",
       "</div>"
      ],
      "text/plain": [
       "      Source  ddof1       ddof2         F         p-unc       np2\n",
       "0  order_day      6  269.716343  8.443537  2.084728e-08  0.056072"
      ]
     },
     "execution_count": 58,
     "metadata": {},
     "output_type": "execute_result"
    }
   ],
   "source": [
    "pingouin.welch_anova(dv='total_revenue', between='order_day', data=df)"
   ]
  },
  {
   "cell_type": "code",
   "execution_count": 59,
   "id": "5a2800b9",
   "metadata": {},
   "outputs": [
    {
     "data": {
      "text/html": [
       "<div>\n",
       "<style scoped>\n",
       "    .dataframe tbody tr th:only-of-type {\n",
       "        vertical-align: middle;\n",
       "    }\n",
       "\n",
       "    .dataframe tbody tr th {\n",
       "        vertical-align: top;\n",
       "    }\n",
       "\n",
       "    .dataframe thead th {\n",
       "        text-align: right;\n",
       "    }\n",
       "</style>\n",
       "<table border=\"1\" class=\"dataframe\">\n",
       "  <thead>\n",
       "    <tr style=\"text-align: right;\">\n",
       "      <th></th>\n",
       "      <th>Contrast</th>\n",
       "      <th>A</th>\n",
       "      <th>B</th>\n",
       "      <th>Paired</th>\n",
       "      <th>Parametric</th>\n",
       "      <th>T</th>\n",
       "      <th>dof</th>\n",
       "      <th>alternative</th>\n",
       "      <th>p-unc</th>\n",
       "      <th>p-corr</th>\n",
       "      <th>p-adjust</th>\n",
       "      <th>BF10</th>\n",
       "      <th>hedges</th>\n",
       "    </tr>\n",
       "  </thead>\n",
       "  <tbody>\n",
       "    <tr>\n",
       "      <th>4</th>\n",
       "      <td>order_day</td>\n",
       "      <td>0</td>\n",
       "      <td>5</td>\n",
       "      <td>False</td>\n",
       "      <td>True</td>\n",
       "      <td>4.304521</td>\n",
       "      <td>152.547179</td>\n",
       "      <td>greater</td>\n",
       "      <td>1.490041e-05</td>\n",
       "      <td>0.000313</td>\n",
       "      <td>bonf</td>\n",
       "      <td>1318.884</td>\n",
       "      <td>0.639870</td>\n",
       "    </tr>\n",
       "    <tr>\n",
       "      <th>5</th>\n",
       "      <td>order_day</td>\n",
       "      <td>0</td>\n",
       "      <td>6</td>\n",
       "      <td>False</td>\n",
       "      <td>True</td>\n",
       "      <td>3.888474</td>\n",
       "      <td>159.331850</td>\n",
       "      <td>greater</td>\n",
       "      <td>7.389094e-05</td>\n",
       "      <td>0.001552</td>\n",
       "      <td>bonf</td>\n",
       "      <td>300.564</td>\n",
       "      <td>0.577703</td>\n",
       "    </tr>\n",
       "    <tr>\n",
       "      <th>9</th>\n",
       "      <td>order_day</td>\n",
       "      <td>1</td>\n",
       "      <td>5</td>\n",
       "      <td>False</td>\n",
       "      <td>True</td>\n",
       "      <td>4.940758</td>\n",
       "      <td>172.000000</td>\n",
       "      <td>greater</td>\n",
       "      <td>9.170097e-07</td>\n",
       "      <td>0.000019</td>\n",
       "      <td>bonf</td>\n",
       "      <td>1.595e+04</td>\n",
       "      <td>0.745844</td>\n",
       "    </tr>\n",
       "    <tr>\n",
       "      <th>10</th>\n",
       "      <td>order_day</td>\n",
       "      <td>1</td>\n",
       "      <td>6</td>\n",
       "      <td>False</td>\n",
       "      <td>True</td>\n",
       "      <td>4.447096</td>\n",
       "      <td>167.866593</td>\n",
       "      <td>greater</td>\n",
       "      <td>7.890678e-06</td>\n",
       "      <td>0.000166</td>\n",
       "      <td>bonf</td>\n",
       "      <td>2250.427</td>\n",
       "      <td>0.668862</td>\n",
       "    </tr>\n",
       "    <tr>\n",
       "      <th>13</th>\n",
       "      <td>order_day</td>\n",
       "      <td>2</td>\n",
       "      <td>5</td>\n",
       "      <td>False</td>\n",
       "      <td>True</td>\n",
       "      <td>4.393941</td>\n",
       "      <td>172.000000</td>\n",
       "      <td>greater</td>\n",
       "      <td>9.710105e-06</td>\n",
       "      <td>0.000204</td>\n",
       "      <td>bonf</td>\n",
       "      <td>1832.098</td>\n",
       "      <td>0.663298</td>\n",
       "    </tr>\n",
       "    <tr>\n",
       "      <th>14</th>\n",
       "      <td>order_day</td>\n",
       "      <td>2</td>\n",
       "      <td>6</td>\n",
       "      <td>False</td>\n",
       "      <td>True</td>\n",
       "      <td>3.929715</td>\n",
       "      <td>165.300499</td>\n",
       "      <td>greater</td>\n",
       "      <td>6.238928e-05</td>\n",
       "      <td>0.001310</td>\n",
       "      <td>bonf</td>\n",
       "      <td>345.282</td>\n",
       "      <td>0.591305</td>\n",
       "    </tr>\n",
       "    <tr>\n",
       "      <th>16</th>\n",
       "      <td>order_day</td>\n",
       "      <td>3</td>\n",
       "      <td>5</td>\n",
       "      <td>False</td>\n",
       "      <td>True</td>\n",
       "      <td>3.693926</td>\n",
       "      <td>165.213284</td>\n",
       "      <td>greater</td>\n",
       "      <td>1.499133e-04</td>\n",
       "      <td>0.003148</td>\n",
       "      <td>bonf</td>\n",
       "      <td>157.001</td>\n",
       "      <td>0.555324</td>\n",
       "    </tr>\n",
       "    <tr>\n",
       "      <th>17</th>\n",
       "      <td>order_day</td>\n",
       "      <td>3</td>\n",
       "      <td>6</td>\n",
       "      <td>False</td>\n",
       "      <td>True</td>\n",
       "      <td>3.226068</td>\n",
       "      <td>170.673840</td>\n",
       "      <td>greater</td>\n",
       "      <td>7.522382e-04</td>\n",
       "      <td>0.015797</td>\n",
       "      <td>bonf</td>\n",
       "      <td>37.413</td>\n",
       "      <td>0.483305</td>\n",
       "    </tr>\n",
       "  </tbody>\n",
       "</table>\n",
       "</div>"
      ],
      "text/plain": [
       "     Contrast  A  B  Paired  Parametric         T         dof alternative  \\\n",
       "4   order_day  0  5   False        True  4.304521  152.547179     greater   \n",
       "5   order_day  0  6   False        True  3.888474  159.331850     greater   \n",
       "9   order_day  1  5   False        True  4.940758  172.000000     greater   \n",
       "10  order_day  1  6   False        True  4.447096  167.866593     greater   \n",
       "13  order_day  2  5   False        True  4.393941  172.000000     greater   \n",
       "14  order_day  2  6   False        True  3.929715  165.300499     greater   \n",
       "16  order_day  3  5   False        True  3.693926  165.213284     greater   \n",
       "17  order_day  3  6   False        True  3.226068  170.673840     greater   \n",
       "\n",
       "           p-unc    p-corr p-adjust       BF10    hedges  \n",
       "4   1.490041e-05  0.000313     bonf   1318.884  0.639870  \n",
       "5   7.389094e-05  0.001552     bonf    300.564  0.577703  \n",
       "9   9.170097e-07  0.000019     bonf  1.595e+04  0.745844  \n",
       "10  7.890678e-06  0.000166     bonf   2250.427  0.668862  \n",
       "13  9.710105e-06  0.000204     bonf   1832.098  0.663298  \n",
       "14  6.238928e-05  0.001310     bonf    345.282  0.591305  \n",
       "16  1.499133e-04  0.003148     bonf    157.001  0.555324  \n",
       "17  7.522382e-04  0.015797     bonf     37.413  0.483305  "
      ]
     },
     "execution_count": 59,
     "metadata": {},
     "output_type": "execute_result"
    }
   ],
   "source": [
    "pairwise_test = pingouin.pairwise_tests(dv='total_revenue', between='order_day', data=df, padjust='bonf', alternative=\"greater\")\n",
    "\n",
    "pairwise_test[pairwise_test['p-corr'] < alpha]"
   ]
  },
  {
   "cell_type": "markdown",
   "id": "63def5de",
   "metadata": {},
   "source": [
    "Although there aren't any statistically significant difference between months, the tests shows that on average the revenue on weekdays (Monday - Thursday) are higher than weekends (Friday - Sunday)"
   ]
  },
  {
   "cell_type": "markdown",
   "id": "7bc58f4a",
   "metadata": {},
   "source": [
    "## Top Products & Category by Revenue"
   ]
  },
  {
   "cell_type": "code",
   "execution_count": 60,
   "id": "7300866f",
   "metadata": {},
   "outputs": [
    {
     "name": "stdout",
     "output_type": "stream",
     "text": [
      "2025-08-28 13:02:57,424 INFO sqlalchemy.engine.Engine BEGIN (implicit)\n",
      "2025-08-28 13:02:57,425 INFO sqlalchemy.engine.Engine \n",
      "    WITH oi_summary AS (\n",
      "        SELECT\n",
      "            product_id,\n",
      "            COUNT(*)                        AS total_units_sold,     -- units (1 row = 1 unit)\n",
      "            COUNT(DISTINCT order_id)        AS total_orders,         -- orders containing the product\n",
      "            COALESCE(SUM(price),0)          AS total_revenue\n",
      "        FROM order_items\n",
      "        GROUP BY product_id\n",
      "    )\n",
      "    SELECT\n",
      "    p.product_id,\n",
      "    pc.product_category_name_english AS product_category,\n",
      "    oi.total_units_sold,\n",
      "    oi.total_orders,\n",
      "    oi.total_revenue\n",
      "    FROM products p\n",
      "    LEFT JOIN oi_summary oi \n",
      "        ON p.product_id = oi.product_id\n",
      "    LEFT JOIN product_category_name_translation pc\n",
      "        ON p.product_category_name = pc.product_category_name\n",
      "    ORDER BY oi.total_revenue DESC\n",
      "\n",
      "2025-08-28 13:02:57,426 INFO sqlalchemy.engine.Engine [generated in 0.00211s] ()\n",
      "2025-08-28 13:02:58,071 INFO sqlalchemy.engine.Engine ROLLBACK\n",
      "                             product_id                 product_category  \\\n",
      "0      bb50f2e236e5eea0100680137654686c                    health_beauty   \n",
      "1      6cdd53843498f92890544667809f1595                    health_beauty   \n",
      "2      d6160fb7873f184099d9bc95e30376af                        computers   \n",
      "3      d1c427060a0f73f6b889a5c7c61f2ac4            computers_accessories   \n",
      "4      99a4788cb24856965c36a24e339b6058                   bed_bath_table   \n",
      "...                                 ...                              ...   \n",
      "32946  2e8316b31db34314f393806fd7b6e185                       stationery   \n",
      "32947  680cc8535be7cc69544238c1d6a83fe8                         pet_shop   \n",
      "32948  8a3254bee785a526d548a81a9bc3c9be  construction_tools_construction   \n",
      "32949  310dc32058903b6416c71faff132df9e                       stationery   \n",
      "32950  46fce52cef5caa7cc225a5531c946c8b                    health_beauty   \n",
      "\n",
      "       total_units_sold  total_orders  total_revenue  \n",
      "0                   195           187       63885.00  \n",
      "1                   156           151       54730.20  \n",
      "2                    35            35       48899.34  \n",
      "3                   343           323       47214.51  \n",
      "4                   488           467       43025.56  \n",
      "...                 ...           ...            ...  \n",
      "32946                 1             1           2.99  \n",
      "32947                 1             1           2.90  \n",
      "32948                 3             3           2.55  \n",
      "32949                 1             1           2.29  \n",
      "32950                 1             1           2.20  \n",
      "\n",
      "[32951 rows x 5 columns]\n"
     ]
    }
   ],
   "source": [
    "query = \"\"\"\n",
    "    WITH oi_summary AS (\n",
    "        SELECT\n",
    "            product_id,\n",
    "            COUNT(*)                        AS total_units_sold,     -- units (1 row = 1 unit)\n",
    "            COUNT(DISTINCT order_id)        AS total_orders,         -- orders containing the product\n",
    "            COALESCE(SUM(price),0)          AS total_revenue\n",
    "        FROM order_items\n",
    "        GROUP BY product_id\n",
    "    )\n",
    "    SELECT\n",
    "    p.product_id,\n",
    "    pc.product_category_name_english AS product_category,\n",
    "    oi.total_units_sold,\n",
    "    oi.total_orders,\n",
    "    oi.total_revenue\n",
    "    FROM products p\n",
    "    LEFT JOIN oi_summary oi \n",
    "        ON p.product_id = oi.product_id\n",
    "    LEFT JOIN product_category_name_translation pc\n",
    "        ON p.product_category_name = pc.product_category_name\n",
    "    ORDER BY oi.total_revenue DESC\n",
    "\"\"\" \n",
    "\n",
    "with engine.connect() as connection:\n",
    "    result = connection.execute(text(query))\n",
    "    tables = result.fetchall()\n",
    "    df = pd.DataFrame(tables, columns=result.keys())\n",
    "print(df)  # Display the revenue and number of orders per product and category"
   ]
  },
  {
   "cell_type": "code",
   "execution_count": 61,
   "id": "72612934",
   "metadata": {},
   "outputs": [
    {
     "data": {
      "text/html": [
       "<div>\n",
       "<style scoped>\n",
       "    .dataframe tbody tr th:only-of-type {\n",
       "        vertical-align: middle;\n",
       "    }\n",
       "\n",
       "    .dataframe tbody tr th {\n",
       "        vertical-align: top;\n",
       "    }\n",
       "\n",
       "    .dataframe thead th {\n",
       "        text-align: right;\n",
       "    }\n",
       "</style>\n",
       "<table border=\"1\" class=\"dataframe\">\n",
       "  <thead>\n",
       "    <tr style=\"text-align: right;\">\n",
       "      <th></th>\n",
       "      <th>product_category</th>\n",
       "      <th>total_units_sold</th>\n",
       "      <th>total_orders</th>\n",
       "      <th>total_revenue</th>\n",
       "    </tr>\n",
       "  </thead>\n",
       "  <tbody>\n",
       "    <tr>\n",
       "      <th>43</th>\n",
       "      <td>health_beauty</td>\n",
       "      <td>9670</td>\n",
       "      <td>9022</td>\n",
       "      <td>1258681.34</td>\n",
       "    </tr>\n",
       "    <tr>\n",
       "      <th>70</th>\n",
       "      <td>watches_gifts</td>\n",
       "      <td>5991</td>\n",
       "      <td>5799</td>\n",
       "      <td>1205005.68</td>\n",
       "    </tr>\n",
       "    <tr>\n",
       "      <th>7</th>\n",
       "      <td>bed_bath_table</td>\n",
       "      <td>11115</td>\n",
       "      <td>10160</td>\n",
       "      <td>1036988.68</td>\n",
       "    </tr>\n",
       "    <tr>\n",
       "      <th>65</th>\n",
       "      <td>sports_leisure</td>\n",
       "      <td>8641</td>\n",
       "      <td>7858</td>\n",
       "      <td>988048.97</td>\n",
       "    </tr>\n",
       "    <tr>\n",
       "      <th>15</th>\n",
       "      <td>computers_accessories</td>\n",
       "      <td>7827</td>\n",
       "      <td>6887</td>\n",
       "      <td>911954.32</td>\n",
       "    </tr>\n",
       "    <tr>\n",
       "      <th>...</th>\n",
       "      <td>...</td>\n",
       "      <td>...</td>\n",
       "      <td>...</td>\n",
       "      <td>...</td>\n",
       "    </tr>\n",
       "    <tr>\n",
       "      <th>35</th>\n",
       "      <td>flowers</td>\n",
       "      <td>33</td>\n",
       "      <td>29</td>\n",
       "      <td>1110.04</td>\n",
       "    </tr>\n",
       "    <tr>\n",
       "      <th>46</th>\n",
       "      <td>home_comfort_2</td>\n",
       "      <td>30</td>\n",
       "      <td>24</td>\n",
       "      <td>760.27</td>\n",
       "    </tr>\n",
       "    <tr>\n",
       "      <th>11</th>\n",
       "      <td>cds_dvds_musicals</td>\n",
       "      <td>14</td>\n",
       "      <td>12</td>\n",
       "      <td>730.00</td>\n",
       "    </tr>\n",
       "    <tr>\n",
       "      <th>29</th>\n",
       "      <td>fashion_childrens_clothes</td>\n",
       "      <td>8</td>\n",
       "      <td>8</td>\n",
       "      <td>569.85</td>\n",
       "    </tr>\n",
       "    <tr>\n",
       "      <th>61</th>\n",
       "      <td>security_and_services</td>\n",
       "      <td>2</td>\n",
       "      <td>2</td>\n",
       "      <td>283.29</td>\n",
       "    </tr>\n",
       "  </tbody>\n",
       "</table>\n",
       "<p>71 rows × 4 columns</p>\n",
       "</div>"
      ],
      "text/plain": [
       "             product_category  total_units_sold  total_orders  total_revenue\n",
       "43              health_beauty              9670          9022     1258681.34\n",
       "70              watches_gifts              5991          5799     1205005.68\n",
       "7              bed_bath_table             11115         10160     1036988.68\n",
       "65             sports_leisure              8641          7858      988048.97\n",
       "15      computers_accessories              7827          6887      911954.32\n",
       "..                        ...               ...           ...            ...\n",
       "35                    flowers                33            29        1110.04\n",
       "46             home_comfort_2                30            24         760.27\n",
       "11          cds_dvds_musicals                14            12         730.00\n",
       "29  fashion_childrens_clothes                 8             8         569.85\n",
       "61      security_and_services                 2             2         283.29\n",
       "\n",
       "[71 rows x 4 columns]"
      ]
     },
     "execution_count": 61,
     "metadata": {},
     "output_type": "execute_result"
    }
   ],
   "source": [
    "grouped = df.groupby(\"product_category\").agg({\n",
    "    \"total_units_sold\": \"sum\",\n",
    "    \"total_orders\": \"sum\",\n",
    "    \"total_revenue\": \"sum\"\n",
    "}).reset_index()\n",
    "\n",
    "grouped = grouped.sort_values(by=\"total_revenue\", ascending=False)\n",
    "\n",
    "grouped"
   ]
  },
  {
   "cell_type": "code",
   "execution_count": 66,
   "id": "409a6fd0",
   "metadata": {},
   "outputs": [
    {
     "data": {
      "image/png": "[encoded data removed]",
      "text/plain": [
       "<Figure size 3600x800 with 3 Axes>"
      ]
     },
     "metadata": {},
     "output_type": "display_data"
    }
   ],
   "source": [
    "fig, axes = plt.subplots(1, 3, figsize=(36, 8), sharey=False, sharex=False)\n",
    "\n",
    "sns.barplot(data=grouped.sort_values(by=\"total_units_sold\", ascending=False).head(10), x=\"product_category\", y=\"total_units_sold\", ax=axes[0])\n",
    "axes[0].set_title(\"Top 10 Product Categories by Units Sold\")\n",
    "axes[0].set_xlabel(\"Product Category\")\n",
    "axes[0].set_ylabel(\"Total Units Sold\")\n",
    "axes[0].tick_params(axis='x', rotation=45)\n",
    "\n",
    "sns.barplot(data=grouped.sort_values(by=\"total_orders\", ascending=False).head(10), x=\"product_category\", y=\"total_orders\", ax=axes[1])\n",
    "axes[1].set_title(\"Top 10 Product Categories by Orders\")\n",
    "axes[1].set_xlabel(\"Product Category\")\n",
    "axes[1].set_ylabel(\"Total Orders\")\n",
    "axes[1].tick_params(axis='x', rotation=45)\n",
    "\n",
    "sns.barplot(data=grouped.head(10), x=\"product_category\", y=\"total_revenue\", ax=axes[2])\n",
    "axes[2].set_title(\"Top 10 Product Categories by Revenue\")\n",
    "axes[2].set_xlabel(\"Product Category\")\n",
    "axes[2].set_ylabel(\"Total Revenue\")\n",
    "axes[2].tick_params(axis='x', rotation=45)\n",
    "\n",
    "plt.tight_layout()\n",
    "plt.show()"
   ]
  },
  {
   "cell_type": "markdown",
   "id": "161a5feb",
   "metadata": {},
   "source": [
    "We can see the top performing categories\n",
    "    By Revenue :\n",
    "        - Health and Beauty\n",
    "        - Watches Gift\n",
    "        - Bed Bath Table\n",
    "    By Number of Orders :\n",
    "        - Bed Bath Table\n",
    "        - Health and Beauty\n",
    "        - Sports Leisure\n",
    "    By Number of Units Sold :\n",
    "        - Bed Bath Table\n",
    "        - Health and Beauty\n",
    "        - Sports Leisure\n",
    "\n",
    "This also signals some of the top performing category's revenues are generated by number of sales (eg. Health and Beauty, Bed Bath Table) while others by the premium price (eg. Watches Gift)"
   ]
  },
  {
   "cell_type": "markdown",
   "id": "c489fb8b",
   "metadata": {},
   "source": [
    "## Order Payments Behaviour"
   ]
  },
  {
   "cell_type": "code",
   "execution_count": 79,
   "id": "52a60c01",
   "metadata": {},
   "outputs": [
    {
     "name": "stdout",
     "output_type": "stream",
     "text": [
      "2025-08-28 15:26:16,020 INFO sqlalchemy.engine.Engine BEGIN (implicit)\n",
      "2025-08-28 15:26:16,022 INFO sqlalchemy.engine.Engine \n",
      "    SELECT\n",
      "        op.order_id,\n",
      "        SUM(op.payment_value)                 AS paid_total,\n",
      "        COUNT(DISTINCT op.payment_type)       AS distinct_methods,\n",
      "        GROUP_CONCAT(DISTINCT op.payment_type)   AS methods_used,\n",
      "        MAX(op.payment_installments) AS payment_installments\n",
      "    FROM order_payments op\n",
      "    GROUP BY op.order_id\n",
      "    ORDER BY paid_total DESC;\n",
      "\n",
      "2025-08-28 15:26:16,023 INFO sqlalchemy.engine.Engine [generated in 0.00314s] ()\n",
      "2025-08-28 15:26:17,334 INFO sqlalchemy.engine.Engine ROLLBACK\n",
      "                               order_id  paid_total  distinct_methods  \\\n",
      "0      03caa2c082116e1d31e67e9ae3700499    13664.08                 1   \n",
      "1      736e1922ae60d0d6a89247b851902527     7274.88                 1   \n",
      "2      0812eb902a67711a1cb742b3cdaa65ae     6929.31                 1   \n",
      "3      fefacc66af859508bf1a7934eab1e97f     6922.21                 1   \n",
      "4      f5136e38d1a14a4dbd87dff67da82701     6726.66                 1   \n",
      "...                                 ...         ...               ...   \n",
      "99435  e8bbc1d69fee39eee4c72cb5c969e39d       10.07                 1   \n",
      "99436  f1d5c2e6867fa93ceee9ef9b34a53cbf        9.59                 2   \n",
      "99437  c8c528189310eaa44a745b8d9d26908b        0.00                 1   \n",
      "99438  4637ca194b6387e2d538dc89b124b0ee        0.00                 1   \n",
      "99439  00b1cb0320190ca0daa2c88b35206009        0.00                 1   \n",
      "\n",
      "              methods_used  payment_installments  \n",
      "0              credit_card                     1  \n",
      "1                   boleto                     1  \n",
      "2              credit_card                     8  \n",
      "3                   boleto                     1  \n",
      "4                   boleto                     1  \n",
      "...                    ...                   ...  \n",
      "99435          credit_card                     1  \n",
      "99436  credit_card,voucher                     1  \n",
      "99437          not_defined                     1  \n",
      "99438          not_defined                     1  \n",
      "99439          not_defined                     1  \n",
      "\n",
      "[99440 rows x 5 columns]\n"
     ]
    }
   ],
   "source": [
    "query = \"\"\"\n",
    "    SELECT\n",
    "        op.order_id,\n",
    "        SUM(op.payment_value)                 AS paid_total,\n",
    "        COUNT(DISTINCT op.payment_type)       AS distinct_methods,\n",
    "        GROUP_CONCAT(DISTINCT op.payment_type)   AS methods_used,\n",
    "        MAX(op.payment_installments) AS payment_installments\n",
    "    FROM order_payments op\n",
    "    GROUP BY op.order_id\n",
    "    ORDER BY paid_total DESC;\n",
    "\"\"\"\n",
    "\n",
    "with engine.connect() as connection:\n",
    "    result = connection.execute(text(query))\n",
    "    tables = result.fetchall()\n",
    "    df = pd.DataFrame(tables, columns=result.keys())\n",
    "print(df)  # Display the payment methods and their total values"
   ]
  },
  {
   "cell_type": "code",
   "execution_count": 121,
   "id": "c3e24696",
   "metadata": {},
   "outputs": [
    {
     "data": {
      "text/plain": [
       "distinct_methods\n",
       "1    50452\n",
       "2      718\n",
       "Name: count, dtype: int64"
      ]
     },
     "execution_count": 121,
     "metadata": {},
     "output_type": "execute_result"
    }
   ],
   "source": [
    "df[df[\"payment_installments\"] > 1][\"distinct_methods\"].value_counts()"
   ]
  },
  {
   "cell_type": "code",
   "execution_count": 80,
   "id": "6c6f5b1a",
   "metadata": {},
   "outputs": [
    {
     "name": "stdout",
     "output_type": "stream",
     "text": [
      "<class 'pandas.core.frame.DataFrame'>\n",
      "RangeIndex: 99440 entries, 0 to 99439\n",
      "Data columns (total 5 columns):\n",
      " #   Column                Non-Null Count  Dtype  \n",
      "---  ------                --------------  -----  \n",
      " 0   order_id              99440 non-null  object \n",
      " 1   paid_total            99440 non-null  float64\n",
      " 2   distinct_methods      99440 non-null  int64  \n",
      " 3   methods_used          99440 non-null  object \n",
      " 4   payment_installments  99440 non-null  int64  \n",
      "dtypes: float64(1), int64(2), object(2)\n",
      "memory usage: 3.8+ MB\n"
     ]
    }
   ],
   "source": [
    "df.info()"
   ]
  },
  {
   "cell_type": "code",
   "execution_count": 85,
   "id": "4aaba927",
   "metadata": {},
   "outputs": [
    {
     "data": {
      "image/png": "[encoded data removed]",
      "text/plain": [
       "<Figure size 640x480 with 1 Axes>"
      ]
     },
     "metadata": {},
     "output_type": "display_data"
    }
   ],
   "source": [
    "sns.histplot(data=df, x=\"paid_total\", bins=50)\n",
    "plt.title(\"Distribution of Total Paid Amounts\")\n",
    "plt.show()"
   ]
  },
  {
   "cell_type": "markdown",
   "id": "bbfae2ac",
   "metadata": {},
   "source": [
    "The data is extremely right skewed, meaning a lot of orders are of small spendings"
   ]
  },
  {
   "cell_type": "code",
   "execution_count": 82,
   "id": "fd298615",
   "metadata": {},
   "outputs": [],
   "source": [
    "df[\"is_installed\"] = np.where(df[\"payment_installments\"] > 1, \"Yes\", \"No\")\n",
    "df[\"is_multiple_methods\"] = np.where(df[\"distinct_methods\"] > 1, \"Yes\", \"No\")"
   ]
  },
  {
   "cell_type": "code",
   "execution_count": 109,
   "id": "af260357",
   "metadata": {},
   "outputs": [
    {
     "name": "stdout",
     "output_type": "stream",
     "text": [
      "Average Paid: 160.99026669348348, Std Error: 0.7038450333528754\n",
      "95% Confidence Interval: (160.40240217089652, 161.57813121607043)\n"
     ]
    }
   ],
   "source": [
    "n = len(df)\n",
    "average_paid = df[\"paid_total\"].mean()\n",
    "std_error = df[\"paid_total\"].std(ddof=1) / np.sqrt(n)\n",
    "\n",
    "critical_value = stats.t.cdf(0.975, df=n-1)  # two-tailed 95% CI\n",
    "margin_of_error = critical_value * std_error\n",
    "\n",
    "lower_bound = average_paid - margin_of_error\n",
    "upper_bound = average_paid + margin_of_error\n",
    "\n",
    "print(f\"Average Paid: {average_paid}, Std Error: {std_error}\")\n",
    "print(f\"95% Confidence Interval: ({lower_bound}, {upper_bound})\")"
   ]
  },
  {
   "cell_type": "code",
   "execution_count": 89,
   "id": "34423cfa",
   "metadata": {},
   "outputs": [
    {
     "data": {
      "image/png": "[encoded data removed]",
      "text/plain": [
       "<Figure size 640x480 with 1 Axes>"
      ]
     },
     "metadata": {},
     "output_type": "display_data"
    }
   ],
   "source": [
    "sns.barplot(data=df, x=\"is_installed\", y=\"paid_total\", estimator=np.mean)\n",
    "plt.title(\"Total Paid by Installment Usage\")\n",
    "plt.show()"
   ]
  },
  {
   "cell_type": "code",
   "execution_count": null,
   "id": "53b08985",
   "metadata": {},
   "outputs": [],
   "source": [
    "installed_means = df.groupby(\"is_installed\")[\"paid_total\"].mean()\n",
    "installed_stds = df.groupby(\"is_installed\")[\"paid_total\"].std()\n",
    "installed_counts = df.groupby(\"is_installed\")[\"paid_total\"].count()"
   ]
  },
  {
   "cell_type": "code",
   "execution_count": 119,
   "id": "67eb8e22",
   "metadata": {},
   "outputs": [
    {
     "data": {
      "text/html": [
       "<div>\n",
       "<style scoped>\n",
       "    .dataframe tbody tr th:only-of-type {\n",
       "        vertical-align: middle;\n",
       "    }\n",
       "\n",
       "    .dataframe tbody tr th {\n",
       "        vertical-align: top;\n",
       "    }\n",
       "\n",
       "    .dataframe thead th {\n",
       "        text-align: right;\n",
       "    }\n",
       "</style>\n",
       "<table border=\"1\" class=\"dataframe\">\n",
       "  <thead>\n",
       "    <tr style=\"text-align: right;\">\n",
       "      <th></th>\n",
       "      <th>mean</th>\n",
       "      <th>std</th>\n",
       "      <th>count</th>\n",
       "    </tr>\n",
       "    <tr>\n",
       "      <th>is_installed</th>\n",
       "      <th></th>\n",
       "      <th></th>\n",
       "      <th></th>\n",
       "    </tr>\n",
       "  </thead>\n",
       "  <tbody>\n",
       "    <tr>\n",
       "      <th>No</th>\n",
       "      <td>121.036364</td>\n",
       "      <td>183.320553</td>\n",
       "      <td>48270</td>\n",
       "    </tr>\n",
       "    <tr>\n",
       "      <th>Yes</th>\n",
       "      <td>198.679828</td>\n",
       "      <td>247.195376</td>\n",
       "      <td>51170</td>\n",
       "    </tr>\n",
       "  </tbody>\n",
       "</table>\n",
       "</div>"
      ],
      "text/plain": [
       "                    mean         std  count\n",
       "is_installed                               \n",
       "No            121.036364  183.320553  48270\n",
       "Yes           198.679828  247.195376  51170"
      ]
     },
     "execution_count": 119,
     "metadata": {},
     "output_type": "execute_result"
    }
   ],
   "source": [
    "summary = pd.concat([installed_means, installed_stds, installed_counts], axis=1)\n",
    "summary.columns = [\"mean\", \"std\", \"count\"]\n",
    "\n",
    "summary"
   ]
  },
  {
   "cell_type": "code",
   "execution_count": 110,
   "id": "aa4f14ca",
   "metadata": {},
   "outputs": [
    {
     "name": "stdout",
     "output_type": "stream",
     "text": [
      "T-statistic: 56.47155561716406, P-value: 0.0, reject H0: True\n"
     ]
    }
   ],
   "source": [
    "t_stat, p_val = stats.ttest_ind(\n",
    "    df[df[\"is_installed\"] == \"Yes\"][\"paid_total\"],\n",
    "    df[df[\"is_installed\"] == \"No\"][\"paid_total\"],\n",
    "    equal_var=False,\n",
    "    alternative=\"greater\"\n",
    ")\n",
    "\n",
    "print(f\"T-statistic: {t_stat}, P-value: {p_val}, reject H0: {p_val < alpha}\")"
   ]
  },
  {
   "cell_type": "markdown",
   "id": "20a6edce",
   "metadata": {},
   "source": [
    "The average paid total on orders paid in installments are higher than orders of single payments, and there's an extremely strong evidence that mean paid_total is higher for installment orders."
   ]
  },
  {
   "cell_type": "code",
   "execution_count": 103,
   "id": "b0fe0942",
   "metadata": {},
   "outputs": [
    {
     "data": {
      "text/plain": [
       "<Axes: xlabel='is_multiple_methods', ylabel='paid_total'>"
      ]
     },
     "execution_count": 103,
     "metadata": {},
     "output_type": "execute_result"
    },
    {
     "data": {
      "image/png": "[encoded data removed]",
      "text/plain": [
       "<Figure size 640x480 with 1 Axes>"
      ]
     },
     "metadata": {},
     "output_type": "display_data"
    }
   ],
   "source": [
    "sns.barplot(data=df, x=\"is_multiple_methods\", y=\"paid_total\", estimator=np.mean)"
   ]
  },
  {
   "cell_type": "code",
   "execution_count": 100,
   "id": "34b215be",
   "metadata": {},
   "outputs": [],
   "source": [
    "distinct_means = df.groupby(\"is_multiple_methods\")[\"paid_total\"].mean()\n",
    "distinct_stds = df.groupby(\"is_multiple_methods\")[\"paid_total\"].std()\n",
    "distinct_counts = df.groupby(\"is_multiple_methods\")[\"paid_total\"].count()"
   ]
  },
  {
   "cell_type": "code",
   "execution_count": 120,
   "id": "97ac362f",
   "metadata": {},
   "outputs": [
    {
     "data": {
      "text/html": [
       "<div>\n",
       "<style scoped>\n",
       "    .dataframe tbody tr th:only-of-type {\n",
       "        vertical-align: middle;\n",
       "    }\n",
       "\n",
       "    .dataframe tbody tr th {\n",
       "        vertical-align: top;\n",
       "    }\n",
       "\n",
       "    .dataframe thead th {\n",
       "        text-align: right;\n",
       "    }\n",
       "</style>\n",
       "<table border=\"1\" class=\"dataframe\">\n",
       "  <thead>\n",
       "    <tr style=\"text-align: right;\">\n",
       "      <th></th>\n",
       "      <th>mean</th>\n",
       "      <th>std</th>\n",
       "      <th>count</th>\n",
       "    </tr>\n",
       "    <tr>\n",
       "      <th>is_multiple_methods</th>\n",
       "      <th></th>\n",
       "      <th></th>\n",
       "      <th></th>\n",
       "    </tr>\n",
       "  </thead>\n",
       "  <tbody>\n",
       "    <tr>\n",
       "      <th>No</th>\n",
       "      <td>161.223964</td>\n",
       "      <td>222.492419</td>\n",
       "      <td>97194</td>\n",
       "    </tr>\n",
       "    <tr>\n",
       "      <th>Yes</th>\n",
       "      <td>150.877199</td>\n",
       "      <td>196.893191</td>\n",
       "      <td>2246</td>\n",
       "    </tr>\n",
       "  </tbody>\n",
       "</table>\n",
       "</div>"
      ],
      "text/plain": [
       "                           mean         std  count\n",
       "is_multiple_methods                               \n",
       "No                   161.223964  222.492419  97194\n",
       "Yes                  150.877199  196.893191   2246"
      ]
     },
     "execution_count": 120,
     "metadata": {},
     "output_type": "execute_result"
    }
   ],
   "source": [
    "summary = pd.concat([distinct_means, distinct_stds, distinct_counts], axis=1)\n",
    "summary.columns = [\"mean\", \"std\", \"count\"]\n",
    "\n",
    "summary"
   ]
  },
  {
   "cell_type": "code",
   "execution_count": 118,
   "id": "3c846044",
   "metadata": {},
   "outputs": [
    {
     "name": "stdout",
     "output_type": "stream",
     "text": [
      "T-statistic: -2.4545047486818246, P-value: 0.007089514900739413, reject H0: True\n"
     ]
    }
   ],
   "source": [
    "t_stat, p_val = stats.ttest_ind(\n",
    "    df[df[\"is_multiple_methods\"] == \"Yes\"][\"paid_total\"],\n",
    "    df[df[\"is_multiple_methods\"] == \"No\"][\"paid_total\"],\n",
    "    equal_var=False,\n",
    "    alternative=\"less\"\n",
    ")\n",
    "\n",
    "print(f\"T-statistic: {t_stat}, P-value: {p_val}, reject H0: {p_val < alpha}\")"
   ]
  },
  {
   "cell_type": "markdown",
   "id": "25efbdd7",
   "metadata": {},
   "source": [
    "The average paid total on orders paid with 1 method of payment is higher than orders paid with multiple payment, with weak evidence"
   ]
  },
  {
   "cell_type": "markdown",
   "id": "08de56eb",
   "metadata": {},
   "source": [
    "# Key Insights and Recommendation"
   ]
  },
  {
   "cell_type": "markdown",
   "id": "f20a9768",
   "metadata": {},
   "source": [
    "## Key Insights"
   ]
  },
  {
   "cell_type": "markdown",
   "id": "fc0b41a3",
   "metadata": {},
   "source": [
    "1. Seasonality and Trends:\n",
    "    - There are significant variations in total revenue based on the month and day of the week.\n",
    "    - Although some months show higher revenue, the evidence is not strong enough to confirm specific months are better than others.\n",
    "    - For days however, there is a statistically significant evidence that Weekdays (Monday-Thursday) have a higher revenue than Weekends (Friday- Sunday)\n",
    "2. Top Products and Categories:\n",
    "    - Top products by revenue : Health and Beauty, Watches Gift, Bed Bath Table\n",
    "    - Top products by number of orders : Bed Bath Table, Health and Beauty, Sports Leisure\n",
    "    - Top products by number of units sold : Bed Bath Table, Health and Beauty, Sports Leisure\n",
    "    - The difference of rankings between performance by revenue and by quantities shows some categories generate revenue more one the price premium while some generate revenue by volume \n",
    "3. Order Payments Behaviour\n",
    "    - The average payment for an order is 160.99 with a 95% confidence interval between 160.4 and 161.5\n",
    "    - There is a strong evidence that orders paid in installments have a higher total payment than orders paid in single payment\n",
    "    - There is a weak evidence showing that orders "
   ]
  },
  {
   "cell_type": "markdown",
   "id": "042b021a",
   "metadata": {},
   "source": [
    "## Actionable Recommendations "
   ]
  },
  {
   "cell_type": "markdown",
   "id": "37851dd9",
   "metadata": {},
   "source": [
    "1. Exploit weekday strength\n",
    "    - Run targeted promotional campaigns Monday–Thursday. Weekdays show reliably higher daily revenue → higher chance promotions convert and produce incremental revenue.\n",
    "    - Create weekday-only promo codes (e.g., time-limited discounts, email pushes, flash bundles). and baseline campaign on weekends\n",
    "2. Tailor strategy per category\n",
    "    - Differentiate interventions based on whether category is price-driven (health_beauty, watches_gifts) or volume-driven (bed_bath_table).\n",
    "    - Price-driven categories: focus on premium merchandising, bundles, warranty/upsell (higher margin).\n",
    "    - Volume-driven categories: focus on cross-sell, volume discounts, buy-1-get-1, shipping thresholds to increase AOV (Average order value).\n",
    "3. Payments and Conversions \n",
    "    - Leverage installments to increase AOV. Customers who use installments spend more, consider promoting installment options for mid/high value carts.\n",
    "    - Multiple payment methods are used for some orders and show a small difference in order value. ensure reconciliation & fraud controls."
   ]
  },
  {
   "cell_type": "markdown",
   "id": "96697267",
   "metadata": {},
   "source": [
    "## Futurue Analysis"
   ]
  },
  {
   "cell_type": "markdown",
   "id": "8b519208",
   "metadata": {},
   "source": [
    "1. Customer Segmentation : Perform detailed segmentation to understand different customer groups and tailor strategies accordingly.\n",
    "2. Churn Analysis: Identify factors leading to customer churn and develop strategies to mitigate them.\n",
    "3. Customer Life Time Value : Estimate total revenue a business can expect from a single customer throughout their entire relationship.\n",
    "4. Recommenders : Create a system that can recommend customers the items based on their segment"
   ]
  }
 ],
 "metadata": {
  "kernelspec": {
   "display_name": "project1",
   "language": "python",
   "name": "python3"
  },
  "language_info": {
   "codemirror_mode": {
    "name": "ipython",
    "version": 3
   },
   "file_extension": ".py",
   "mimetype": "text/x-python",
   "name": "python",
   "nbconvert_exporter": "python",
   "pygments_lexer": "ipython3",
   "version": "3.10.18"
  }
 },
 "nbformat": 4,
 "nbformat_minor": 5
}
